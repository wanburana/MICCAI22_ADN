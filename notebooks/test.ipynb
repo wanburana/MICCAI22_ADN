{
 "cells": [
  {
   "cell_type": "code",
   "execution_count": 1,
   "metadata": {},
   "outputs": [
    {
     "name": "stderr",
     "output_type": "stream",
     "text": [
      "/root/projects/MICCAI22_ADN/venv/lib/python3.10/site-packages/tqdm/auto.py:21: TqdmWarning: IProgress not found. Please update jupyter and ipywidgets. See https://ipywidgets.readthedocs.io/en/stable/user_install.html\n",
      "  from .autonotebook import tqdm as notebook_tqdm\n"
     ]
    }
   ],
   "source": [
    "import SimpleITK as sitk\n",
    "from pathlib import Path\n",
    "from tqdm.auto import tqdm\n",
    "import glob\n",
    "import os"
   ]
  },
  {
   "cell_type": "code",
   "execution_count": 2,
   "metadata": {},
   "outputs": [
    {
     "data": {
      "text/plain": [
       "(52, 345)"
      ]
     },
     "execution_count": 2,
     "metadata": {},
     "output_type": "execute_result"
    }
   ],
   "source": [
    "\n",
    "\n",
    "ids = [x.split(\"/\")[-1] for x in glob.glob(\"../data/dicom-0/*\") if (\n",
    "    x.split(\"/\")[-1].startswith(\"0\") and\n",
    "    len(x.split(\"/\")[-1]) == 7\n",
    ")]\n",
    "\n",
    "\n",
    "test_ids = \"0073410, 0072723, 0226290, 0537908, 0538058, 0091415, 0538780, 0073540, 0226188, 0226258, 0226314, 0091507, 0226298, 0538975, 0226257, 0226142, 0072681, 0091538, 0538983, 0537961, 0091646, 0072765, 0226137, 0091621, 0091458, 0021822, 0538319, 0226133, 0091657, 0537925, 0073489, 0538502, 0091476, 0226136, 0538532, 0073312, 0539025, 0226309, 0226307, 0091383, 0021092, 0537990, 0226299, 0073060, 0538505, 0073424, 0091534, 0226125, 0072691, 0538425, 0226199, 0226261\"\n",
    "test_ids = test_ids.split(\", \")\n",
    "\n",
    "\n",
    "train_ids = set(ids) - set(test_ids)\n",
    "\n",
    "len(test_ids), len(train_ids)"
   ]
  },
  {
   "cell_type": "code",
   "execution_count": 3,
   "metadata": {},
   "outputs": [
    {
     "data": {
      "text/plain": [
       "{'0019983',\n",
       " '0021023',\n",
       " '0021061',\n",
       " '0041698',\n",
       " '0041699',\n",
       " '0072680',\n",
       " '0072682',\n",
       " '0072688',\n",
       " '0072693',\n",
       " '0072697',\n",
       " '0072729',\n",
       " '0072734',\n",
       " '0072752',\n",
       " '0072762',\n",
       " '0072776',\n",
       " '0072854',\n",
       " '0072864',\n",
       " '0072910',\n",
       " '0072916',\n",
       " '0072921',\n",
       " '0072946',\n",
       " '0072950',\n",
       " '0072961',\n",
       " '0072975',\n",
       " '0072984',\n",
       " '0073000',\n",
       " '0073007',\n",
       " '0073036',\n",
       " '0073048',\n",
       " '0073074',\n",
       " '0073100',\n",
       " '0073112',\n",
       " '0073160',\n",
       " '0073189',\n",
       " '0073207',\n",
       " '0073213',\n",
       " '0073226',\n",
       " '0073264',\n",
       " '0073278',\n",
       " '0073288',\n",
       " '0073299',\n",
       " '0073307',\n",
       " '0073318',\n",
       " '0073326',\n",
       " '0073338',\n",
       " '0073355',\n",
       " '0073366',\n",
       " '0073372',\n",
       " '0073379',\n",
       " '0073397',\n",
       " '0073441',\n",
       " '0073445',\n",
       " '0073465',\n",
       " '0073496',\n",
       " '0073517',\n",
       " '0073521',\n",
       " '0073523',\n",
       " '0073525',\n",
       " '0073526',\n",
       " '0073531',\n",
       " '0073533',\n",
       " '0073542',\n",
       " '0073543',\n",
       " '0074410',\n",
       " '0091366',\n",
       " '0091370',\n",
       " '0091371',\n",
       " '0091373',\n",
       " '0091374',\n",
       " '0091377',\n",
       " '0091379',\n",
       " '0091381',\n",
       " '0091386',\n",
       " '0091387',\n",
       " '0091388',\n",
       " '0091391',\n",
       " '0091392',\n",
       " '0091393',\n",
       " '0091394',\n",
       " '0091398',\n",
       " '0091400',\n",
       " '0091401',\n",
       " '0091402',\n",
       " '0091411',\n",
       " '0091419',\n",
       " '0091428',\n",
       " '0091430',\n",
       " '0091431',\n",
       " '0091433',\n",
       " '0091438',\n",
       " '0091439',\n",
       " '0091440',\n",
       " '0091442',\n",
       " '0091445',\n",
       " '0091449',\n",
       " '0091453',\n",
       " '0091454',\n",
       " '0091460',\n",
       " '0091465',\n",
       " '0091468',\n",
       " '0091472',\n",
       " '0091475',\n",
       " '0091483',\n",
       " '0091485',\n",
       " '0091488',\n",
       " '0091494',\n",
       " '0091495',\n",
       " '0091499',\n",
       " '0091503',\n",
       " '0091505',\n",
       " '0091515',\n",
       " '0091517',\n",
       " '0091519',\n",
       " '0091522',\n",
       " '0091523',\n",
       " '0091524',\n",
       " '0091527',\n",
       " '0091528',\n",
       " '0091529',\n",
       " '0091530',\n",
       " '0091531',\n",
       " '0091537',\n",
       " '0091544',\n",
       " '0091548',\n",
       " '0091551',\n",
       " '0091580',\n",
       " '0091586',\n",
       " '0091599',\n",
       " '0091609',\n",
       " '0091610',\n",
       " '0091611',\n",
       " '0091616',\n",
       " '0091625',\n",
       " '0091630',\n",
       " '0091633',\n",
       " '0091634',\n",
       " '0091641',\n",
       " '0091642',\n",
       " '0091644',\n",
       " '0091647',\n",
       " '0091649',\n",
       " '0091651',\n",
       " '0091652',\n",
       " '0091658',\n",
       " '0091659',\n",
       " '0091660',\n",
       " '0091661',\n",
       " '0091663',\n",
       " '0091664',\n",
       " '0091667',\n",
       " '0091671',\n",
       " '0091672',\n",
       " '0091674',\n",
       " '0091680',\n",
       " '0091683',\n",
       " '0091684',\n",
       " '0091685',\n",
       " '0091690',\n",
       " '0091691',\n",
       " '0091696',\n",
       " '0226120',\n",
       " '0226121',\n",
       " '0226122',\n",
       " '0226123',\n",
       " '0226124',\n",
       " '0226126',\n",
       " '0226128',\n",
       " '0226129',\n",
       " '0226130',\n",
       " '0226132',\n",
       " '0226135',\n",
       " '0226139',\n",
       " '0226141',\n",
       " '0226143',\n",
       " '0226179',\n",
       " '0226180',\n",
       " '0226181',\n",
       " '0226182',\n",
       " '0226183',\n",
       " '0226184',\n",
       " '0226185',\n",
       " '0226187',\n",
       " '0226190',\n",
       " '0226192',\n",
       " '0226194',\n",
       " '0226195',\n",
       " '0226197',\n",
       " '0226198',\n",
       " '0226200',\n",
       " '0226201',\n",
       " '0226202',\n",
       " '0226203',\n",
       " '0226204',\n",
       " '0226205',\n",
       " '0226206',\n",
       " '0226208',\n",
       " '0226249',\n",
       " '0226250',\n",
       " '0226251',\n",
       " '0226252',\n",
       " '0226253',\n",
       " '0226254',\n",
       " '0226255',\n",
       " '0226256',\n",
       " '0226259',\n",
       " '0226262',\n",
       " '0226263',\n",
       " '0226265',\n",
       " '0226266',\n",
       " '0226267',\n",
       " '0226268',\n",
       " '0226270',\n",
       " '0226271',\n",
       " '0226272',\n",
       " '0226273',\n",
       " '0226274',\n",
       " '0226275',\n",
       " '0226276',\n",
       " '0226279',\n",
       " '0226281',\n",
       " '0226282',\n",
       " '0226283',\n",
       " '0226284',\n",
       " '0226285',\n",
       " '0226286',\n",
       " '0226287',\n",
       " '0226288',\n",
       " '0226289',\n",
       " '0226292',\n",
       " '0226293',\n",
       " '0226294',\n",
       " '0226295',\n",
       " '0226296',\n",
       " '0226300',\n",
       " '0226301',\n",
       " '0226302',\n",
       " '0226303',\n",
       " '0226304',\n",
       " '0226305',\n",
       " '0226306',\n",
       " '0226308',\n",
       " '0226311',\n",
       " '0226313',\n",
       " '0226315',\n",
       " '0226316',\n",
       " '0226317',\n",
       " '0226318',\n",
       " '0226320',\n",
       " '0226321',\n",
       " '0537815',\n",
       " '0537818',\n",
       " '0537835',\n",
       " '0537847',\n",
       " '0537848',\n",
       " '0537854',\n",
       " '0537855',\n",
       " '0537861',\n",
       " '0537872',\n",
       " '0537878',\n",
       " '0537907',\n",
       " '0537917',\n",
       " '0537927',\n",
       " '0537930',\n",
       " '0537938',\n",
       " '0537947',\n",
       " '0537979',\n",
       " '0538003',\n",
       " '0538005',\n",
       " '0538016',\n",
       " '0538023',\n",
       " '0538035',\n",
       " '0538050',\n",
       " '0538067',\n",
       " '0538087',\n",
       " '0538108',\n",
       " '0538117',\n",
       " '0538129',\n",
       " '0538139',\n",
       " '0538179',\n",
       " '0538191',\n",
       " '0538251',\n",
       " '0538281',\n",
       " '0538315',\n",
       " '0538320',\n",
       " '0538344',\n",
       " '0538345',\n",
       " '0538363',\n",
       " '0538375',\n",
       " '0538400',\n",
       " '0538405',\n",
       " '0538447',\n",
       " '0538449',\n",
       " '0538453',\n",
       " '0538459',\n",
       " '0538479',\n",
       " '0538486',\n",
       " '0538525',\n",
       " '0538527',\n",
       " '0538539',\n",
       " '0538545',\n",
       " '0538549',\n",
       " '0538553',\n",
       " '0538563',\n",
       " '0538565',\n",
       " '0538568',\n",
       " '0538595',\n",
       " '0538597',\n",
       " '0538637',\n",
       " '0538651',\n",
       " '0538652',\n",
       " '0538673',\n",
       " '0538680',\n",
       " '0538682',\n",
       " '0538695',\n",
       " '0538705',\n",
       " '0538706',\n",
       " '0538724',\n",
       " '0538735',\n",
       " '0538749',\n",
       " '0538750',\n",
       " '0538762',\n",
       " '0538763',\n",
       " '0538774',\n",
       " '0538779',\n",
       " '0538792',\n",
       " '0538799',\n",
       " '0538805',\n",
       " '0538811',\n",
       " '0538833',\n",
       " '0538835',\n",
       " '0538895',\n",
       " '0538911',\n",
       " '0538919',\n",
       " '0538928',\n",
       " '0538941',\n",
       " '0538942',\n",
       " '0538948',\n",
       " '0538963',\n",
       " '0538971',\n",
       " '0538992',\n",
       " '0539001',\n",
       " '0539004',\n",
       " '0539021',\n",
       " '0539035',\n",
       " '0539043'}"
      ]
     },
     "execution_count": 3,
     "metadata": {},
     "output_type": "execute_result"
    }
   ],
   "source": [
    "train_ids"
   ]
  },
  {
   "cell_type": "code",
   "execution_count": 29,
   "metadata": {},
   "outputs": [
    {
     "name": "stderr",
     "output_type": "stream",
     "text": [
      "  0%|          | 0/397 [00:00<?, ?it/s]"
     ]
    },
    {
     "name": "stderr",
     "output_type": "stream",
     "text": [
      "  0%|          | 1/397 [00:00<00:40,  9.67it/s]WARNING: In /tmp/SimpleITK-build/ITK-prefix/include/ITK-5.3/itkImageSeriesReader.hxx, line 477\n",
      "ImageSeriesReader (0x55dd38689c50): Non uniform sampling or missing slices detected,  maximum nonuniformity:0.226133\n",
      "\n",
      "WARNING: In /tmp/SimpleITK-build/ITK-prefix/include/ITK-5.3/itkImageSeriesReader.hxx, line 477\n",
      "ImageSeriesReader (0x55dd38689c50): Non uniform sampling or missing slices detected,  maximum nonuniformity:0.188488\n",
      "\n",
      "  1%|          | 3/397 [00:00<01:04,  6.07it/s]WARNING: In /tmp/SimpleITK-build/ITK-prefix/include/ITK-5.3/itkImageSeriesReader.hxx, line 477\n",
      "ImageSeriesReader (0x55dd38689c50): Non uniform sampling or missing slices detected,  maximum nonuniformity:0.0366154\n",
      "\n",
      "  3%|▎         | 11/397 [00:01<00:49,  7.79it/s]WARNING: In /tmp/SimpleITK-build/ITK-prefix/include/ITK-5.3/itkImageSeriesReader.hxx, line 477\n",
      "ImageSeriesReader (0x55dd38689c50): Non uniform sampling or missing slices detected,  maximum nonuniformity:0.0236923\n",
      "\n",
      "WARNING: In /tmp/SimpleITK-build/ITK-prefix/include/ITK-5.3/itkImageSeriesReader.hxx, line 477\n",
      "ImageSeriesReader (0x55dd38689c50): Non uniform sampling or missing slices detected,  maximum nonuniformity:0.228308\n",
      "\n",
      "  3%|▎         | 13/397 [00:01<00:42,  8.93it/s]WARNING: In /tmp/SimpleITK-build/ITK-prefix/include/ITK-5.3/itkImageSeriesReader.hxx, line 477\n",
      "ImageSeriesReader (0x55dd38689c50): Non uniform sampling or missing slices detected,  maximum nonuniformity:0.0533333\n",
      "\n",
      "WARNING: In /tmp/SimpleITK-build/ITK-prefix/include/ITK-5.3/itkImageSeriesReader.hxx, line 477\n",
      "ImageSeriesReader (0x55dd38689c50): Non uniform sampling or missing slices detected,  maximum nonuniformity:0.120615\n",
      "\n",
      "  4%|▍         | 17/397 [00:02<00:37, 10.18it/s]WARNING: In /tmp/SimpleITK-build/ITK-prefix/include/ITK-5.3/itkImageSeriesReader.hxx, line 477\n",
      "ImageSeriesReader (0x55dd38689c50): Non uniform sampling or missing slices detected,  maximum nonuniformity:0.0538462\n",
      "\n",
      "  5%|▌         | 21/397 [00:02<00:34, 10.76it/s]WARNING: In /tmp/SimpleITK-build/ITK-prefix/include/ITK-5.3/itkImageSeriesReader.hxx, line 477\n",
      "ImageSeriesReader (0x55dd38689c50): Non uniform sampling or missing slices detected,  maximum nonuniformity:0.0538462\n",
      "\n",
      "  6%|▋         | 25/397 [00:03<00:48,  7.69it/s]WARNING: In /tmp/SimpleITK-build/ITK-prefix/include/ITK-5.3/itkImageSeriesReader.hxx, line 477\n",
      "ImageSeriesReader (0x55dd38689c50): Non uniform sampling or missing slices detected,  maximum nonuniformity:0.228308\n",
      "\n",
      " 14%|█▍        | 55/397 [00:06<00:52,  6.48it/s]WARNING: In /tmp/SimpleITK-build/ITK-prefix/include/ITK-5.3/itkImageSeriesReader.hxx, line 477\n",
      "ImageSeriesReader (0x55dd38689c50): Non uniform sampling or missing slices detected,  maximum nonuniformity:0.0832\n",
      "\n",
      " 15%|█▌        | 61/397 [00:07<00:37,  9.07it/s]WARNING: In /tmp/SimpleITK-build/ITK-prefix/include/ITK-5.3/itkImageSeriesReader.hxx, line 477\n",
      "ImageSeriesReader (0x55dd38689c50): Non uniform sampling or missing slices detected,  maximum nonuniformity:0.0366154\n",
      "\n",
      " 17%|█▋        | 67/397 [00:08<00:38,  8.63it/s]WARNING: In /tmp/SimpleITK-build/ITK-prefix/include/ITK-5.3/itkImageSeriesReader.hxx, line 477\n",
      "ImageSeriesReader (0x55dd38689c50): Non uniform sampling or missing slices detected,  maximum nonuniformity:0.180923\n",
      "\n",
      " 18%|█▊        | 71/397 [00:08<00:36,  8.87it/s]WARNING: In /tmp/SimpleITK-build/ITK-prefix/include/ITK-5.3/itkImageSeriesReader.hxx, line 477\n",
      "ImageSeriesReader (0x55dd38689c50): Non uniform sampling or missing slices detected,  maximum nonuniformity:0.0362667\n",
      "\n",
      " 19%|█▉        | 77/397 [00:09<00:50,  6.38it/s]WARNING: In /tmp/SimpleITK-build/ITK-prefix/include/ITK-5.3/itkImageSeriesReader.hxx, line 477\n",
      "ImageSeriesReader (0x55dd38689c50): Non uniform sampling or missing slices detected,  maximum nonuniformity:0.0129231\n",
      "\n",
      " 21%|██▏       | 85/397 [00:13<03:45,  1.38it/s]WARNING: In /tmp/SimpleITK-build/ITK-prefix/include/ITK-5.3/itkImageSeriesReader.hxx, line 477\n",
      "ImageSeriesReader (0x55dd38689c50): Non uniform sampling or missing slices detected,  maximum nonuniformity:0.0129231\n",
      "\n",
      " 22%|██▏       | 86/397 [00:13<03:13,  1.61it/s]WARNING: In /tmp/SimpleITK-build/ITK-prefix/include/ITK-5.3/itkImageSeriesReader.hxx, line 477\n",
      "ImageSeriesReader (0x55dd38689c50): Non uniform sampling or missing slices detected,  maximum nonuniformity:0.172308\n",
      "\n",
      " 26%|██▌       | 102/397 [00:21<01:31,  3.22it/s]WARNING: In /tmp/SimpleITK-build/ITK-prefix/include/ITK-5.3/itkImageSeriesReader.hxx, line 477\n",
      "ImageSeriesReader (0x55dd38689c50): Non uniform sampling or missing slices detected,  maximum nonuniformity:0.180923\n",
      "\n",
      " 27%|██▋       | 108/397 [00:22<00:53,  5.39it/s]WARNING: In /tmp/SimpleITK-build/ITK-prefix/include/ITK-5.3/itkImageSeriesReader.hxx, line 477\n",
      "ImageSeriesReader (0x55dd38689c50): Non uniform sampling or missing slices detected,  maximum nonuniformity:0.05392\n",
      "\n",
      " 28%|██▊       | 110/397 [00:23<00:44,  6.41it/s]WARNING: In /tmp/SimpleITK-build/ITK-prefix/include/ITK-5.3/itkImageSeriesReader.hxx, line 477\n",
      "ImageSeriesReader (0x55dd38689c50): Non uniform sampling or missing slices detected,  maximum nonuniformity:0.0538462\n",
      "\n",
      " 28%|██▊       | 112/397 [00:23<00:49,  5.80it/s]WARNING: In /tmp/SimpleITK-build/ITK-prefix/include/ITK-5.3/itkImageSeriesReader.hxx, line 477\n",
      "ImageSeriesReader (0x55dd38689c50): Non uniform sampling or missing slices detected,  maximum nonuniformity:0.215385\n",
      "\n",
      "WARNING: In /tmp/SimpleITK-build/ITK-prefix/include/ITK-5.3/itkImageSeriesReader.hxx, line 477\n",
      "ImageSeriesReader (0x55dd38689c50): Non uniform sampling or missing slices detected,  maximum nonuniformity:0.172308\n",
      "\n",
      " 29%|██▉       | 115/397 [00:23<00:42,  6.65it/s]WARNING: In /tmp/SimpleITK-build/ITK-prefix/include/ITK-5.3/itkImageSeriesReader.hxx, line 477\n",
      "ImageSeriesReader (0x55dd38689c50): Non uniform sampling or missing slices detected,  maximum nonuniformity:0.104348\n",
      "\n",
      " 29%|██▉       | 116/397 [00:24<00:42,  6.68it/s]WARNING: In /tmp/SimpleITK-build/ITK-prefix/include/ITK-5.3/itkImageSeriesReader.hxx, line 477\n",
      "ImageSeriesReader (0x55dd38689c50): Non uniform sampling or missing slices detected,  maximum nonuniformity:0.0664348\n",
      "\n",
      " 30%|███       | 120/397 [00:24<00:56,  4.90it/s]WARNING: In /tmp/SimpleITK-build/ITK-prefix/include/ITK-5.3/itkImageSeriesReader.hxx, line 477\n",
      "ImageSeriesReader (0x55dd38689c50): Non uniform sampling or missing slices detected,  maximum nonuniformity:0.0956522\n",
      "\n",
      " 30%|███       | 121/397 [00:25<00:58,  4.73it/s]WARNING: In /tmp/SimpleITK-build/ITK-prefix/include/ITK-5.3/itkImageSeriesReader.hxx, line 477\n",
      "ImageSeriesReader (0x55dd38689c50): Non uniform sampling or missing slices detected,  maximum nonuniformity:0.0913043\n",
      "\n",
      " 32%|███▏      | 126/397 [00:26<01:00,  4.51it/s]WARNING: In /tmp/SimpleITK-build/ITK-prefix/include/ITK-5.3/itkImageSeriesReader.hxx, line 477\n",
      "ImageSeriesReader (0x55dd38689c50): Non uniform sampling or missing slices detected,  maximum nonuniformity:0.0553171\n",
      "\n",
      " 32%|███▏      | 128/397 [00:26<00:50,  5.31it/s]WARNING: In /tmp/SimpleITK-build/ITK-prefix/include/ITK-5.3/itkImageSeriesReader.hxx, line 477\n",
      "ImageSeriesReader (0x55dd38689c50): Non uniform sampling or missing slices detected,  maximum nonuniformity:0.0443902\n",
      "\n",
      " 33%|███▎      | 130/397 [00:27<01:05,  4.11it/s]WARNING: In /tmp/SimpleITK-build/ITK-prefix/include/ITK-5.3/itkImageSeriesReader.hxx, line 477\n",
      "ImageSeriesReader (0x55dd38689c50): Non uniform sampling or missing slices detected,  maximum nonuniformity:0.23561\n",
      "\n",
      " 34%|███▍      | 136/397 [00:28<00:49,  5.27it/s]WARNING: In /tmp/SimpleITK-build/ITK-prefix/include/ITK-5.3/itkImageSeriesReader.hxx, line 477\n",
      "ImageSeriesReader (0x55dd38689c50): Non uniform sampling or missing slices detected,  maximum nonuniformity:0.0553171\n",
      "\n",
      " 35%|███▌      | 139/397 [00:29<01:12,  3.54it/s]WARNING: In /tmp/SimpleITK-build/ITK-prefix/include/ITK-5.3/itkImageSeriesReader.hxx, line 477\n",
      "ImageSeriesReader (0x55dd38689c50): Non uniform sampling or missing slices detected,  maximum nonuniformity:0.183652\n",
      "\n",
      " 37%|███▋      | 145/397 [00:30<01:26,  2.92it/s]WARNING: In /tmp/SimpleITK-build/ITK-prefix/include/ITK-5.3/itkImageSeriesReader.hxx, line 477\n",
      "ImageSeriesReader (0x55dd38689c50): Non uniform sampling or missing slices detected,  maximum nonuniformity:0.102435\n",
      "\n",
      " 37%|███▋      | 146/397 [00:31<01:17,  3.24it/s]WARNING: In /tmp/SimpleITK-build/ITK-prefix/include/ITK-5.3/itkImageSeriesReader.hxx, line 477\n",
      "ImageSeriesReader (0x55dd38689c50): Non uniform sampling or missing slices detected,  maximum nonuniformity:0.08304\n",
      "\n",
      " 38%|███▊      | 152/397 [00:32<00:44,  5.52it/s]WARNING: In /tmp/SimpleITK-build/ITK-prefix/include/ITK-5.3/itkImageSeriesReader.hxx, line 477\n",
      "ImageSeriesReader (0x55dd38689c50): Non uniform sampling or missing slices detected,  maximum nonuniformity:0.0443902\n",
      "\n",
      " 41%|████      | 163/397 [00:35<00:48,  4.78it/s]WARNING: In /tmp/SimpleITK-build/ITK-prefix/include/ITK-5.3/itkImageSeriesReader.hxx, line 477\n",
      "ImageSeriesReader (0x55dd38689c50): Non uniform sampling or missing slices detected,  maximum nonuniformity:0.273021\n",
      "\n",
      " 42%|████▏     | 167/397 [00:36<01:26,  2.67it/s]WARNING: In /tmp/SimpleITK-build/ITK-prefix/include/ITK-5.3/itkImageSeriesReader.hxx, line 477\n",
      "ImageSeriesReader (0x55dd38689c50): Non uniform sampling or missing slices detected,  maximum nonuniformity:0.286829\n",
      "\n",
      " 46%|████▋     | 184/397 [00:43<01:53,  1.88it/s]WARNING: In /tmp/SimpleITK-build/ITK-prefix/include/ITK-5.3/itkImageSeriesReader.hxx, line 477\n",
      "ImageSeriesReader (0x55dd38689c50): Non uniform sampling or missing slices detected,  maximum nonuniformity:0.0962963\n",
      "\n",
      " 47%|████▋     | 185/397 [00:43<01:38,  2.15it/s]WARNING: In /tmp/SimpleITK-build/ITK-prefix/include/ITK-5.3/itkImageSeriesReader.hxx, line 477\n",
      "ImageSeriesReader (0x55dd38689c50): Non uniform sampling or missing slices detected,  maximum nonuniformity:0.0544348\n",
      "\n",
      " 47%|████▋     | 186/397 [00:43<01:24,  2.50it/s]WARNING: In /tmp/SimpleITK-build/ITK-prefix/include/ITK-5.3/itkImageSeriesReader.hxx, line 477\n",
      "ImageSeriesReader (0x55dd38689c50): Non uniform sampling or missing slices detected,  maximum nonuniformity:0.0538462\n",
      "\n",
      "WARNING: In /tmp/SimpleITK-build/ITK-prefix/include/ITK-5.3/itkImageSeriesReader.hxx, line 477\n",
      "ImageSeriesReader (0x55dd38689c50): Non uniform sampling or missing slices detected,  maximum nonuniformity:0.191902\n",
      "\n",
      " 47%|████▋     | 188/397 [00:44<01:18,  2.65it/s]WARNING: In /tmp/SimpleITK-build/ITK-prefix/include/ITK-5.3/itkImageSeriesReader.hxx, line 477\n",
      "ImageSeriesReader (0x55dd38689c50): Non uniform sampling or missing slices detected,  maximum nonuniformity:0.096\n",
      "\n",
      " 48%|████▊     | 189/397 [00:44<01:14,  2.78it/s]WARNING: In /tmp/SimpleITK-build/ITK-prefix/include/ITK-5.3/itkImageSeriesReader.hxx, line 477\n",
      "ImageSeriesReader (0x55dd38689c50): Non uniform sampling or missing slices detected,  maximum nonuniformity:0.206261\n",
      "\n",
      " 48%|████▊     | 190/397 [00:45<01:23,  2.47it/s]WARNING: In /tmp/SimpleITK-build/ITK-prefix/include/ITK-5.3/itkImageSeriesReader.hxx, line 477\n",
      "ImageSeriesReader (0x55dd38689c50): Non uniform sampling or missing slices detected,  maximum nonuniformity:0.0538462\n",
      "\n",
      "WARNING: In /tmp/SimpleITK-build/ITK-prefix/include/ITK-5.3/itkImageSeriesReader.hxx, line 477\n",
      "ImageSeriesReader (0x55dd38689c50): Non uniform sampling or missing slices detected,  maximum nonuniformity:0.0710769\n",
      "\n",
      " 49%|████▊     | 193/397 [00:45<00:57,  3.56it/s]WARNING: In /tmp/SimpleITK-build/ITK-prefix/include/ITK-5.3/itkImageSeriesReader.hxx, line 477\n",
      "ImageSeriesReader (0x55dd38689c50): Non uniform sampling or missing slices detected,  maximum nonuniformity:0.180923\n",
      "\n",
      " 49%|████▉     | 195/397 [00:46<00:46,  4.32it/s]WARNING: In /tmp/SimpleITK-build/ITK-prefix/include/ITK-5.3/itkImageSeriesReader.hxx, line 477\n",
      "ImageSeriesReader (0x55dd38689c50): Non uniform sampling or missing slices detected,  maximum nonuniformity:0.156\n",
      "\n",
      " 50%|████▉     | 198/397 [00:47<01:21,  2.45it/s]WARNING: In /tmp/SimpleITK-build/ITK-prefix/include/ITK-5.3/itkImageSeriesReader.hxx, line 477\n",
      "ImageSeriesReader (0x55dd38689c50): Non uniform sampling or missing slices detected,  maximum nonuniformity:0.0956522\n",
      "\n",
      " 50%|█████     | 199/397 [00:48<01:11,  2.76it/s]WARNING: In /tmp/SimpleITK-build/ITK-prefix/include/ITK-5.3/itkImageSeriesReader.hxx, line 477\n",
      "ImageSeriesReader (0x55dd38689c50): Non uniform sampling or missing slices detected,  maximum nonuniformity:0.162957\n",
      "\n",
      " 50%|█████     | 200/397 [00:48<01:07,  2.94it/s]WARNING: In /tmp/SimpleITK-build/ITK-prefix/include/ITK-5.3/itkImageSeriesReader.hxx, line 477\n",
      "ImageSeriesReader (0x55dd38689c50): Non uniform sampling or missing slices detected,  maximum nonuniformity:0.342146\n",
      "\n",
      " 51%|█████     | 203/397 [00:50<01:53,  1.70it/s]WARNING: In /tmp/SimpleITK-build/ITK-prefix/include/ITK-5.3/itkImageSeriesReader.hxx, line 477\n",
      "ImageSeriesReader (0x55dd38689c50): Non uniform sampling or missing slices detected,  maximum nonuniformity:0.0538462\n",
      "\n",
      " 51%|█████▏    | 204/397 [00:50<01:25,  2.26it/s]WARNING: In /tmp/SimpleITK-build/ITK-prefix/include/ITK-5.3/itkImageSeriesReader.hxx, line 477\n",
      "ImageSeriesReader (0x55dd38689c50): Non uniform sampling or missing slices detected,  maximum nonuniformity:0.104348\n",
      "\n",
      " 52%|█████▏    | 205/397 [00:50<01:09,  2.76it/s]WARNING: In /tmp/SimpleITK-build/ITK-prefix/include/ITK-5.3/itkImageSeriesReader.hxx, line 477\n",
      "ImageSeriesReader (0x55dd38689c50): Non uniform sampling or missing slices detected,  maximum nonuniformity:0.0732308\n",
      "\n",
      " 52%|█████▏    | 208/397 [00:51<01:05,  2.87it/s]WARNING: In /tmp/SimpleITK-build/ITK-prefix/include/ITK-5.3/itkImageSeriesReader.hxx, line 477\n",
      "ImageSeriesReader (0x55dd38689c50): Non uniform sampling or missing slices detected,  maximum nonuniformity:0.133854\n",
      "\n",
      " 53%|█████▎    | 210/397 [00:52<01:06,  2.82it/s]WARNING: In /tmp/SimpleITK-build/ITK-prefix/include/ITK-5.3/itkImageSeriesReader.hxx, line 477\n",
      "ImageSeriesReader (0x55dd38689c50): Non uniform sampling or missing slices detected,  maximum nonuniformity:0.104348\n",
      "\n",
      " 54%|█████▎    | 213/397 [00:53<00:49,  3.74it/s]WARNING: In /tmp/SimpleITK-build/ITK-prefix/include/ITK-5.3/itkImageSeriesReader.hxx, line 477\n",
      "ImageSeriesReader (0x55dd38689c50): Non uniform sampling or missing slices detected,  maximum nonuniformity:0.104348\n",
      "\n",
      " 54%|█████▍    | 214/397 [00:53<00:53,  3.43it/s]WARNING: In /tmp/SimpleITK-build/ITK-prefix/include/ITK-5.3/itkImageSeriesReader.hxx, line 477\n",
      "ImageSeriesReader (0x55dd38689c50): Non uniform sampling or missing slices detected,  maximum nonuniformity:0.188488\n",
      "\n",
      " 54%|█████▍    | 216/397 [00:54<01:23,  2.16it/s]WARNING: In /tmp/SimpleITK-build/ITK-prefix/include/ITK-5.3/itkImageSeriesReader.hxx, line 477\n",
      "ImageSeriesReader (0x55dd38689c50): Non uniform sampling or missing slices detected,  maximum nonuniformity:0.103704\n",
      "\n",
      " 55%|█████▍    | 217/397 [00:55<01:16,  2.36it/s]WARNING: In /tmp/SimpleITK-build/ITK-prefix/include/ITK-5.3/itkImageSeriesReader.hxx, line 477\n",
      "ImageSeriesReader (0x55dd38689c50): Non uniform sampling or missing slices detected,  maximum nonuniformity:0.116098\n",
      "\n",
      " 55%|█████▌    | 220/397 [00:56<01:29,  1.98it/s]WARNING: In /tmp/SimpleITK-build/ITK-prefix/include/ITK-5.3/itkImageSeriesReader.hxx, line 477\n",
      "ImageSeriesReader (0x55dd38689c50): Non uniform sampling or missing slices detected,  maximum nonuniformity:0.0768696\n",
      "\n",
      " 56%|█████▌    | 221/397 [00:57<01:15,  2.32it/s]WARNING: In /tmp/SimpleITK-build/ITK-prefix/include/ITK-5.3/itkImageSeriesReader.hxx, line 477\n",
      "ImageSeriesReader (0x55dd38689c50): Non uniform sampling or missing slices detected,  maximum nonuniformity:0.104348\n",
      "\n",
      " 56%|█████▌    | 223/397 [00:57<00:54,  3.21it/s]WARNING: In /tmp/SimpleITK-build/ITK-prefix/include/ITK-5.3/itkImageSeriesReader.hxx, line 477\n",
      "ImageSeriesReader (0x55dd38689c50): Non uniform sampling or missing slices detected,  maximum nonuniformity:0.116098\n",
      "\n",
      " 56%|█████▋    | 224/397 [00:57<01:02,  2.76it/s]WARNING: In /tmp/SimpleITK-build/ITK-prefix/include/ITK-5.3/itkImageSeriesReader.hxx, line 477\n",
      "ImageSeriesReader (0x55dd38689c50): Non uniform sampling or missing slices detected,  maximum nonuniformity:0.00624\n",
      "\n",
      " 57%|█████▋    | 225/397 [00:58<01:09,  2.46it/s]WARNING: In /tmp/SimpleITK-build/ITK-prefix/include/ITK-5.3/itkImageSeriesReader.hxx, line 477\n",
      "ImageSeriesReader (0x55dd38689c50): Non uniform sampling or missing slices detected,  maximum nonuniformity:0.183652\n",
      "\n",
      " 57%|█████▋    | 226/397 [00:59<01:28,  1.93it/s]WARNING: In /tmp/SimpleITK-build/ITK-prefix/include/ITK-5.3/itkImageSeriesReader.hxx, line 477\n",
      "ImageSeriesReader (0x55dd38689c50): Non uniform sampling or missing slices detected,  maximum nonuniformity:0.279304\n",
      "\n",
      " 57%|█████▋    | 227/397 [00:59<01:18,  2.17it/s]WARNING: In /tmp/SimpleITK-build/ITK-prefix/include/ITK-5.3/itkImageSeriesReader.hxx, line 477\n",
      "ImageSeriesReader (0x55dd38689c50): Non uniform sampling or missing slices detected,  maximum nonuniformity:0.183652\n",
      "\n",
      " 57%|█████▋    | 228/397 [00:59<01:10,  2.41it/s]WARNING: In /tmp/SimpleITK-build/ITK-prefix/include/ITK-5.3/itkImageSeriesReader.hxx, line 477\n",
      "ImageSeriesReader (0x55dd38689c50): Non uniform sampling or missing slices detected,  maximum nonuniformity:0.0836522\n",
      "\n",
      " 58%|█████▊    | 230/397 [01:00<00:58,  2.85it/s]WARNING: In /tmp/SimpleITK-build/ITK-prefix/include/ITK-5.3/itkImageSeriesReader.hxx, line 477\n",
      "ImageSeriesReader (0x55dd38689c50): Non uniform sampling or missing slices detected,  maximum nonuniformity:0.0793043\n",
      "\n",
      " 58%|█████▊    | 231/397 [01:00<01:01,  2.71it/s]WARNING: In /tmp/SimpleITK-build/ITK-prefix/include/ITK-5.3/itkImageSeriesReader.hxx, line 477\n",
      "ImageSeriesReader (0x55dd38689c50): Non uniform sampling or missing slices detected,  maximum nonuniformity:0.0836522\n",
      "\n",
      " 58%|█████▊    | 232/397 [01:01<00:58,  2.82it/s]WARNING: In /tmp/SimpleITK-build/ITK-prefix/include/ITK-5.3/itkImageSeriesReader.hxx, line 477\n",
      "ImageSeriesReader (0x55dd38689c50): Non uniform sampling or missing slices detected,  maximum nonuniformity:0.188488\n",
      "\n",
      " 59%|█████▊    | 233/397 [01:01<01:08,  2.40it/s]WARNING: In /tmp/SimpleITK-build/ITK-prefix/include/ITK-5.3/itkImageSeriesReader.hxx, line 477\n",
      "ImageSeriesReader (0x55dd38689c50): Non uniform sampling or missing slices detected,  maximum nonuniformity:0.177391\n",
      "\n",
      " 59%|█████▉    | 234/397 [01:02<01:05,  2.48it/s]WARNING: In /tmp/SimpleITK-build/ITK-prefix/include/ITK-5.3/itkImageSeriesReader.hxx, line 477\n",
      "ImageSeriesReader (0x55dd38689c50): Non uniform sampling or missing slices detected,  maximum nonuniformity:0.154435\n",
      "\n",
      " 59%|█████▉    | 235/397 [01:02<01:01,  2.65it/s]WARNING: In /tmp/SimpleITK-build/ITK-prefix/include/ITK-5.3/itkImageSeriesReader.hxx, line 477\n",
      "ImageSeriesReader (0x55dd38689c50): Non uniform sampling or missing slices detected,  maximum nonuniformity:0.273854\n",
      "\n",
      " 60%|█████▉    | 238/397 [01:04<01:16,  2.09it/s]WARNING: In /tmp/SimpleITK-build/ITK-prefix/include/ITK-5.3/itkImageSeriesReader.hxx, line 477\n",
      "ImageSeriesReader (0x55dd38689c50): Non uniform sampling or missing slices detected,  maximum nonuniformity:0.0348293\n",
      "\n",
      " 61%|██████    | 242/397 [01:05<00:59,  2.60it/s]WARNING: In /tmp/SimpleITK-build/ITK-prefix/include/ITK-5.3/itkImageSeriesReader.hxx, line 477\n",
      "ImageSeriesReader (0x55dd38689c50): Non uniform sampling or missing slices detected,  maximum nonuniformity:0.0366154\n",
      "\n",
      " 63%|██████▎   | 249/397 [01:09<01:18,  1.88it/s]WARNING: In /tmp/SimpleITK-build/ITK-prefix/include/ITK-5.3/itkImageSeriesReader.hxx, line 477\n",
      "ImageSeriesReader (0x55dd38689c50): Non uniform sampling or missing slices detected,  maximum nonuniformity:0.0732308\n",
      "\n",
      " 68%|██████▊   | 269/397 [01:17<00:58,  2.17it/s]WARNING: In /tmp/SimpleITK-build/ITK-prefix/include/ITK-5.3/itkImageSeriesReader.hxx, line 477\n",
      "ImageSeriesReader (0x55dd38689c50): Non uniform sampling or missing slices detected,  maximum nonuniformity:0.148615\n",
      "\n",
      " 69%|██████▊   | 272/397 [01:18<00:39,  3.14it/s]WARNING: In /tmp/SimpleITK-build/ITK-prefix/include/ITK-5.3/itkImageSeriesReader.hxx, line 477\n",
      "ImageSeriesReader (0x55dd38689c50): Non uniform sampling or missing slices detected,  maximum nonuniformity:0.0938667\n",
      "\n",
      " 70%|██████▉   | 276/397 [01:20<01:11,  1.70it/s]WARNING: In /tmp/SimpleITK-build/ITK-prefix/include/ITK-5.3/itkImageSeriesReader.hxx, line 477\n",
      "ImageSeriesReader (0x55dd38689c50): Non uniform sampling or missing slices detected,  maximum nonuniformity:0.0732308\n",
      "\n",
      " 70%|██████▉   | 277/397 [01:20<00:55,  2.17it/s]WARNING: In /tmp/SimpleITK-build/ITK-prefix/include/ITK-5.3/itkImageSeriesReader.hxx, line 477\n",
      "ImageSeriesReader (0x55dd38689c50): Non uniform sampling or missing slices detected,  maximum nonuniformity:0.24128\n",
      "\n",
      " 72%|███████▏  | 287/397 [01:26<01:03,  1.74it/s]WARNING: In /tmp/SimpleITK-build/ITK-prefix/include/ITK-5.3/itkImageSeriesReader.hxx, line 477\n",
      "ImageSeriesReader (0x55dd38689c50): Non uniform sampling or missing slices detected,  maximum nonuniformity:0.183652\n",
      "\n",
      " 73%|███████▎  | 289/397 [01:27<00:44,  2.42it/s]WARNING: In /tmp/SimpleITK-build/ITK-prefix/include/ITK-5.3/itkImageSeriesReader.hxx, line 477\n",
      "ImageSeriesReader (0x55dd38689c50): Non uniform sampling or missing slices detected,  maximum nonuniformity:0.107692\n",
      "\n",
      " 73%|███████▎  | 291/397 [01:27<00:29,  3.60it/s]WARNING: In /tmp/SimpleITK-build/ITK-prefix/include/ITK-5.3/itkImageSeriesReader.hxx, line 477\n",
      "ImageSeriesReader (0x55dd38689c50): Non uniform sampling or missing slices detected,  maximum nonuniformity:0.23561\n",
      "\n",
      " 74%|███████▎  | 292/397 [01:28<00:40,  2.61it/s]WARNING: In /tmp/SimpleITK-build/ITK-prefix/include/ITK-5.3/itkImageSeriesReader.hxx, line 477\n",
      "ImageSeriesReader (0x55dd3983a450): Non uniform sampling or missing slices detected,  maximum nonuniformity:0.273854\n",
      "\n",
      " 74%|███████▍  | 293/397 [01:28<00:48,  2.15it/s]WARNING: In /tmp/SimpleITK-build/ITK-prefix/include/ITK-5.3/itkImageSeriesReader.hxx, line 477\n",
      "ImageSeriesReader (0x55dd3983a450): Non uniform sampling or missing slices detected,  maximum nonuniformity:0.109091\n",
      "\n",
      "WARNING: In /tmp/SimpleITK-build/ITK-prefix/include/ITK-5.3/itkImageSeriesReader.hxx, line 477\n",
      "ImageSeriesReader (0x55dd3983a450): Non uniform sampling or missing slices detected,  maximum nonuniformity:0.0348293\n",
      "\n",
      " 74%|███████▍  | 295/397 [01:29<00:37,  2.74it/s]WARNING: In /tmp/SimpleITK-build/ITK-prefix/include/ITK-5.3/itkImageSeriesReader.hxx, line 477\n",
      "ImageSeriesReader (0x55dd3983a450): Non uniform sampling or missing slices detected,  maximum nonuniformity:0.183652\n",
      "\n",
      " 75%|███████▍  | 296/397 [01:29<00:38,  2.62it/s]WARNING: In /tmp/SimpleITK-build/ITK-prefix/include/ITK-5.3/itkImageSeriesReader.hxx, line 477\n",
      "ImageSeriesReader (0x55dd3983a450): Non uniform sampling or missing slices detected,  maximum nonuniformity:0.183652\n",
      "\n",
      " 75%|███████▍  | 297/397 [01:29<00:32,  3.05it/s]WARNING: In /tmp/SimpleITK-build/ITK-prefix/include/ITK-5.3/itkImageSeriesReader.hxx, line 477\n",
      "ImageSeriesReader (0x55dd3983a450): Non uniform sampling or missing slices detected,  maximum nonuniformity:0.0909091\n",
      "\n",
      " 75%|███████▌  | 298/397 [01:29<00:27,  3.64it/s]WARNING: In /tmp/SimpleITK-build/ITK-prefix/include/ITK-5.3/itkImageSeriesReader.hxx, line 477\n",
      "ImageSeriesReader (0x55dd3983a450): Non uniform sampling or missing slices detected,  maximum nonuniformity:0.109091\n",
      "\n",
      "WARNING: In /tmp/SimpleITK-build/ITK-prefix/include/ITK-5.3/itkImageSeriesReader.hxx, line 477\n",
      "ImageSeriesReader (0x55dd3983a450): Non uniform sampling or missing slices detected,  maximum nonuniformity:0.11678\n",
      "\n",
      " 76%|███████▌  | 300/397 [01:30<00:23,  4.21it/s]WARNING: In /tmp/SimpleITK-build/ITK-prefix/include/ITK-5.3/itkImageSeriesReader.hxx, line 477\n",
      "ImageSeriesReader (0x55dd3983a450): Non uniform sampling or missing slices detected,  maximum nonuniformity:0.183652\n",
      "\n",
      " 76%|███████▌  | 302/397 [01:31<00:31,  3.00it/s]WARNING: In /tmp/SimpleITK-build/ITK-prefix/include/ITK-5.3/itkImageSeriesReader.hxx, line 477\n",
      "ImageSeriesReader (0x55dd3983a450): Non uniform sampling or missing slices detected,  maximum nonuniformity:0.0909091\n",
      "\n",
      "WARNING: In /tmp/SimpleITK-build/ITK-prefix/include/ITK-5.3/itkImageSeriesReader.hxx, line 477\n",
      "ImageSeriesReader (0x55dd3983a450): Non uniform sampling or missing slices detected,  maximum nonuniformity:0.307317\n",
      "\n",
      " 77%|███████▋  | 304/397 [01:31<00:25,  3.60it/s]WARNING: In /tmp/SimpleITK-build/ITK-prefix/include/ITK-5.3/itkImageSeriesReader.hxx, line 477\n",
      "ImageSeriesReader (0x55dd3983a450): Non uniform sampling or missing slices detected,  maximum nonuniformity:0.0909091\n",
      "\n",
      " 77%|███████▋  | 305/397 [01:31<00:22,  4.10it/s]WARNING: In /tmp/SimpleITK-build/ITK-prefix/include/ITK-5.3/itkImageSeriesReader.hxx, line 477\n",
      "ImageSeriesReader (0x55dd3983a450): Non uniform sampling or missing slices detected,  maximum nonuniformity:0.109091\n",
      "\n",
      " 78%|███████▊  | 308/397 [01:33<00:35,  2.49it/s]WARNING: In /tmp/SimpleITK-build/ITK-prefix/include/ITK-5.3/itkImageSeriesReader.hxx, line 477\n",
      "ImageSeriesReader (0x55dd3983a450): Non uniform sampling or missing slices detected,  maximum nonuniformity:0.0793043\n",
      "\n",
      " 78%|███████▊  | 310/397 [01:33<00:28,  3.02it/s]WARNING: In /tmp/SimpleITK-build/ITK-prefix/include/ITK-5.3/itkImageSeriesReader.hxx, line 477\n",
      "ImageSeriesReader (0x55dd3983a450): Non uniform sampling or missing slices detected,  maximum nonuniformity:0.109091\n",
      "\n",
      " 78%|███████▊  | 311/397 [01:33<00:23,  3.64it/s]WARNING: In /tmp/SimpleITK-build/ITK-prefix/include/ITK-5.3/itkImageSeriesReader.hxx, line 477\n",
      "ImageSeriesReader (0x55dd3983a450): Non uniform sampling or missing slices detected,  maximum nonuniformity:0.0909091\n",
      "\n",
      " 79%|███████▉  | 313/397 [01:34<00:22,  3.75it/s]WARNING: In /tmp/SimpleITK-build/ITK-prefix/include/ITK-5.3/itkImageSeriesReader.hxx, line 477\n",
      "ImageSeriesReader (0x55dd3983a450): Non uniform sampling or missing slices detected,  maximum nonuniformity:0.191667\n",
      "\n",
      " 79%|███████▉  | 315/397 [01:34<00:26,  3.12it/s]WARNING: In /tmp/SimpleITK-build/ITK-prefix/include/ITK-5.3/itkImageSeriesReader.hxx, line 477\n",
      "ImageSeriesReader (0x55dd3983a450): Non uniform sampling or missing slices detected,  maximum nonuniformity:0.09\n",
      "\n",
      " 80%|███████▉  | 317/397 [01:35<00:21,  3.78it/s]WARNING: In /tmp/SimpleITK-build/ITK-prefix/include/ITK-5.3/itkImageSeriesReader.hxx, line 477\n",
      "ImageSeriesReader (0x55dd3983a450): Non uniform sampling or missing slices detected,  maximum nonuniformity:0.188488\n",
      "\n",
      " 81%|████████  | 320/397 [01:37<00:37,  2.07it/s]WARNING: In /tmp/SimpleITK-build/ITK-prefix/include/ITK-5.3/itkImageSeriesReader.hxx, line 477\n",
      "ImageSeriesReader (0x55dd3983a450): Non uniform sampling or missing slices detected,  maximum nonuniformity:0.188488\n",
      "\n",
      " 82%|████████▏ | 324/397 [01:39<00:30,  2.37it/s]WARNING: In /tmp/SimpleITK-build/ITK-prefix/include/ITK-5.3/itkImageSeriesReader.hxx, line 477\n",
      "ImageSeriesReader (0x55dd3983a450): Non uniform sampling or missing slices detected,  maximum nonuniformity:0.190909\n",
      "\n",
      "WARNING: In /tmp/SimpleITK-build/ITK-prefix/include/ITK-5.3/itkImageSeriesReader.hxx, line 477\n",
      "ImageSeriesReader (0x55dd3983a450): Non uniform sampling or missing slices detected,  maximum nonuniformity:0.0909091\n",
      "\n",
      " 82%|████████▏ | 326/397 [01:39<00:19,  3.64it/s]WARNING: In /tmp/SimpleITK-build/ITK-prefix/include/ITK-5.3/itkImageSeriesReader.hxx, line 477\n",
      "ImageSeriesReader (0x55dd3983a450): Non uniform sampling or missing slices detected,  maximum nonuniformity:0.09\n",
      "\n",
      " 83%|████████▎ | 328/397 [01:40<00:21,  3.27it/s]WARNING: In /tmp/SimpleITK-build/ITK-prefix/include/ITK-5.3/itkImageSeriesReader.hxx, line 477\n",
      "ImageSeriesReader (0x55dd3983a450): Non uniform sampling or missing slices detected,  maximum nonuniformity:0.183652\n",
      "\n",
      " 83%|████████▎ | 330/397 [01:40<00:20,  3.32it/s]WARNING: In /tmp/SimpleITK-build/ITK-prefix/include/ITK-5.3/itkImageSeriesReader.hxx, line 477\n",
      "ImageSeriesReader (0x55dd3983a450): Non uniform sampling or missing slices detected,  maximum nonuniformity:0.0450732\n",
      "\n",
      " 84%|████████▎ | 332/397 [01:41<00:28,  2.28it/s]WARNING: In /tmp/SimpleITK-build/ITK-prefix/include/ITK-5.3/itkImageSeriesReader.hxx, line 477\n",
      "ImageSeriesReader (0x55dd3983a450): Non uniform sampling or missing slices detected,  maximum nonuniformity:0.0348293\n",
      "\n",
      " 84%|████████▍ | 333/397 [01:42<00:31,  2.00it/s]WARNING: In /tmp/SimpleITK-build/ITK-prefix/include/ITK-5.3/itkImageSeriesReader.hxx, line 477\n",
      "ImageSeriesReader (0x55dd3983a450): Non uniform sampling or missing slices detected,  maximum nonuniformity:0.0909091\n",
      "\n",
      " 84%|████████▍ | 334/397 [01:42<00:26,  2.40it/s]WARNING: In /tmp/SimpleITK-build/ITK-prefix/include/ITK-5.3/itkImageSeriesReader.hxx, line 477\n",
      "ImageSeriesReader (0x55dd3983a450): Non uniform sampling or missing slices detected,  maximum nonuniformity:0.0909091\n",
      "\n",
      " 84%|████████▍ | 335/397 [01:42<00:20,  3.02it/s]WARNING: In /tmp/SimpleITK-build/ITK-prefix/include/ITK-5.3/itkImageSeriesReader.hxx, line 477\n",
      "ImageSeriesReader (0x55dd3983a450): Non uniform sampling or missing slices detected,  maximum nonuniformity:0.0348293\n",
      "\n",
      " 85%|████████▍ | 336/397 [01:43<00:29,  2.08it/s]WARNING: In /tmp/SimpleITK-build/ITK-prefix/include/ITK-5.3/itkImageSeriesReader.hxx, line 477\n",
      "ImageSeriesReader (0x55dd3983a450): Non uniform sampling or missing slices detected,  maximum nonuniformity:0.0836522\n",
      "\n",
      " 85%|████████▍ | 337/397 [01:43<00:26,  2.31it/s]WARNING: In /tmp/SimpleITK-build/ITK-prefix/include/ITK-5.3/itkImageSeriesReader.hxx, line 477\n",
      "ImageSeriesReader (0x55dd3983a450): Non uniform sampling or missing slices detected,  maximum nonuniformity:0.221217\n",
      "\n",
      " 85%|████████▌ | 339/397 [01:44<00:21,  2.68it/s]WARNING: In /tmp/SimpleITK-build/ITK-prefix/include/ITK-5.3/itkImageSeriesReader.hxx, line 477\n",
      "ImageSeriesReader (0x55dd3983a450): Non uniform sampling or missing slices detected,  maximum nonuniformity:0.342146\n",
      "\n",
      " 86%|████████▌ | 341/397 [01:45<00:21,  2.64it/s]WARNING: In /tmp/SimpleITK-build/ITK-prefix/include/ITK-5.3/itkImageSeriesReader.hxx, line 477\n",
      "ImageSeriesReader (0x55dd3983a450): Non uniform sampling or missing slices detected,  maximum nonuniformity:0.146435\n",
      "\n",
      " 86%|████████▌ | 342/397 [01:45<00:19,  2.86it/s]WARNING: In /tmp/SimpleITK-build/ITK-prefix/include/ITK-5.3/itkImageSeriesReader.hxx, line 477\n",
      "ImageSeriesReader (0x55dd3983a450): Non uniform sampling or missing slices detected,  maximum nonuniformity:0.0909091\n",
      "\n",
      " 86%|████████▋ | 343/397 [01:45<00:14,  3.60it/s]WARNING: In /tmp/SimpleITK-build/ITK-prefix/include/ITK-5.3/itkImageSeriesReader.hxx, line 477\n",
      "ImageSeriesReader (0x55dd3983a450): Non uniform sampling or missing slices detected,  maximum nonuniformity:0.144571\n",
      "\n",
      " 87%|████████▋ | 344/397 [01:46<00:18,  2.84it/s]WARNING: In /tmp/SimpleITK-build/ITK-prefix/include/ITK-5.3/itkImageSeriesReader.hxx, line 477\n",
      "ImageSeriesReader (0x55dd3983a450): Non uniform sampling or missing slices detected,  maximum nonuniformity:0.342146\n",
      "\n",
      " 87%|████████▋ | 346/397 [01:47<00:21,  2.42it/s]WARNING: In /tmp/SimpleITK-build/ITK-prefix/include/ITK-5.3/itkImageSeriesReader.hxx, line 477\n",
      "ImageSeriesReader (0x55dd3983a450): Non uniform sampling or missing slices detected,  maximum nonuniformity:0.0793043\n",
      "\n",
      " 87%|████████▋ | 347/397 [01:48<00:26,  1.90it/s]WARNING: In /tmp/SimpleITK-build/ITK-prefix/include/ITK-5.3/itkImageSeriesReader.hxx, line 477\n",
      "ImageSeriesReader (0x55dd3983a450): Non uniform sampling or missing slices detected,  maximum nonuniformity:0.109091\n",
      "\n",
      "WARNING: In /tmp/SimpleITK-build/ITK-prefix/include/ITK-5.3/itkImageSeriesReader.hxx, line 477\n",
      "ImageSeriesReader (0x55dd3983a450): Non uniform sampling or missing slices detected,  maximum nonuniformity:0.183652\n",
      "\n",
      " 88%|████████▊ | 349/397 [01:48<00:16,  2.89it/s]WARNING: In /tmp/SimpleITK-build/ITK-prefix/include/ITK-5.3/itkImageSeriesReader.hxx, line 477\n",
      "ImageSeriesReader (0x55dd3983a450): Non uniform sampling or missing slices detected,  maximum nonuniformity:0.361951\n",
      "\n",
      " 88%|████████▊ | 350/397 [01:48<00:15,  2.95it/s]WARNING: In /tmp/SimpleITK-build/ITK-prefix/include/ITK-5.3/itkImageSeriesReader.hxx, line 477\n",
      "ImageSeriesReader (0x55dd3983a450): Non uniform sampling or missing slices detected,  maximum nonuniformity:0.0909091\n",
      "\n",
      " 89%|████████▊ | 352/397 [01:49<00:12,  3.48it/s]WARNING: In /tmp/SimpleITK-build/ITK-prefix/include/ITK-5.3/itkImageSeriesReader.hxx, line 477\n",
      "ImageSeriesReader (0x55dd3983a450): Non uniform sampling or missing slices detected,  maximum nonuniformity:0.147512\n",
      "\n",
      " 90%|████████▉ | 356/397 [01:50<00:10,  3.75it/s]WARNING: In /tmp/SimpleITK-build/ITK-prefix/include/ITK-5.3/itkImageSeriesReader.hxx, line 477\n",
      "ImageSeriesReader (0x55dd3983a450): Non uniform sampling or missing slices detected,  maximum nonuniformity:0.0204878\n",
      "\n",
      " 90%|█████████ | 358/397 [01:50<00:08,  4.68it/s]WARNING: In /tmp/SimpleITK-build/ITK-prefix/include/ITK-5.3/itkImageSeriesReader.hxx, line 477\n",
      "ImageSeriesReader (0x55dd3983a450): Non uniform sampling or missing slices detected,  maximum nonuniformity:0.028\n",
      "\n",
      "WARNING: In /tmp/SimpleITK-build/ITK-prefix/include/ITK-5.3/itkImageSeriesReader.hxx, line 477\n",
      "ImageSeriesReader (0x55dd3983a450): Non uniform sampling or missing slices detected,  maximum nonuniformity:0.109091\n",
      "\n",
      " 91%|█████████ | 360/397 [01:50<00:05,  6.25it/s]WARNING: In /tmp/SimpleITK-build/ITK-prefix/include/ITK-5.3/itkImageSeriesReader.hxx, line 477\n",
      "ImageSeriesReader (0x55dd3983a450): Non uniform sampling or missing slices detected,  maximum nonuniformity:0.109091\n",
      "\n",
      " 91%|█████████ | 362/397 [01:50<00:05,  6.44it/s]WARNING: In /tmp/SimpleITK-build/ITK-prefix/include/ITK-5.3/itkImageSeriesReader.hxx, line 477\n",
      "ImageSeriesReader (0x55dd3983a450): Non uniform sampling or missing slices detected,  maximum nonuniformity:0.0909091\n",
      "\n",
      " 92%|█████████▏| 364/397 [01:51<00:04,  7.48it/s]WARNING: In /tmp/SimpleITK-build/ITK-prefix/include/ITK-5.3/itkImageSeriesReader.hxx, line 477\n",
      "ImageSeriesReader (0x55dd3983a450): Non uniform sampling or missing slices detected,  maximum nonuniformity:0.23561\n",
      "\n",
      " 92%|█████████▏| 365/397 [01:51<00:04,  6.74it/s]WARNING: In /tmp/SimpleITK-build/ITK-prefix/include/ITK-5.3/itkImageSeriesReader.hxx, line 477\n",
      "ImageSeriesReader (0x55dd3983a450): Non uniform sampling or missing slices detected,  maximum nonuniformity:0.0947692\n",
      "\n",
      "WARNING: In /tmp/SimpleITK-build/ITK-prefix/include/ITK-5.3/itkImageSeriesReader.hxx, line 477\n",
      "ImageSeriesReader (0x55dd3983a450): Non uniform sampling or missing slices detected,  maximum nonuniformity:0.0909091\n",
      "\n",
      " 92%|█████████▏| 367/397 [01:51<00:03,  8.29it/s]WARNING: In /tmp/SimpleITK-build/ITK-prefix/include/ITK-5.3/itkImageSeriesReader.hxx, line 477\n",
      "ImageSeriesReader (0x55dd3983a450): Non uniform sampling or missing slices detected,  maximum nonuniformity:0.152923\n",
      "\n",
      " 93%|█████████▎| 370/397 [01:52<00:05,  5.38it/s]WARNING: In /tmp/SimpleITK-build/ITK-prefix/include/ITK-5.3/itkImageSeriesReader.hxx, line 477\n",
      "ImageSeriesReader (0x55dd3983a450): Non uniform sampling or missing slices detected,  maximum nonuniformity:0.109091\n",
      "\n",
      "WARNING: In /tmp/SimpleITK-build/ITK-prefix/include/ITK-5.3/itkImageSeriesReader.hxx, line 477\n",
      "ImageSeriesReader (0x55dd3983a450): Non uniform sampling or missing slices detected,  maximum nonuniformity:0.109091\n",
      "\n",
      " 94%|█████████▎| 372/397 [01:52<00:03,  6.98it/s]WARNING: In /tmp/SimpleITK-build/ITK-prefix/include/ITK-5.3/itkImageSeriesReader.hxx, line 477\n",
      "ImageSeriesReader (0x55dd3983a450): Non uniform sampling or missing slices detected,  maximum nonuniformity:0.191902\n",
      "\n",
      " 94%|█████████▍| 373/397 [01:52<00:04,  5.95it/s]WARNING: In /tmp/SimpleITK-build/ITK-prefix/include/ITK-5.3/itkImageSeriesReader.hxx, line 477\n",
      "ImageSeriesReader (0x55dd3983a450): Non uniform sampling or missing slices detected,  maximum nonuniformity:0.191902\n",
      "\n",
      " 94%|█████████▍| 375/397 [01:53<00:04,  4.91it/s]WARNING: In /tmp/SimpleITK-build/ITK-prefix/include/ITK-5.3/itkImageSeriesReader.hxx, line 477\n",
      "ImageSeriesReader (0x55dd3983a450): Non uniform sampling or missing slices detected,  maximum nonuniformity:0.09\n",
      "\n",
      " 95%|█████████▍| 377/397 [01:53<00:03,  5.27it/s]WARNING: In /tmp/SimpleITK-build/ITK-prefix/include/ITK-5.3/itkImageSeriesReader.hxx, line 477\n",
      "ImageSeriesReader (0x55dd3983a450): Non uniform sampling or missing slices detected,  maximum nonuniformity:0.190909\n",
      "\n",
      " 96%|█████████▌| 380/397 [01:53<00:02,  5.69it/s]WARNING: In /tmp/SimpleITK-build/ITK-prefix/include/ITK-5.3/itkImageSeriesReader.hxx, line 477\n",
      "ImageSeriesReader (0x55dd3983a450): Non uniform sampling or missing slices detected,  maximum nonuniformity:0.180923\n",
      "\n",
      " 96%|█████████▌| 381/397 [01:54<00:02,  6.25it/s]WARNING: In /tmp/SimpleITK-build/ITK-prefix/include/ITK-5.3/itkImageSeriesReader.hxx, line 477\n",
      "ImageSeriesReader (0x55dd3983a450): Non uniform sampling or missing slices detected,  maximum nonuniformity:0.23561\n",
      "\n",
      " 96%|█████████▌| 382/397 [01:54<00:02,  5.50it/s]WARNING: In /tmp/SimpleITK-build/ITK-prefix/include/ITK-5.3/itkImageSeriesReader.hxx, line 477\n",
      "ImageSeriesReader (0x55dd3983a450): Non uniform sampling or missing slices detected,  maximum nonuniformity:0.109091\n",
      "\n",
      "WARNING: In /tmp/SimpleITK-build/ITK-prefix/include/ITK-5.3/itkImageSeriesReader.hxx, line 477\n",
      "ImageSeriesReader (0x55dd3983a450): Non uniform sampling or missing slices detected,  maximum nonuniformity:0.0710769\n",
      "\n",
      " 97%|█████████▋| 384/397 [01:54<00:01,  6.87it/s]WARNING: In /tmp/SimpleITK-build/ITK-prefix/include/ITK-5.3/itkImageSeriesReader.hxx, line 477\n",
      "ImageSeriesReader (0x55dd3983a450): Non uniform sampling or missing slices detected,  maximum nonuniformity:0.0236923\n",
      "\n",
      " 97%|█████████▋| 386/397 [01:54<00:01,  7.39it/s]WARNING: In /tmp/SimpleITK-build/ITK-prefix/include/ITK-5.3/itkImageSeriesReader.hxx, line 477\n",
      "ImageSeriesReader (0x55dd3983a450): Non uniform sampling or missing slices detected,  maximum nonuniformity:0.188488\n",
      "\n",
      " 97%|█████████▋| 387/397 [01:54<00:01,  6.25it/s]WARNING: In /tmp/SimpleITK-build/ITK-prefix/include/ITK-5.3/itkImageSeriesReader.hxx, line 477\n",
      "ImageSeriesReader (0x55dd3983a450): Non uniform sampling or missing slices detected,  maximum nonuniformity:0.109091\n",
      "\n",
      "WARNING: In /tmp/SimpleITK-build/ITK-prefix/include/ITK-5.3/itkImageSeriesReader.hxx, line 477\n",
      "ImageSeriesReader (0x55dd3983a450): Non uniform sampling or missing slices detected,  maximum nonuniformity:0.0909091\n",
      "\n",
      " 98%|█████████▊| 389/397 [01:55<00:01,  7.27it/s]WARNING: In /tmp/SimpleITK-build/ITK-prefix/include/ITK-5.3/itkImageSeriesReader.hxx, line 477\n",
      "ImageSeriesReader (0x55dd3983a450): Non uniform sampling or missing slices detected,  maximum nonuniformity:0.286829\n",
      "\n",
      " 98%|█████████▊| 390/397 [01:55<00:01,  5.68it/s]WARNING: In /tmp/SimpleITK-build/ITK-prefix/include/ITK-5.3/itkImageSeriesReader.hxx, line 477\n",
      "ImageSeriesReader (0x55dd3983a450): Non uniform sampling or missing slices detected,  maximum nonuniformity:0.0553171\n",
      "\n",
      " 98%|█████████▊| 391/397 [01:55<00:01,  4.94it/s]WARNING: In /tmp/SimpleITK-build/ITK-prefix/include/ITK-5.3/itkImageSeriesReader.hxx, line 477\n",
      "ImageSeriesReader (0x55dd3983a450): Non uniform sampling or missing slices detected,  maximum nonuniformity:0.147512\n",
      "\n",
      " 99%|█████████▊| 392/397 [01:56<00:01,  4.67it/s]WARNING: In /tmp/SimpleITK-build/ITK-prefix/include/ITK-5.3/itkImageSeriesReader.hxx, line 477\n",
      "ImageSeriesReader (0x55dd3983a450): Non uniform sampling or missing slices detected,  maximum nonuniformity:0.109846\n",
      "\n",
      "WARNING: In /tmp/SimpleITK-build/ITK-prefix/include/ITK-5.3/itkImageSeriesReader.hxx, line 477\n",
      "ImageSeriesReader (0x55dd3983a450): Non uniform sampling or missing slices detected,  maximum nonuniformity:0.0909091\n",
      "\n",
      " 99%|█████████▉| 395/397 [01:56<00:00,  5.59it/s]WARNING: In /tmp/SimpleITK-build/ITK-prefix/include/ITK-5.3/itkImageSeriesReader.hxx, line 477\n",
      "ImageSeriesReader (0x55dd3983a450): Non uniform sampling or missing slices detected,  maximum nonuniformity:0.0909091\n",
      "\n",
      "WARNING: In /tmp/SimpleITK-build/ITK-prefix/include/ITK-5.3/itkImageSeriesReader.hxx, line 477\n",
      "ImageSeriesReader (0x55dd3983a450): Non uniform sampling or missing slices detected,  maximum nonuniformity:0.0193846\n",
      "\n",
      "100%|██████████| 397/397 [01:56<00:00,  3.40it/s]\n"
     ]
    }
   ],
   "source": [
    "\n",
    "\n",
    "SRC_MASK_DIR = \"../data/mask\"\n",
    "\n",
    "TARGET_DIR = \"../data/nifti\"\n",
    "\n",
    "for dicom_directory in tqdm(sorted(glob.glob(\"../data/dicom-0/*/CT\"))):\n",
    "    id = dicom_directory.split(\"/\")[-2]\n",
    "    target_id_dir = Path(os.path.join(TARGET_DIR, id))\n",
    "    Path.mkdir(target_id_dir, parents=True, exist_ok=True)\n",
    "\n",
    "    ct_reader = sitk.ImageSeriesReader()\n",
    "    dicom_names = ct_reader.GetGDCMSeriesFileNames(dicom_directory)\n",
    "    ct_reader.SetFileNames(dicom_names)\n",
    "    ct_image = ct_reader.Execute()\n",
    "\n",
    "    sitk.WriteImage(ct_image, os.path.join(target_id_dir, f'CT.nii'))\n",
    "\n",
    "    src_mask_id_dir = os.path.join(SRC_MASK_DIR, id)\n",
    "\n",
    "    mask_filepaths = sorted(glob.glob(os.path.join(src_mask_id_dir, '*.png')))\n",
    "    mask_reader = sitk.ImageSeriesReader()\n",
    "    mask_reader.SetFileNames(mask_filepaths)\n",
    "    mask_image = mask_reader.Execute()\n",
    "\n",
    "    mask_image.CopyInformation(ct_image)\n",
    "    sitk.WriteImage(mask_image, os.path.join(target_id_dir, f'mask.nii'))"
   ]
  },
  {
   "cell_type": "code",
   "execution_count": 8,
   "metadata": {},
   "outputs": [
    {
     "name": "stdout",
     "output_type": "stream",
     "text": [
      "MONAI version: 1.4.dev2405\n",
      "Numpy version: 1.26.3\n",
      "Pytorch version: 2.2.0+cu121\n",
      "MONAI flags: HAS_EXT = False, USE_COMPILED = False, USE_META_DICT = False\n",
      "MONAI rev id: c6050987c68026b37acdd2c1e4b2f00dc7ea7b44\n",
      "MONAI __file__: /<username>/projects/MICCAI22_ADN/venv/lib/python3.10/site-packages/monai/__init__.py\n",
      "\n",
      "Optional dependencies:\n",
      "Pytorch Ignite version: NOT INSTALLED or UNKNOWN VERSION.\n",
      "ITK version: NOT INSTALLED or UNKNOWN VERSION.\n",
      "Nibabel version: 5.2.0\n",
      "scikit-image version: NOT INSTALLED or UNKNOWN VERSION.\n",
      "scipy version: 1.12.0\n",
      "Pillow version: 10.2.0\n",
      "Tensorboard version: NOT INSTALLED or UNKNOWN VERSION.\n",
      "gdown version: NOT INSTALLED or UNKNOWN VERSION.\n",
      "TorchVision version: NOT INSTALLED or UNKNOWN VERSION.\n",
      "tqdm version: 4.66.1\n",
      "lmdb version: NOT INSTALLED or UNKNOWN VERSION.\n",
      "psutil version: 5.9.8\n",
      "pandas version: 2.2.0\n",
      "einops version: NOT INSTALLED or UNKNOWN VERSION.\n",
      "transformers version: NOT INSTALLED or UNKNOWN VERSION.\n",
      "mlflow version: NOT INSTALLED or UNKNOWN VERSION.\n",
      "pynrrd version: NOT INSTALLED or UNKNOWN VERSION.\n",
      "clearml version: NOT INSTALLED or UNKNOWN VERSION.\n",
      "\n",
      "For details about installing the optional dependencies, please visit:\n",
      "    https://docs.monai.io/en/latest/installation.html#installing-the-recommended-dependencies\n",
      "\n"
     ]
    }
   ],
   "source": [
    "from monai.utils import first, set_determinism\n",
    "from monai.transforms import (\n",
    "    AsDiscrete,\n",
    "    AsDiscreted,\n",
    "    EnsureChannelFirstd,\n",
    "    Compose,\n",
    "    CropForegroundd,\n",
    "    LoadImaged,\n",
    "    Orientationd,\n",
    "    RandCropByPosNegLabeld,\n",
    "    SaveImage,\n",
    "    SaveImaged,\n",
    "    ScaleIntensityRanged,\n",
    "    Spacingd,\n",
    "    Invertd,\n",
    "    ResizeWithPadOrCropd\n",
    ")\n",
    "from monai.handlers.utils import from_engine\n",
    "from monai.networks.nets import UNet\n",
    "from monai.networks.layers import Norm\n",
    "from monai.metrics import DiceMetric\n",
    "from monai.losses import DiceLoss\n",
    "from monai.inferers import sliding_window_inference\n",
    "from monai.data import CacheDataset, DataLoader, Dataset, decollate_batch\n",
    "from monai.config import print_config\n",
    "from monai.apps import download_and_extract\n",
    "import torch\n",
    "import matplotlib.pyplot as plt\n",
    "import tempfile\n",
    "import shutil\n",
    "import os\n",
    "import glob\n",
    "\n",
    "print_config()"
   ]
  },
  {
   "cell_type": "code",
   "execution_count": 2,
   "metadata": {},
   "outputs": [],
   "source": [
    "data_dir = \"../data/nifti\"\n"
   ]
  },
  {
   "cell_type": "code",
   "execution_count": 9,
   "metadata": {},
   "outputs": [],
   "source": [
    "train_images = sorted(glob.glob(os.path.join(data_dir, \"*\", \"CT_stripped.nii\")))\n",
    "train_labels = sorted(glob.glob(os.path.join(data_dir, \"*\", \"mask.nii\")))\n",
    "data_dicts = [{\"image\": image_name, \"label\": label_name} for image_name, label_name in zip(train_images, train_labels)]\n"
   ]
  },
  {
   "cell_type": "code",
   "execution_count": 10,
   "metadata": {},
   "outputs": [],
   "source": [
    "train_transforms = Compose(\n",
    "    [\n",
    "        LoadImaged(keys=[\"image\", \"label\"]),\n",
    "        EnsureChannelFirstd(keys=[\"image\", \"label\"]),\n",
    "        # ScaleIntensityRanged(\n",
    "        #     keys=[\"image\"],\n",
    "        #     a_min=-57,\n",
    "        #     a_max=164,\n",
    "        #     b_min=0.0,\n",
    "        #     b_max=1.0,\n",
    "        #     clip=True,\n",
    "        # ),\n",
    "        # CropForegroundd(keys=[\"image\", \"label\"], source_key=\"image\"),\n",
    "        Orientationd(keys=[\"image\", \"label\"], axcodes=\"RAS\"),\n",
    "        Spacingd(keys=[\"image\", \"label\"], pixdim=(1.2, 1.2, 5.0), mode=(\"bilinear\", \"nearest\")),\n",
    "        ResizeWithPadOrCropd(keys=[\"image\", \"label\"], spatial_size=(256, 256, 40)),\n",
    "        # RandCropByPosNegLabeld(\n",
    "        #     keys=[\"image\", \"label\"],\n",
    "        #     label_key=\"label\",\n",
    "        #     spatial_size=(96, 96, 96),\n",
    "        #     pos=1,\n",
    "        #     neg=1,\n",
    "        #     num_samples=4,\n",
    "        #     image_key=\"image\",\n",
    "        #     image_threshold=0,\n",
    "        # ),\n",
    "        # user can also add other random transforms\n",
    "        # RandAffined(\n",
    "        #     keys=['image', 'label'],\n",
    "        #     mode=('bilinear', 'nearest'),\n",
    "        #     prob=1.0, spatial_size=(96, 96, 96),\n",
    "        #     rotate_range=(0, 0, np.pi/15),\n",
    "        #     scale_range=(0.1, 0.1, 0.1)),\n",
    "    # SaveImaged(keys=['image', 'label'], )\n",
    "    ]\n",
    ")"
   ]
  },
  {
   "cell_type": "code",
   "execution_count": 6,
   "metadata": {},
   "outputs": [],
   "source": [
    "check_ds = Dataset(data=data_dicts, transform=train_transforms)\n",
    "check_loader = DataLoader(check_ds, batch_size=1)\n",
    "# check_data = first(check_loader)\n"
   ]
  },
  {
   "cell_type": "code",
   "execution_count": 39,
   "metadata": {},
   "outputs": [],
   "source": [
    "saver = SaveImage(output_ext='.nii')\n",
    "# saver(check_ds[0]['image'], filename='test')"
   ]
  },
  {
   "cell_type": "code",
   "execution_count": 30,
   "metadata": {},
   "outputs": [
    {
     "data": {
      "text/plain": [
       "dict_keys(['image', 'label'])"
      ]
     },
     "execution_count": 30,
     "metadata": {},
     "output_type": "execute_result"
    }
   ],
   "source": [
    "data.keys()"
   ]
  },
  {
   "cell_type": "code",
   "execution_count": 36,
   "metadata": {},
   "outputs": [],
   "source": [
    "from tqdm import tqdm\n",
    "from pathlib import Path"
   ]
  },
  {
   "cell_type": "code",
   "execution_count": 40,
   "metadata": {},
   "outputs": [
    {
     "name": "stderr",
     "output_type": "stream",
     "text": [
      "  0%|          | 0/397 [00:00<?, ?it/s]"
     ]
    },
    {
     "name": "stdout",
     "output_type": "stream",
     "text": [
      "2024-02-05 03:08:20,595 INFO image_writer.py:197 - writing: SOMEFOLDER/0019983/CT.nii\n",
      "2024-02-05 03:08:20,660 INFO image_writer.py:197 - writing: SOMEFOLDER/0019983/mask.nii\n"
     ]
    },
    {
     "name": "stderr",
     "output_type": "stream",
     "text": [
      "  0%|          | 1/397 [00:00<02:01,  3.25it/s]"
     ]
    },
    {
     "name": "stdout",
     "output_type": "stream",
     "text": [
      "2024-02-05 03:08:20,869 INFO image_writer.py:197 - writing: SOMEFOLDER/0021023/CT.nii\n",
      "2024-02-05 03:08:20,925 INFO image_writer.py:197 - writing: SOMEFOLDER/0021023/mask.nii\n"
     ]
    },
    {
     "name": "stderr",
     "output_type": "stream",
     "text": [
      "  1%|          | 2/397 [00:00<01:57,  3.37it/s]"
     ]
    },
    {
     "name": "stdout",
     "output_type": "stream",
     "text": [
      "2024-02-05 03:08:21,241 INFO image_writer.py:197 - writing: SOMEFOLDER/0021061/CT.nii\n",
      "2024-02-05 03:08:21,293 INFO image_writer.py:197 - writing: SOMEFOLDER/0021061/mask.nii\n"
     ]
    },
    {
     "name": "stderr",
     "output_type": "stream",
     "text": [
      "  1%|          | 3/397 [00:00<02:03,  3.19it/s]"
     ]
    },
    {
     "name": "stdout",
     "output_type": "stream",
     "text": [
      "2024-02-05 03:08:21,466 INFO image_writer.py:197 - writing: SOMEFOLDER/0021092/CT.nii\n",
      "2024-02-05 03:08:21,516 INFO image_writer.py:197 - writing: SOMEFOLDER/0021092/mask.nii\n"
     ]
    },
    {
     "name": "stderr",
     "output_type": "stream",
     "text": [
      "  1%|          | 4/397 [00:01<01:50,  3.57it/s]"
     ]
    },
    {
     "name": "stdout",
     "output_type": "stream",
     "text": [
      "2024-02-05 03:08:21,731 INFO image_writer.py:197 - writing: SOMEFOLDER/0021822/CT.nii\n",
      "2024-02-05 03:08:21,765 INFO image_writer.py:197 - writing: SOMEFOLDER/0021822/mask.nii\n"
     ]
    },
    {
     "name": "stderr",
     "output_type": "stream",
     "text": [
      "  1%|▏         | 5/397 [00:01<01:44,  3.75it/s]"
     ]
    },
    {
     "name": "stdout",
     "output_type": "stream",
     "text": [
      "2024-02-05 03:08:22,057 INFO image_writer.py:197 - writing: SOMEFOLDER/0041698/CT.nii\n",
      "2024-02-05 03:08:22,121 INFO image_writer.py:197 - writing: SOMEFOLDER/0041698/mask.nii\n"
     ]
    },
    {
     "name": "stderr",
     "output_type": "stream",
     "text": [
      "  2%|▏         | 6/397 [00:01<01:56,  3.35it/s]"
     ]
    },
    {
     "name": "stdout",
     "output_type": "stream",
     "text": [
      "2024-02-05 03:08:22,348 INFO image_writer.py:197 - writing: SOMEFOLDER/0041699/CT.nii\n",
      "2024-02-05 03:08:22,396 INFO image_writer.py:197 - writing: SOMEFOLDER/0041699/mask.nii\n"
     ]
    },
    {
     "name": "stderr",
     "output_type": "stream",
     "text": [
      "  2%|▏         | 7/397 [00:02<01:52,  3.46it/s]"
     ]
    },
    {
     "name": "stdout",
     "output_type": "stream",
     "text": [
      "2024-02-05 03:08:22,594 INFO image_writer.py:197 - writing: SOMEFOLDER/0072680/CT.nii\n",
      "2024-02-05 03:08:22,644 INFO image_writer.py:197 - writing: SOMEFOLDER/0072680/mask.nii\n"
     ]
    },
    {
     "name": "stderr",
     "output_type": "stream",
     "text": [
      "  2%|▏         | 8/397 [00:02<01:47,  3.61it/s]"
     ]
    },
    {
     "name": "stdout",
     "output_type": "stream",
     "text": [
      "2024-02-05 03:08:22,826 INFO image_writer.py:197 - writing: SOMEFOLDER/0072681/CT.nii\n",
      "2024-02-05 03:08:22,858 INFO image_writer.py:197 - writing: SOMEFOLDER/0072681/mask.nii\n"
     ]
    },
    {
     "name": "stderr",
     "output_type": "stream",
     "text": [
      "  2%|▏         | 9/397 [00:02<01:39,  3.91it/s]"
     ]
    },
    {
     "name": "stdout",
     "output_type": "stream",
     "text": [
      "2024-02-05 03:08:22,988 INFO image_writer.py:197 - writing: SOMEFOLDER/0072682/CT.nii\n",
      "2024-02-05 03:08:23,035 INFO image_writer.py:197 - writing: SOMEFOLDER/0072682/mask.nii\n"
     ]
    },
    {
     "name": "stderr",
     "output_type": "stream",
     "text": [
      "  3%|▎         | 10/397 [00:02<01:30,  4.28it/s]"
     ]
    },
    {
     "name": "stdout",
     "output_type": "stream",
     "text": [
      "2024-02-05 03:08:23,297 INFO image_writer.py:197 - writing: SOMEFOLDER/0072688/CT.nii\n",
      "2024-02-05 03:08:23,329 INFO image_writer.py:197 - writing: SOMEFOLDER/0072688/mask.nii\n"
     ]
    },
    {
     "name": "stderr",
     "output_type": "stream",
     "text": [
      "  3%|▎         | 11/397 [00:02<01:36,  4.01it/s]"
     ]
    },
    {
     "name": "stdout",
     "output_type": "stream",
     "text": [
      "2024-02-05 03:08:23,476 INFO image_writer.py:197 - writing: SOMEFOLDER/0072691/CT.nii\n",
      "2024-02-05 03:08:23,516 INFO image_writer.py:197 - writing: SOMEFOLDER/0072691/mask.nii\n"
     ]
    },
    {
     "name": "stderr",
     "output_type": "stream",
     "text": [
      "  3%|▎         | 12/397 [00:03<01:29,  4.32it/s]"
     ]
    },
    {
     "name": "stdout",
     "output_type": "stream",
     "text": [
      "2024-02-05 03:08:23,655 INFO image_writer.py:197 - writing: SOMEFOLDER/0072693/CT.nii\n",
      "2024-02-05 03:08:23,706 INFO image_writer.py:197 - writing: SOMEFOLDER/0072693/mask.nii\n"
     ]
    },
    {
     "name": "stderr",
     "output_type": "stream",
     "text": [
      "  3%|▎         | 13/397 [00:03<01:23,  4.57it/s]"
     ]
    },
    {
     "name": "stdout",
     "output_type": "stream",
     "text": [
      "2024-02-05 03:08:23,868 INFO image_writer.py:197 - writing: SOMEFOLDER/0072697/CT.nii\n",
      "2024-02-05 03:08:23,901 INFO image_writer.py:197 - writing: SOMEFOLDER/0072697/mask.nii\n"
     ]
    },
    {
     "name": "stderr",
     "output_type": "stream",
     "text": [
      "  4%|▎         | 14/397 [00:03<01:20,  4.74it/s]"
     ]
    },
    {
     "name": "stdout",
     "output_type": "stream",
     "text": [
      "2024-02-05 03:08:24,064 INFO image_writer.py:197 - writing: SOMEFOLDER/0072723/CT.nii\n",
      "2024-02-05 03:08:24,106 INFO image_writer.py:197 - writing: SOMEFOLDER/0072723/mask.nii\n"
     ]
    },
    {
     "name": "stderr",
     "output_type": "stream",
     "text": [
      "  4%|▍         | 15/397 [00:03<01:19,  4.79it/s]"
     ]
    },
    {
     "name": "stdout",
     "output_type": "stream",
     "text": [
      "2024-02-05 03:08:24,253 INFO image_writer.py:197 - writing: SOMEFOLDER/0072729/CT.nii\n",
      "2024-02-05 03:08:24,293 INFO image_writer.py:197 - writing: SOMEFOLDER/0072729/mask.nii\n"
     ]
    },
    {
     "name": "stderr",
     "output_type": "stream",
     "text": [
      "  4%|▍         | 16/397 [00:03<01:17,  4.91it/s]"
     ]
    },
    {
     "name": "stdout",
     "output_type": "stream",
     "text": [
      "2024-02-05 03:08:24,491 INFO image_writer.py:197 - writing: SOMEFOLDER/0072734/CT.nii\n",
      "2024-02-05 03:08:24,527 INFO image_writer.py:197 - writing: SOMEFOLDER/0072734/mask.nii\n"
     ]
    },
    {
     "name": "stderr",
     "output_type": "stream",
     "text": [
      "  4%|▍         | 17/397 [00:04<01:19,  4.76it/s]"
     ]
    },
    {
     "name": "stdout",
     "output_type": "stream",
     "text": [
      "2024-02-05 03:08:24,666 INFO image_writer.py:197 - writing: SOMEFOLDER/0072752/CT.nii\n",
      "2024-02-05 03:08:24,699 INFO image_writer.py:197 - writing: SOMEFOLDER/0072752/mask.nii\n"
     ]
    },
    {
     "name": "stderr",
     "output_type": "stream",
     "text": [
      "  5%|▍         | 18/397 [00:04<01:16,  4.97it/s]"
     ]
    },
    {
     "name": "stdout",
     "output_type": "stream",
     "text": [
      "2024-02-05 03:08:24,914 INFO image_writer.py:197 - writing: SOMEFOLDER/0072762/CT.nii\n",
      "2024-02-05 03:08:24,966 INFO image_writer.py:197 - writing: SOMEFOLDER/0072762/mask.nii\n"
     ]
    },
    {
     "name": "stderr",
     "output_type": "stream",
     "text": [
      "  5%|▍         | 19/397 [00:04<01:23,  4.51it/s]"
     ]
    },
    {
     "name": "stdout",
     "output_type": "stream",
     "text": [
      "2024-02-05 03:08:25,145 INFO image_writer.py:197 - writing: SOMEFOLDER/0072765/CT.nii\n",
      "2024-02-05 03:08:25,188 INFO image_writer.py:197 - writing: SOMEFOLDER/0072765/mask.nii\n"
     ]
    },
    {
     "name": "stderr",
     "output_type": "stream",
     "text": [
      "  5%|▌         | 20/397 [00:04<01:23,  4.51it/s]"
     ]
    },
    {
     "name": "stdout",
     "output_type": "stream",
     "text": [
      "2024-02-05 03:08:25,337 INFO image_writer.py:197 - writing: SOMEFOLDER/0072776/CT.nii\n",
      "2024-02-05 03:08:25,372 INFO image_writer.py:197 - writing: SOMEFOLDER/0072776/mask.nii\n"
     ]
    },
    {
     "name": "stderr",
     "output_type": "stream",
     "text": [
      "  5%|▌         | 21/397 [00:05<01:18,  4.78it/s]"
     ]
    },
    {
     "name": "stdout",
     "output_type": "stream",
     "text": [
      "2024-02-05 03:08:25,584 INFO image_writer.py:197 - writing: SOMEFOLDER/0072854/CT.nii\n",
      "2024-02-05 03:08:25,635 INFO image_writer.py:197 - writing: SOMEFOLDER/0072854/mask.nii\n"
     ]
    },
    {
     "name": "stderr",
     "output_type": "stream",
     "text": [
      "  6%|▌         | 22/397 [00:05<01:24,  4.45it/s]"
     ]
    },
    {
     "name": "stdout",
     "output_type": "stream",
     "text": [
      "2024-02-05 03:08:25,775 INFO image_writer.py:197 - writing: SOMEFOLDER/0072864/CT.nii\n",
      "2024-02-05 03:08:25,810 INFO image_writer.py:197 - writing: SOMEFOLDER/0072864/mask.nii\n"
     ]
    },
    {
     "name": "stderr",
     "output_type": "stream",
     "text": [
      "  6%|▌         | 23/397 [00:05<01:18,  4.76it/s]"
     ]
    },
    {
     "name": "stdout",
     "output_type": "stream",
     "text": [
      "2024-02-05 03:08:26,031 INFO image_writer.py:197 - writing: SOMEFOLDER/0072910/CT.nii\n",
      "2024-02-05 03:08:26,084 INFO image_writer.py:197 - writing: SOMEFOLDER/0072910/mask.nii\n"
     ]
    },
    {
     "name": "stderr",
     "output_type": "stream",
     "text": [
      "  6%|▌         | 24/397 [00:05<01:25,  4.37it/s]"
     ]
    },
    {
     "name": "stdout",
     "output_type": "stream",
     "text": [
      "2024-02-05 03:08:26,239 INFO image_writer.py:197 - writing: SOMEFOLDER/0072916/CT.nii\n",
      "2024-02-05 03:08:26,273 INFO image_writer.py:197 - writing: SOMEFOLDER/0072916/mask.nii\n"
     ]
    },
    {
     "name": "stderr",
     "output_type": "stream",
     "text": [
      "  6%|▋         | 25/397 [00:05<01:20,  4.63it/s]"
     ]
    },
    {
     "name": "stdout",
     "output_type": "stream",
     "text": [
      "2024-02-05 03:08:26,425 INFO image_writer.py:197 - writing: SOMEFOLDER/0072921/CT.nii\n",
      "2024-02-05 03:08:26,465 INFO image_writer.py:197 - writing: SOMEFOLDER/0072921/mask.nii\n"
     ]
    },
    {
     "name": "stderr",
     "output_type": "stream",
     "text": [
      "  7%|▋         | 26/397 [00:06<01:17,  4.77it/s]"
     ]
    },
    {
     "name": "stdout",
     "output_type": "stream",
     "text": [
      "2024-02-05 03:08:26,623 INFO image_writer.py:197 - writing: SOMEFOLDER/0072946/CT.nii\n",
      "2024-02-05 03:08:26,671 INFO image_writer.py:197 - writing: SOMEFOLDER/0072946/mask.nii\n"
     ]
    },
    {
     "name": "stderr",
     "output_type": "stream",
     "text": [
      "  7%|▋         | 27/397 [00:06<01:18,  4.73it/s]"
     ]
    },
    {
     "name": "stdout",
     "output_type": "stream",
     "text": [
      "2024-02-05 03:08:26,830 INFO image_writer.py:197 - writing: SOMEFOLDER/0072950/CT.nii\n",
      "2024-02-05 03:08:26,869 INFO image_writer.py:197 - writing: SOMEFOLDER/0072950/mask.nii\n"
     ]
    },
    {
     "name": "stderr",
     "output_type": "stream",
     "text": [
      "  7%|▋         | 28/397 [00:06<01:16,  4.84it/s]"
     ]
    },
    {
     "name": "stdout",
     "output_type": "stream",
     "text": [
      "2024-02-05 03:08:27,031 INFO image_writer.py:197 - writing: SOMEFOLDER/0072961/CT.nii\n",
      "2024-02-05 03:08:27,076 INFO image_writer.py:197 - writing: SOMEFOLDER/0072961/mask.nii\n"
     ]
    },
    {
     "name": "stderr",
     "output_type": "stream",
     "text": [
      "  7%|▋         | 29/397 [00:06<01:15,  4.85it/s]"
     ]
    },
    {
     "name": "stdout",
     "output_type": "stream",
     "text": [
      "2024-02-05 03:08:27,256 INFO image_writer.py:197 - writing: SOMEFOLDER/0072975/CT.nii\n",
      "2024-02-05 03:08:27,320 INFO image_writer.py:197 - writing: SOMEFOLDER/0072975/mask.nii\n"
     ]
    },
    {
     "name": "stderr",
     "output_type": "stream",
     "text": [
      "  8%|▊         | 30/397 [00:06<01:19,  4.59it/s]"
     ]
    },
    {
     "name": "stdout",
     "output_type": "stream",
     "text": [
      "2024-02-05 03:08:27,562 INFO image_writer.py:197 - writing: SOMEFOLDER/0072984/CT.nii\n",
      "2024-02-05 03:08:27,595 INFO image_writer.py:197 - writing: SOMEFOLDER/0072984/mask.nii\n"
     ]
    },
    {
     "name": "stderr",
     "output_type": "stream",
     "text": [
      "  8%|▊         | 31/397 [00:07<01:25,  4.27it/s]"
     ]
    },
    {
     "name": "stdout",
     "output_type": "stream",
     "text": [
      "2024-02-05 03:08:27,827 INFO image_writer.py:197 - writing: SOMEFOLDER/0073000/CT.nii\n",
      "2024-02-05 03:08:27,866 INFO image_writer.py:197 - writing: SOMEFOLDER/0073000/mask.nii\n"
     ]
    },
    {
     "name": "stderr",
     "output_type": "stream",
     "text": [
      "  8%|▊         | 32/397 [00:07<01:28,  4.10it/s]"
     ]
    },
    {
     "name": "stdout",
     "output_type": "stream",
     "text": [
      "2024-02-05 03:08:28,091 INFO image_writer.py:197 - writing: SOMEFOLDER/0073007/CT.nii\n",
      "2024-02-05 03:08:28,138 INFO image_writer.py:197 - writing: SOMEFOLDER/0073007/mask.nii\n"
     ]
    },
    {
     "name": "stderr",
     "output_type": "stream",
     "text": [
      "  8%|▊         | 33/397 [00:07<01:31,  3.96it/s]"
     ]
    },
    {
     "name": "stdout",
     "output_type": "stream",
     "text": [
      "2024-02-05 03:08:28,307 INFO image_writer.py:197 - writing: SOMEFOLDER/0073036/CT.nii\n",
      "2024-02-05 03:08:28,355 INFO image_writer.py:197 - writing: SOMEFOLDER/0073036/mask.nii\n"
     ]
    },
    {
     "name": "stderr",
     "output_type": "stream",
     "text": [
      "  9%|▊         | 34/397 [00:07<01:28,  4.11it/s]"
     ]
    },
    {
     "name": "stdout",
     "output_type": "stream",
     "text": [
      "2024-02-05 03:08:28,585 INFO image_writer.py:197 - writing: SOMEFOLDER/0073048/CT.nii\n",
      "2024-02-05 03:08:28,617 INFO image_writer.py:197 - writing: SOMEFOLDER/0073048/mask.nii\n"
     ]
    },
    {
     "name": "stderr",
     "output_type": "stream",
     "text": [
      "  9%|▉         | 35/397 [00:08<01:30,  4.02it/s]"
     ]
    },
    {
     "name": "stdout",
     "output_type": "stream",
     "text": [
      "2024-02-05 03:08:28,816 INFO image_writer.py:197 - writing: SOMEFOLDER/0073060/CT.nii\n",
      "2024-02-05 03:08:28,853 INFO image_writer.py:197 - writing: SOMEFOLDER/0073060/mask.nii\n"
     ]
    },
    {
     "name": "stderr",
     "output_type": "stream",
     "text": [
      "  9%|▉         | 36/397 [00:08<01:27,  4.11it/s]"
     ]
    },
    {
     "name": "stdout",
     "output_type": "stream",
     "text": [
      "2024-02-05 03:08:29,071 INFO image_writer.py:197 - writing: SOMEFOLDER/0073074/CT.nii\n",
      "2024-02-05 03:08:29,108 INFO image_writer.py:197 - writing: SOMEFOLDER/0073074/mask.nii\n"
     ]
    },
    {
     "name": "stderr",
     "output_type": "stream",
     "text": [
      "  9%|▉         | 37/397 [00:08<01:28,  4.05it/s]"
     ]
    },
    {
     "name": "stdout",
     "output_type": "stream",
     "text": [
      "2024-02-05 03:08:29,249 INFO image_writer.py:197 - writing: SOMEFOLDER/0073100/CT.nii\n",
      "2024-02-05 03:08:29,289 INFO image_writer.py:197 - writing: SOMEFOLDER/0073100/mask.nii\n"
     ]
    },
    {
     "name": "stderr",
     "output_type": "stream",
     "text": [
      " 10%|▉         | 38/397 [00:08<01:22,  4.35it/s]"
     ]
    },
    {
     "name": "stdout",
     "output_type": "stream",
     "text": [
      "2024-02-05 03:08:29,454 INFO image_writer.py:197 - writing: SOMEFOLDER/0073112/CT.nii\n",
      "2024-02-05 03:08:29,486 INFO image_writer.py:197 - writing: SOMEFOLDER/0073112/mask.nii\n"
     ]
    },
    {
     "name": "stderr",
     "output_type": "stream",
     "text": [
      " 10%|▉         | 39/397 [00:09<01:18,  4.58it/s]"
     ]
    },
    {
     "name": "stdout",
     "output_type": "stream",
     "text": [
      "2024-02-05 03:08:29,668 INFO image_writer.py:197 - writing: SOMEFOLDER/0073160/CT.nii\n",
      "2024-02-05 03:08:29,704 INFO image_writer.py:197 - writing: SOMEFOLDER/0073160/mask.nii\n"
     ]
    },
    {
     "name": "stderr",
     "output_type": "stream",
     "text": [
      " 10%|█         | 40/397 [00:09<01:18,  4.55it/s]"
     ]
    },
    {
     "name": "stdout",
     "output_type": "stream",
     "text": [
      "2024-02-05 03:08:29,837 INFO image_writer.py:197 - writing: SOMEFOLDER/0073189/CT.nii\n",
      "2024-02-05 03:08:29,871 INFO image_writer.py:197 - writing: SOMEFOLDER/0073189/mask.nii\n"
     ]
    },
    {
     "name": "stderr",
     "output_type": "stream",
     "text": [
      " 10%|█         | 41/397 [00:09<01:12,  4.94it/s]"
     ]
    },
    {
     "name": "stdout",
     "output_type": "stream",
     "text": [
      "2024-02-05 03:08:30,015 INFO image_writer.py:197 - writing: SOMEFOLDER/0073207/CT.nii\n",
      "2024-02-05 03:08:30,055 INFO image_writer.py:197 - writing: SOMEFOLDER/0073207/mask.nii\n"
     ]
    },
    {
     "name": "stderr",
     "output_type": "stream",
     "text": [
      " 11%|█         | 42/397 [00:09<01:10,  5.03it/s]"
     ]
    },
    {
     "name": "stdout",
     "output_type": "stream",
     "text": [
      "2024-02-05 03:08:30,229 INFO image_writer.py:197 - writing: SOMEFOLDER/0073213/CT.nii\n",
      "2024-02-05 03:08:30,278 INFO image_writer.py:197 - writing: SOMEFOLDER/0073213/mask.nii\n"
     ]
    },
    {
     "name": "stderr",
     "output_type": "stream",
     "text": [
      " 11%|█         | 43/397 [00:09<01:12,  4.85it/s]"
     ]
    },
    {
     "name": "stdout",
     "output_type": "stream",
     "text": [
      "2024-02-05 03:08:30,496 INFO image_writer.py:197 - writing: SOMEFOLDER/0073226/CT.nii\n",
      "2024-02-05 03:08:30,546 INFO image_writer.py:197 - writing: SOMEFOLDER/0073226/mask.nii\n"
     ]
    },
    {
     "name": "stderr",
     "output_type": "stream",
     "text": [
      " 11%|█         | 44/397 [00:10<01:18,  4.50it/s]"
     ]
    },
    {
     "name": "stdout",
     "output_type": "stream",
     "text": [
      "2024-02-05 03:08:30,751 INFO image_writer.py:197 - writing: SOMEFOLDER/0073264/CT.nii\n",
      "2024-02-05 03:08:30,780 INFO image_writer.py:197 - writing: SOMEFOLDER/0073264/mask.nii\n"
     ]
    },
    {
     "name": "stderr",
     "output_type": "stream",
     "text": [
      " 11%|█▏        | 45/397 [00:10<01:20,  4.40it/s]"
     ]
    },
    {
     "name": "stdout",
     "output_type": "stream",
     "text": [
      "2024-02-05 03:08:30,953 INFO image_writer.py:197 - writing: SOMEFOLDER/0073278/CT.nii\n",
      "2024-02-05 03:08:30,989 INFO image_writer.py:197 - writing: SOMEFOLDER/0073278/mask.nii\n"
     ]
    },
    {
     "name": "stderr",
     "output_type": "stream",
     "text": [
      " 12%|█▏        | 46/397 [00:10<01:17,  4.51it/s]"
     ]
    },
    {
     "name": "stdout",
     "output_type": "stream",
     "text": [
      "2024-02-05 03:08:31,154 INFO image_writer.py:197 - writing: SOMEFOLDER/0073288/CT.nii\n",
      "2024-02-05 03:08:31,194 INFO image_writer.py:197 - writing: SOMEFOLDER/0073288/mask.nii\n"
     ]
    },
    {
     "name": "stderr",
     "output_type": "stream",
     "text": [
      " 12%|█▏        | 47/397 [00:10<01:16,  4.60it/s]"
     ]
    },
    {
     "name": "stdout",
     "output_type": "stream",
     "text": [
      "2024-02-05 03:08:31,402 INFO image_writer.py:197 - writing: SOMEFOLDER/0073299/CT.nii\n",
      "2024-02-05 03:08:31,435 INFO image_writer.py:197 - writing: SOMEFOLDER/0073299/mask.nii\n"
     ]
    },
    {
     "name": "stderr",
     "output_type": "stream",
     "text": [
      " 12%|█▏        | 48/397 [00:11<01:18,  4.46it/s]"
     ]
    },
    {
     "name": "stdout",
     "output_type": "stream",
     "text": [
      "2024-02-05 03:08:31,629 INFO image_writer.py:197 - writing: SOMEFOLDER/0073307/CT.nii\n",
      "2024-02-05 03:08:31,663 INFO image_writer.py:197 - writing: SOMEFOLDER/0073307/mask.nii\n"
     ]
    },
    {
     "name": "stderr",
     "output_type": "stream",
     "text": [
      " 12%|█▏        | 49/397 [00:11<01:18,  4.45it/s]"
     ]
    },
    {
     "name": "stdout",
     "output_type": "stream",
     "text": [
      "2024-02-05 03:08:31,838 INFO image_writer.py:197 - writing: SOMEFOLDER/0073312/CT.nii\n",
      "2024-02-05 03:08:31,885 INFO image_writer.py:197 - writing: SOMEFOLDER/0073312/mask.nii\n"
     ]
    },
    {
     "name": "stderr",
     "output_type": "stream",
     "text": [
      " 13%|█▎        | 50/397 [00:11<01:18,  4.45it/s]"
     ]
    },
    {
     "name": "stdout",
     "output_type": "stream",
     "text": [
      "2024-02-05 03:08:32,083 INFO image_writer.py:197 - writing: SOMEFOLDER/0073318/CT.nii\n",
      "2024-02-05 03:08:32,115 INFO image_writer.py:197 - writing: SOMEFOLDER/0073318/mask.nii\n"
     ]
    },
    {
     "name": "stderr",
     "output_type": "stream",
     "text": [
      " 13%|█▎        | 51/397 [00:11<01:18,  4.39it/s]"
     ]
    },
    {
     "name": "stdout",
     "output_type": "stream",
     "text": [
      "2024-02-05 03:08:32,388 INFO image_writer.py:197 - writing: SOMEFOLDER/0073326/CT.nii\n",
      "2024-02-05 03:08:32,424 INFO image_writer.py:197 - writing: SOMEFOLDER/0073326/mask.nii\n"
     ]
    },
    {
     "name": "stderr",
     "output_type": "stream",
     "text": [
      " 13%|█▎        | 52/397 [00:12<01:27,  3.96it/s]"
     ]
    },
    {
     "name": "stdout",
     "output_type": "stream",
     "text": [
      "2024-02-05 03:08:32,674 INFO image_writer.py:197 - writing: SOMEFOLDER/0073338/CT.nii\n",
      "2024-02-05 03:08:32,719 INFO image_writer.py:197 - writing: SOMEFOLDER/0073338/mask.nii\n"
     ]
    },
    {
     "name": "stderr",
     "output_type": "stream",
     "text": [
      " 13%|█▎        | 53/397 [00:12<01:29,  3.85it/s]"
     ]
    },
    {
     "name": "stdout",
     "output_type": "stream",
     "text": [
      "2024-02-05 03:08:32,952 INFO image_writer.py:197 - writing: SOMEFOLDER/0073355/CT.nii\n",
      "2024-02-05 03:08:33,007 INFO image_writer.py:197 - writing: SOMEFOLDER/0073355/mask.nii\n"
     ]
    },
    {
     "name": "stderr",
     "output_type": "stream",
     "text": [
      " 14%|█▎        | 54/397 [00:12<01:33,  3.68it/s]"
     ]
    },
    {
     "name": "stdout",
     "output_type": "stream",
     "text": [
      "2024-02-05 03:08:33,262 INFO image_writer.py:197 - writing: SOMEFOLDER/0073366/CT.nii\n",
      "2024-02-05 03:08:33,291 INFO image_writer.py:197 - writing: SOMEFOLDER/0073366/mask.nii\n"
     ]
    },
    {
     "name": "stderr",
     "output_type": "stream",
     "text": [
      " 14%|█▍        | 55/397 [00:12<01:34,  3.63it/s]"
     ]
    },
    {
     "name": "stdout",
     "output_type": "stream",
     "text": [
      "2024-02-05 03:08:33,479 INFO image_writer.py:197 - writing: SOMEFOLDER/0073372/CT.nii\n",
      "2024-02-05 03:08:33,523 INFO image_writer.py:197 - writing: SOMEFOLDER/0073372/mask.nii\n"
     ]
    },
    {
     "name": "stderr",
     "output_type": "stream",
     "text": [
      " 14%|█▍        | 56/397 [00:13<01:29,  3.81it/s]"
     ]
    },
    {
     "name": "stdout",
     "output_type": "stream",
     "text": [
      "2024-02-05 03:08:33,688 INFO image_writer.py:197 - writing: SOMEFOLDER/0073379/CT.nii\n",
      "2024-02-05 03:08:33,721 INFO image_writer.py:197 - writing: SOMEFOLDER/0073379/mask.nii\n"
     ]
    },
    {
     "name": "stderr",
     "output_type": "stream",
     "text": [
      " 14%|█▍        | 57/397 [00:13<01:21,  4.16it/s]"
     ]
    },
    {
     "name": "stdout",
     "output_type": "stream",
     "text": [
      "2024-02-05 03:08:33,970 INFO image_writer.py:197 - writing: SOMEFOLDER/0073397/CT.nii\n",
      "2024-02-05 03:08:34,011 INFO image_writer.py:197 - writing: SOMEFOLDER/0073397/mask.nii\n"
     ]
    },
    {
     "name": "stderr",
     "output_type": "stream",
     "text": [
      " 15%|█▍        | 58/397 [00:13<01:26,  3.90it/s]"
     ]
    },
    {
     "name": "stdout",
     "output_type": "stream",
     "text": [
      "2024-02-05 03:08:34,230 INFO image_writer.py:197 - writing: SOMEFOLDER/0073410/CT.nii\n",
      "2024-02-05 03:08:34,260 INFO image_writer.py:197 - writing: SOMEFOLDER/0073410/mask.nii\n"
     ]
    },
    {
     "name": "stderr",
     "output_type": "stream",
     "text": [
      " 15%|█▍        | 59/397 [00:13<01:26,  3.93it/s]"
     ]
    },
    {
     "name": "stdout",
     "output_type": "stream",
     "text": [
      "2024-02-05 03:08:34,415 INFO image_writer.py:197 - writing: SOMEFOLDER/0073424/CT.nii\n",
      "2024-02-05 03:08:34,447 INFO image_writer.py:197 - writing: SOMEFOLDER/0073424/mask.nii\n"
     ]
    },
    {
     "name": "stderr",
     "output_type": "stream",
     "text": [
      " 15%|█▌        | 60/397 [00:14<01:19,  4.26it/s]"
     ]
    },
    {
     "name": "stdout",
     "output_type": "stream",
     "text": [
      "2024-02-05 03:08:34,649 INFO image_writer.py:197 - writing: SOMEFOLDER/0073441/CT.nii\n",
      "2024-02-05 03:08:34,718 INFO image_writer.py:197 - writing: SOMEFOLDER/0073441/mask.nii\n"
     ]
    },
    {
     "name": "stderr",
     "output_type": "stream",
     "text": [
      " 15%|█▌        | 61/397 [00:14<01:23,  4.04it/s]"
     ]
    },
    {
     "name": "stdout",
     "output_type": "stream",
     "text": [
      "2024-02-05 03:08:34,873 INFO image_writer.py:197 - writing: SOMEFOLDER/0073445/CT.nii\n",
      "2024-02-05 03:08:34,905 INFO image_writer.py:197 - writing: SOMEFOLDER/0073445/mask.nii\n"
     ]
    },
    {
     "name": "stderr",
     "output_type": "stream",
     "text": [
      " 16%|█▌        | 62/397 [00:14<01:16,  4.39it/s]"
     ]
    },
    {
     "name": "stdout",
     "output_type": "stream",
     "text": [
      "2024-02-05 03:08:35,105 INFO image_writer.py:197 - writing: SOMEFOLDER/0073465/CT.nii\n",
      "2024-02-05 03:08:35,158 INFO image_writer.py:197 - writing: SOMEFOLDER/0073465/mask.nii\n"
     ]
    },
    {
     "name": "stderr",
     "output_type": "stream",
     "text": [
      " 16%|█▌        | 63/397 [00:14<01:19,  4.21it/s]"
     ]
    },
    {
     "name": "stdout",
     "output_type": "stream",
     "text": [
      "2024-02-05 03:08:35,519 INFO image_writer.py:197 - writing: SOMEFOLDER/0073489/CT.nii\n",
      "2024-02-05 03:08:35,567 INFO image_writer.py:197 - writing: SOMEFOLDER/0073489/mask.nii\n"
     ]
    },
    {
     "name": "stderr",
     "output_type": "stream",
     "text": [
      " 16%|█▌        | 64/397 [00:15<01:34,  3.52it/s]"
     ]
    },
    {
     "name": "stdout",
     "output_type": "stream",
     "text": [
      "2024-02-05 03:08:35,743 INFO image_writer.py:197 - writing: SOMEFOLDER/0073496/CT.nii\n",
      "2024-02-05 03:08:35,777 INFO image_writer.py:197 - writing: SOMEFOLDER/0073496/mask.nii\n"
     ]
    },
    {
     "name": "stderr",
     "output_type": "stream",
     "text": [
      " 16%|█▋        | 65/397 [00:15<01:26,  3.82it/s]"
     ]
    },
    {
     "name": "stdout",
     "output_type": "stream",
     "text": [
      "2024-02-05 03:08:35,945 INFO image_writer.py:197 - writing: SOMEFOLDER/0073517/CT.nii\n",
      "2024-02-05 03:08:35,992 INFO image_writer.py:197 - writing: SOMEFOLDER/0073517/mask.nii\n"
     ]
    },
    {
     "name": "stderr",
     "output_type": "stream",
     "text": [
      " 17%|█▋        | 66/397 [00:15<01:22,  4.03it/s]"
     ]
    },
    {
     "name": "stdout",
     "output_type": "stream",
     "text": [
      "2024-02-05 03:08:36,175 INFO image_writer.py:197 - writing: SOMEFOLDER/0073521/CT.nii\n",
      "2024-02-05 03:08:36,220 INFO image_writer.py:197 - writing: SOMEFOLDER/0073521/mask.nii\n"
     ]
    },
    {
     "name": "stderr",
     "output_type": "stream",
     "text": [
      " 17%|█▋        | 67/397 [00:15<01:20,  4.10it/s]"
     ]
    },
    {
     "name": "stdout",
     "output_type": "stream",
     "text": [
      "2024-02-05 03:08:36,382 INFO image_writer.py:197 - writing: SOMEFOLDER/0073523/CT.nii\n",
      "2024-02-05 03:08:36,421 INFO image_writer.py:197 - writing: SOMEFOLDER/0073523/mask.nii\n"
     ]
    },
    {
     "name": "stderr",
     "output_type": "stream",
     "text": [
      " 17%|█▋        | 68/397 [00:16<01:15,  4.33it/s]"
     ]
    },
    {
     "name": "stdout",
     "output_type": "stream",
     "text": [
      "2024-02-05 03:08:36,586 INFO image_writer.py:197 - writing: SOMEFOLDER/0073525/CT.nii\n",
      "2024-02-05 03:08:36,622 INFO image_writer.py:197 - writing: SOMEFOLDER/0073525/mask.nii\n"
     ]
    },
    {
     "name": "stderr",
     "output_type": "stream",
     "text": [
      " 17%|█▋        | 69/397 [00:16<01:12,  4.52it/s]"
     ]
    },
    {
     "name": "stdout",
     "output_type": "stream",
     "text": [
      "2024-02-05 03:08:36,844 INFO image_writer.py:197 - writing: SOMEFOLDER/0073526/CT.nii\n",
      "2024-02-05 03:08:36,878 INFO image_writer.py:197 - writing: SOMEFOLDER/0073526/mask.nii\n"
     ]
    },
    {
     "name": "stderr",
     "output_type": "stream",
     "text": [
      " 18%|█▊        | 70/397 [00:16<01:16,  4.29it/s]"
     ]
    },
    {
     "name": "stdout",
     "output_type": "stream",
     "text": [
      "2024-02-05 03:08:37,079 INFO image_writer.py:197 - writing: SOMEFOLDER/0073531/CT.nii\n",
      "2024-02-05 03:08:37,107 INFO image_writer.py:197 - writing: SOMEFOLDER/0073531/mask.nii\n"
     ]
    },
    {
     "name": "stderr",
     "output_type": "stream",
     "text": [
      " 18%|█▊        | 71/397 [00:16<01:15,  4.32it/s]"
     ]
    },
    {
     "name": "stdout",
     "output_type": "stream",
     "text": [
      "2024-02-05 03:08:37,333 INFO image_writer.py:197 - writing: SOMEFOLDER/0073533/CT.nii\n",
      "2024-02-05 03:08:37,367 INFO image_writer.py:197 - writing: SOMEFOLDER/0073533/mask.nii\n"
     ]
    },
    {
     "name": "stderr",
     "output_type": "stream",
     "text": [
      " 18%|█▊        | 72/397 [00:17<01:18,  4.15it/s]"
     ]
    },
    {
     "name": "stdout",
     "output_type": "stream",
     "text": [
      "2024-02-05 03:08:37,596 INFO image_writer.py:197 - writing: SOMEFOLDER/0073540/CT.nii\n",
      "2024-02-05 03:08:37,634 INFO image_writer.py:197 - writing: SOMEFOLDER/0073540/mask.nii\n"
     ]
    },
    {
     "name": "stderr",
     "output_type": "stream",
     "text": [
      " 18%|█▊        | 73/397 [00:17<01:19,  4.06it/s]"
     ]
    },
    {
     "name": "stdout",
     "output_type": "stream",
     "text": [
      "2024-02-05 03:08:37,801 INFO image_writer.py:197 - writing: SOMEFOLDER/0073542/CT.nii\n",
      "2024-02-05 03:08:37,849 INFO image_writer.py:197 - writing: SOMEFOLDER/0073542/mask.nii\n"
     ]
    },
    {
     "name": "stderr",
     "output_type": "stream",
     "text": [
      " 19%|█▊        | 74/397 [00:17<01:18,  4.14it/s]"
     ]
    },
    {
     "name": "stdout",
     "output_type": "stream",
     "text": [
      "2024-02-05 03:08:38,090 INFO image_writer.py:197 - writing: SOMEFOLDER/0073543/CT.nii\n",
      "2024-02-05 03:08:38,116 INFO image_writer.py:197 - writing: SOMEFOLDER/0073543/mask.nii\n"
     ]
    },
    {
     "name": "stderr",
     "output_type": "stream",
     "text": [
      " 19%|█▉        | 75/397 [00:17<01:19,  4.05it/s]"
     ]
    },
    {
     "name": "stdout",
     "output_type": "stream",
     "text": [
      "2024-02-05 03:08:38,492 INFO image_writer.py:197 - writing: SOMEFOLDER/0074410/CT.nii\n",
      "2024-02-05 03:08:38,522 INFO image_writer.py:197 - writing: SOMEFOLDER/0074410/mask.nii\n"
     ]
    },
    {
     "name": "stderr",
     "output_type": "stream",
     "text": [
      " 19%|█▉        | 76/397 [00:18<01:33,  3.44it/s]"
     ]
    },
    {
     "name": "stdout",
     "output_type": "stream",
     "text": [
      "2024-02-05 03:08:38,770 INFO image_writer.py:197 - writing: SOMEFOLDER/0091366/CT.nii\n",
      "2024-02-05 03:08:38,801 INFO image_writer.py:197 - writing: SOMEFOLDER/0091366/mask.nii\n"
     ]
    },
    {
     "name": "stderr",
     "output_type": "stream",
     "text": [
      " 19%|█▉        | 77/397 [00:18<01:32,  3.46it/s]"
     ]
    },
    {
     "name": "stdout",
     "output_type": "stream",
     "text": [
      "2024-02-05 03:08:38,971 INFO image_writer.py:197 - writing: SOMEFOLDER/0091370/CT.nii\n",
      "2024-02-05 03:08:39,032 INFO image_writer.py:197 - writing: SOMEFOLDER/0091370/mask.nii\n"
     ]
    },
    {
     "name": "stderr",
     "output_type": "stream",
     "text": [
      " 20%|█▉        | 78/397 [00:18<01:28,  3.62it/s]"
     ]
    },
    {
     "name": "stdout",
     "output_type": "stream",
     "text": [
      "2024-02-05 03:08:39,494 INFO image_writer.py:197 - writing: SOMEFOLDER/0091371/CT.nii\n",
      "2024-02-05 03:08:39,538 INFO image_writer.py:197 - writing: SOMEFOLDER/0091371/mask.nii\n"
     ]
    },
    {
     "name": "stderr",
     "output_type": "stream",
     "text": [
      " 20%|█▉        | 79/397 [00:19<01:47,  2.95it/s]"
     ]
    },
    {
     "name": "stdout",
     "output_type": "stream",
     "text": [
      "2024-02-05 03:08:39,817 INFO image_writer.py:197 - writing: SOMEFOLDER/0091373/CT.nii\n",
      "2024-02-05 03:08:39,865 INFO image_writer.py:197 - writing: SOMEFOLDER/0091373/mask.nii\n"
     ]
    },
    {
     "name": "stderr",
     "output_type": "stream",
     "text": [
      " 20%|██        | 80/397 [00:19<01:47,  2.96it/s]"
     ]
    },
    {
     "name": "stdout",
     "output_type": "stream",
     "text": [
      "2024-02-05 03:08:40,248 INFO image_writer.py:197 - writing: SOMEFOLDER/0091374/CT.nii\n",
      "2024-02-05 03:08:40,282 INFO image_writer.py:197 - writing: SOMEFOLDER/0091374/mask.nii\n"
     ]
    },
    {
     "name": "stderr",
     "output_type": "stream",
     "text": [
      " 20%|██        | 81/397 [00:19<01:53,  2.77it/s]"
     ]
    },
    {
     "name": "stdout",
     "output_type": "stream",
     "text": [
      "2024-02-05 03:08:40,440 INFO image_writer.py:197 - writing: SOMEFOLDER/0091377/CT.nii\n",
      "2024-02-05 03:08:40,489 INFO image_writer.py:197 - writing: SOMEFOLDER/0091377/mask.nii\n"
     ]
    },
    {
     "name": "stderr",
     "output_type": "stream",
     "text": [
      " 21%|██        | 82/397 [00:20<01:40,  3.15it/s]"
     ]
    },
    {
     "name": "stdout",
     "output_type": "stream",
     "text": [
      "2024-02-05 03:08:40,938 INFO image_writer.py:197 - writing: SOMEFOLDER/0091379/CT.nii\n",
      "2024-02-05 03:08:40,975 INFO image_writer.py:197 - writing: SOMEFOLDER/0091379/mask.nii\n"
     ]
    },
    {
     "name": "stderr",
     "output_type": "stream",
     "text": [
      " 21%|██        | 83/397 [00:20<01:54,  2.73it/s]"
     ]
    },
    {
     "name": "stdout",
     "output_type": "stream",
     "text": [
      "2024-02-05 03:08:41,384 INFO image_writer.py:197 - writing: SOMEFOLDER/0091381/CT.nii\n",
      "2024-02-05 03:08:41,414 INFO image_writer.py:197 - writing: SOMEFOLDER/0091381/mask.nii\n"
     ]
    },
    {
     "name": "stderr",
     "output_type": "stream",
     "text": [
      " 21%|██        | 84/397 [00:21<02:02,  2.56it/s]"
     ]
    },
    {
     "name": "stdout",
     "output_type": "stream",
     "text": [
      "2024-02-05 03:08:42,073 INFO image_writer.py:197 - writing: SOMEFOLDER/0091383/CT.nii\n",
      "2024-02-05 03:08:42,128 INFO image_writer.py:197 - writing: SOMEFOLDER/0091383/mask.nii\n"
     ]
    },
    {
     "name": "stderr",
     "output_type": "stream",
     "text": [
      " 21%|██▏       | 85/397 [00:21<02:31,  2.06it/s]"
     ]
    },
    {
     "name": "stdout",
     "output_type": "stream",
     "text": [
      "2024-02-05 03:08:42,312 INFO image_writer.py:197 - writing: SOMEFOLDER/0091386/CT.nii\n",
      "2024-02-05 03:08:42,342 INFO image_writer.py:197 - writing: SOMEFOLDER/0091386/mask.nii\n"
     ]
    },
    {
     "name": "stderr",
     "output_type": "stream",
     "text": [
      " 22%|██▏       | 86/397 [00:21<02:05,  2.48it/s]"
     ]
    },
    {
     "name": "stdout",
     "output_type": "stream",
     "text": [
      "2024-02-05 03:08:42,495 INFO image_writer.py:197 - writing: SOMEFOLDER/0091387/CT.nii\n",
      "2024-02-05 03:08:42,527 INFO image_writer.py:197 - writing: SOMEFOLDER/0091387/mask.nii\n"
     ]
    },
    {
     "name": "stderr",
     "output_type": "stream",
     "text": [
      " 22%|██▏       | 87/397 [00:22<01:44,  2.96it/s]"
     ]
    },
    {
     "name": "stdout",
     "output_type": "stream",
     "text": [
      "2024-02-05 03:08:42,852 INFO image_writer.py:197 - writing: SOMEFOLDER/0091388/CT.nii\n",
      "2024-02-05 03:08:42,883 INFO image_writer.py:197 - writing: SOMEFOLDER/0091388/mask.nii\n"
     ]
    },
    {
     "name": "stderr",
     "output_type": "stream",
     "text": [
      " 22%|██▏       | 88/397 [00:22<01:47,  2.89it/s]"
     ]
    },
    {
     "name": "stdout",
     "output_type": "stream",
     "text": [
      "2024-02-05 03:08:43,235 INFO image_writer.py:197 - writing: SOMEFOLDER/0091391/CT.nii\n",
      "2024-02-05 03:08:43,291 INFO image_writer.py:197 - writing: SOMEFOLDER/0091391/mask.nii\n"
     ]
    },
    {
     "name": "stderr",
     "output_type": "stream",
     "text": [
      " 22%|██▏       | 89/397 [00:22<01:51,  2.77it/s]"
     ]
    },
    {
     "name": "stdout",
     "output_type": "stream",
     "text": [
      "2024-02-05 03:08:43,669 INFO image_writer.py:197 - writing: SOMEFOLDER/0091392/CT.nii\n",
      "2024-02-05 03:08:43,711 INFO image_writer.py:197 - writing: SOMEFOLDER/0091392/mask.nii\n"
     ]
    },
    {
     "name": "stderr",
     "output_type": "stream",
     "text": [
      " 23%|██▎       | 90/397 [00:23<01:57,  2.61it/s]"
     ]
    },
    {
     "name": "stdout",
     "output_type": "stream",
     "text": [
      "2024-02-05 03:08:44,066 INFO image_writer.py:197 - writing: SOMEFOLDER/0091393/CT.nii\n",
      "2024-02-05 03:08:44,100 INFO image_writer.py:197 - writing: SOMEFOLDER/0091393/mask.nii\n"
     ]
    },
    {
     "name": "stderr",
     "output_type": "stream",
     "text": [
      " 23%|██▎       | 91/397 [00:23<01:57,  2.61it/s]"
     ]
    },
    {
     "name": "stdout",
     "output_type": "stream",
     "text": [
      "2024-02-05 03:08:44,258 INFO image_writer.py:197 - writing: SOMEFOLDER/0091394/CT.nii\n",
      "2024-02-05 03:08:44,291 INFO image_writer.py:197 - writing: SOMEFOLDER/0091394/mask.nii\n"
     ]
    },
    {
     "name": "stderr",
     "output_type": "stream",
     "text": [
      " 23%|██▎       | 92/397 [00:23<01:38,  3.10it/s]"
     ]
    },
    {
     "name": "stdout",
     "output_type": "stream",
     "text": [
      "2024-02-05 03:08:44,627 INFO image_writer.py:197 - writing: SOMEFOLDER/0091398/CT.nii\n",
      "2024-02-05 03:08:44,659 INFO image_writer.py:197 - writing: SOMEFOLDER/0091398/mask.nii\n"
     ]
    },
    {
     "name": "stderr",
     "output_type": "stream",
     "text": [
      " 23%|██▎       | 93/397 [00:24<01:42,  2.97it/s]"
     ]
    },
    {
     "name": "stdout",
     "output_type": "stream",
     "text": [
      "2024-02-05 03:08:45,027 INFO image_writer.py:197 - writing: SOMEFOLDER/0091400/CT.nii\n",
      "2024-02-05 03:08:45,057 INFO image_writer.py:197 - writing: SOMEFOLDER/0091400/mask.nii\n"
     ]
    },
    {
     "name": "stderr",
     "output_type": "stream",
     "text": [
      " 24%|██▎       | 94/397 [00:24<01:47,  2.81it/s]"
     ]
    },
    {
     "name": "stdout",
     "output_type": "stream",
     "text": [
      "2024-02-05 03:08:45,198 INFO image_writer.py:197 - writing: SOMEFOLDER/0091401/CT.nii\n",
      "2024-02-05 03:08:45,232 INFO image_writer.py:197 - writing: SOMEFOLDER/0091401/mask.nii\n"
     ]
    },
    {
     "name": "stderr",
     "output_type": "stream",
     "text": [
      " 24%|██▍       | 95/397 [00:24<01:30,  3.32it/s]"
     ]
    },
    {
     "name": "stdout",
     "output_type": "stream",
     "text": [
      "2024-02-05 03:08:45,760 INFO image_writer.py:197 - writing: SOMEFOLDER/0091402/CT.nii\n",
      "2024-02-05 03:08:45,805 INFO image_writer.py:197 - writing: SOMEFOLDER/0091402/mask.nii\n"
     ]
    },
    {
     "name": "stderr",
     "output_type": "stream",
     "text": [
      " 24%|██▍       | 96/397 [00:25<01:56,  2.59it/s]"
     ]
    },
    {
     "name": "stdout",
     "output_type": "stream",
     "text": [
      "2024-02-05 03:08:46,261 INFO image_writer.py:197 - writing: SOMEFOLDER/0091411/CT.nii\n",
      "2024-02-05 03:08:46,302 INFO image_writer.py:197 - writing: SOMEFOLDER/0091411/mask.nii\n"
     ]
    },
    {
     "name": "stderr",
     "output_type": "stream",
     "text": [
      " 24%|██▍       | 97/397 [00:25<02:05,  2.40it/s]"
     ]
    },
    {
     "name": "stdout",
     "output_type": "stream",
     "text": [
      "2024-02-05 03:08:46,674 INFO image_writer.py:197 - writing: SOMEFOLDER/0091415/CT.nii\n",
      "2024-02-05 03:08:46,706 INFO image_writer.py:197 - writing: SOMEFOLDER/0091415/mask.nii\n"
     ]
    },
    {
     "name": "stderr",
     "output_type": "stream",
     "text": [
      " 25%|██▍       | 98/397 [00:26<02:04,  2.41it/s]"
     ]
    },
    {
     "name": "stdout",
     "output_type": "stream",
     "text": [
      "2024-02-05 03:08:47,599 INFO image_writer.py:197 - writing: SOMEFOLDER/0091419/CT.nii\n",
      "2024-02-05 03:08:47,635 INFO image_writer.py:197 - writing: SOMEFOLDER/0091419/mask.nii\n"
     ]
    },
    {
     "name": "stderr",
     "output_type": "stream",
     "text": [
      " 25%|██▍       | 99/397 [00:27<02:49,  1.76it/s]"
     ]
    },
    {
     "name": "stdout",
     "output_type": "stream",
     "text": [
      "2024-02-05 03:08:47,930 INFO image_writer.py:197 - writing: SOMEFOLDER/0091428/CT.nii\n",
      "2024-02-05 03:08:47,959 INFO image_writer.py:197 - writing: SOMEFOLDER/0091428/mask.nii\n"
     ]
    },
    {
     "name": "stderr",
     "output_type": "stream",
     "text": [
      " 25%|██▌       | 100/397 [00:27<02:27,  2.01it/s]"
     ]
    },
    {
     "name": "stdout",
     "output_type": "stream",
     "text": [
      "2024-02-05 03:08:48,126 INFO image_writer.py:197 - writing: SOMEFOLDER/0091430/CT.nii\n",
      "2024-02-05 03:08:48,165 INFO image_writer.py:197 - writing: SOMEFOLDER/0091430/mask.nii\n"
     ]
    },
    {
     "name": "stderr",
     "output_type": "stream",
     "text": [
      " 25%|██▌       | 101/397 [00:27<01:59,  2.47it/s]"
     ]
    },
    {
     "name": "stdout",
     "output_type": "stream",
     "text": [
      "2024-02-05 03:08:48,556 INFO image_writer.py:197 - writing: SOMEFOLDER/0091431/CT.nii\n",
      "2024-02-05 03:08:48,589 INFO image_writer.py:197 - writing: SOMEFOLDER/0091431/mask.nii\n"
     ]
    },
    {
     "name": "stderr",
     "output_type": "stream",
     "text": [
      " 26%|██▌       | 102/397 [00:28<02:01,  2.43it/s]"
     ]
    },
    {
     "name": "stdout",
     "output_type": "stream",
     "text": [
      "2024-02-05 03:08:48,737 INFO image_writer.py:197 - writing: SOMEFOLDER/0091433/CT.nii\n",
      "2024-02-05 03:08:48,785 INFO image_writer.py:197 - writing: SOMEFOLDER/0091433/mask.nii\n"
     ]
    },
    {
     "name": "stderr",
     "output_type": "stream",
     "text": [
      " 26%|██▌       | 103/397 [00:28<01:41,  2.89it/s]"
     ]
    },
    {
     "name": "stdout",
     "output_type": "stream",
     "text": [
      "2024-02-05 03:08:49,120 INFO image_writer.py:197 - writing: SOMEFOLDER/0091438/CT.nii\n",
      "2024-02-05 03:08:49,149 INFO image_writer.py:197 - writing: SOMEFOLDER/0091438/mask.nii\n"
     ]
    },
    {
     "name": "stderr",
     "output_type": "stream",
     "text": [
      " 26%|██▌       | 104/397 [00:28<01:42,  2.85it/s]"
     ]
    },
    {
     "name": "stdout",
     "output_type": "stream",
     "text": [
      "2024-02-05 03:08:49,305 INFO image_writer.py:197 - writing: SOMEFOLDER/0091439/CT.nii\n",
      "2024-02-05 03:08:49,338 INFO image_writer.py:197 - writing: SOMEFOLDER/0091439/mask.nii\n"
     ]
    },
    {
     "name": "stderr",
     "output_type": "stream",
     "text": [
      " 26%|██▋       | 105/397 [00:28<01:28,  3.31it/s]"
     ]
    },
    {
     "name": "stdout",
     "output_type": "stream",
     "text": [
      "2024-02-05 03:08:49,489 INFO image_writer.py:197 - writing: SOMEFOLDER/0091440/CT.nii\n",
      "2024-02-05 03:08:49,528 INFO image_writer.py:197 - writing: SOMEFOLDER/0091440/mask.nii\n"
     ]
    },
    {
     "name": "stderr",
     "output_type": "stream",
     "text": [
      " 27%|██▋       | 106/397 [00:29<01:18,  3.70it/s]"
     ]
    },
    {
     "name": "stdout",
     "output_type": "stream",
     "text": [
      "2024-02-05 03:08:49,858 INFO image_writer.py:197 - writing: SOMEFOLDER/0091442/CT.nii\n",
      "2024-02-05 03:08:49,892 INFO image_writer.py:197 - writing: SOMEFOLDER/0091442/mask.nii\n"
     ]
    },
    {
     "name": "stderr",
     "output_type": "stream",
     "text": [
      " 27%|██▋       | 107/397 [00:29<01:26,  3.35it/s]"
     ]
    },
    {
     "name": "stdout",
     "output_type": "stream",
     "text": [
      "2024-02-05 03:08:50,149 INFO image_writer.py:197 - writing: SOMEFOLDER/0091445/CT.nii\n",
      "2024-02-05 03:08:50,192 INFO image_writer.py:197 - writing: SOMEFOLDER/0091445/mask.nii\n"
     ]
    },
    {
     "name": "stderr",
     "output_type": "stream",
     "text": [
      " 27%|██▋       | 108/397 [00:29<01:26,  3.35it/s]"
     ]
    },
    {
     "name": "stdout",
     "output_type": "stream",
     "text": [
      "2024-02-05 03:08:50,409 INFO image_writer.py:197 - writing: SOMEFOLDER/0091449/CT.nii\n",
      "2024-02-05 03:08:50,440 INFO image_writer.py:197 - writing: SOMEFOLDER/0091449/mask.nii\n"
     ]
    },
    {
     "name": "stderr",
     "output_type": "stream",
     "text": [
      " 27%|██▋       | 109/397 [00:30<01:21,  3.52it/s]"
     ]
    },
    {
     "name": "stdout",
     "output_type": "stream",
     "text": [
      "2024-02-05 03:08:50,665 INFO image_writer.py:197 - writing: SOMEFOLDER/0091453/CT.nii\n",
      "2024-02-05 03:08:50,715 INFO image_writer.py:197 - writing: SOMEFOLDER/0091453/mask.nii\n"
     ]
    },
    {
     "name": "stderr",
     "output_type": "stream",
     "text": [
      " 28%|██▊       | 110/397 [00:30<01:20,  3.58it/s]"
     ]
    },
    {
     "name": "stdout",
     "output_type": "stream",
     "text": [
      "2024-02-05 03:08:50,876 INFO image_writer.py:197 - writing: SOMEFOLDER/0091454/CT.nii\n",
      "2024-02-05 03:08:50,911 INFO image_writer.py:197 - writing: SOMEFOLDER/0091454/mask.nii\n"
     ]
    },
    {
     "name": "stderr",
     "output_type": "stream",
     "text": [
      " 28%|██▊       | 111/397 [00:30<01:14,  3.86it/s]"
     ]
    },
    {
     "name": "stdout",
     "output_type": "stream",
     "text": [
      "2024-02-05 03:08:52,534 INFO image_writer.py:197 - writing: SOMEFOLDER/0091458/CT.nii\n",
      "2024-02-05 03:08:52,566 INFO image_writer.py:197 - writing: SOMEFOLDER/0091458/mask.nii\n"
     ]
    },
    {
     "name": "stderr",
     "output_type": "stream",
     "text": [
      " 28%|██▊       | 112/397 [00:32<03:12,  1.48it/s]"
     ]
    },
    {
     "name": "stdout",
     "output_type": "stream",
     "text": [
      "2024-02-05 03:08:52,717 INFO image_writer.py:197 - writing: SOMEFOLDER/0091460/CT.nii\n",
      "2024-02-05 03:08:52,755 INFO image_writer.py:197 - writing: SOMEFOLDER/0091460/mask.nii\n"
     ]
    },
    {
     "name": "stderr",
     "output_type": "stream",
     "text": [
      " 28%|██▊       | 113/397 [00:32<02:34,  1.84it/s]"
     ]
    },
    {
     "name": "stdout",
     "output_type": "stream",
     "text": [
      "2024-02-05 03:08:53,026 INFO image_writer.py:197 - writing: SOMEFOLDER/0091465/CT.nii\n",
      "2024-02-05 03:08:53,058 INFO image_writer.py:197 - writing: SOMEFOLDER/0091465/mask.nii\n"
     ]
    },
    {
     "name": "stderr",
     "output_type": "stream",
     "text": [
      " 29%|██▊       | 114/397 [00:32<02:09,  2.19it/s]"
     ]
    },
    {
     "name": "stdout",
     "output_type": "stream",
     "text": [
      "2024-02-05 03:08:53,263 INFO image_writer.py:197 - writing: SOMEFOLDER/0091468/CT.nii\n",
      "2024-02-05 03:08:53,294 INFO image_writer.py:197 - writing: SOMEFOLDER/0091468/mask.nii\n"
     ]
    },
    {
     "name": "stderr",
     "output_type": "stream",
     "text": [
      " 29%|██▉       | 115/397 [00:32<01:50,  2.55it/s]"
     ]
    },
    {
     "name": "stdout",
     "output_type": "stream",
     "text": [
      "2024-02-05 03:08:53,489 INFO image_writer.py:197 - writing: SOMEFOLDER/0091472/CT.nii\n",
      "2024-02-05 03:08:53,563 INFO image_writer.py:197 - writing: SOMEFOLDER/0091472/mask.nii\n"
     ]
    },
    {
     "name": "stderr",
     "output_type": "stream",
     "text": [
      " 29%|██▉       | 116/397 [00:33<01:41,  2.78it/s]"
     ]
    },
    {
     "name": "stdout",
     "output_type": "stream",
     "text": [
      "2024-02-05 03:08:53,789 INFO image_writer.py:197 - writing: SOMEFOLDER/0091475/CT.nii\n",
      "2024-02-05 03:08:53,822 INFO image_writer.py:197 - writing: SOMEFOLDER/0091475/mask.nii\n"
     ]
    },
    {
     "name": "stderr",
     "output_type": "stream",
     "text": [
      " 29%|██▉       | 117/397 [00:33<01:30,  3.09it/s]"
     ]
    },
    {
     "name": "stdout",
     "output_type": "stream",
     "text": [
      "2024-02-05 03:08:54,170 INFO image_writer.py:197 - writing: SOMEFOLDER/0091476/CT.nii\n",
      "2024-02-05 03:08:54,202 INFO image_writer.py:197 - writing: SOMEFOLDER/0091476/mask.nii\n"
     ]
    },
    {
     "name": "stderr",
     "output_type": "stream",
     "text": [
      " 30%|██▉       | 118/397 [00:33<01:34,  2.95it/s]"
     ]
    },
    {
     "name": "stdout",
     "output_type": "stream",
     "text": [
      "2024-02-05 03:08:54,345 INFO image_writer.py:197 - writing: SOMEFOLDER/0091483/CT.nii\n",
      "2024-02-05 03:08:54,384 INFO image_writer.py:197 - writing: SOMEFOLDER/0091483/mask.nii\n"
     ]
    },
    {
     "name": "stderr",
     "output_type": "stream",
     "text": [
      " 30%|██▉       | 119/397 [00:34<01:21,  3.40it/s]"
     ]
    },
    {
     "name": "stdout",
     "output_type": "stream",
     "text": [
      "2024-02-05 03:08:54,753 INFO image_writer.py:197 - writing: SOMEFOLDER/0091485/CT.nii\n",
      "2024-02-05 03:08:54,782 INFO image_writer.py:197 - writing: SOMEFOLDER/0091485/mask.nii\n"
     ]
    },
    {
     "name": "stderr",
     "output_type": "stream",
     "text": [
      " 30%|███       | 120/397 [00:34<01:31,  3.02it/s]"
     ]
    },
    {
     "name": "stdout",
     "output_type": "stream",
     "text": [
      "2024-02-05 03:08:55,022 INFO image_writer.py:197 - writing: SOMEFOLDER/0091488/CT.nii\n",
      "2024-02-05 03:08:55,061 INFO image_writer.py:197 - writing: SOMEFOLDER/0091488/mask.nii\n"
     ]
    },
    {
     "name": "stderr",
     "output_type": "stream",
     "text": [
      " 30%|███       | 121/397 [00:34<01:24,  3.25it/s]"
     ]
    },
    {
     "name": "stdout",
     "output_type": "stream",
     "text": [
      "2024-02-05 03:08:55,256 INFO image_writer.py:197 - writing: SOMEFOLDER/0091494/CT.nii\n",
      "2024-02-05 03:08:55,284 INFO image_writer.py:197 - writing: SOMEFOLDER/0091494/mask.nii\n"
     ]
    },
    {
     "name": "stderr",
     "output_type": "stream",
     "text": [
      " 31%|███       | 122/397 [00:34<01:17,  3.53it/s]"
     ]
    },
    {
     "name": "stdout",
     "output_type": "stream",
     "text": [
      "2024-02-05 03:08:55,613 INFO image_writer.py:197 - writing: SOMEFOLDER/0091495/CT.nii\n",
      "2024-02-05 03:08:55,655 INFO image_writer.py:197 - writing: SOMEFOLDER/0091495/mask.nii\n"
     ]
    },
    {
     "name": "stderr",
     "output_type": "stream",
     "text": [
      " 31%|███       | 123/397 [00:35<01:25,  3.22it/s]"
     ]
    },
    {
     "name": "stdout",
     "output_type": "stream",
     "text": [
      "2024-02-05 03:08:55,988 INFO image_writer.py:197 - writing: SOMEFOLDER/0091499/CT.nii\n",
      "2024-02-05 03:08:56,019 INFO image_writer.py:197 - writing: SOMEFOLDER/0091499/mask.nii\n"
     ]
    },
    {
     "name": "stderr",
     "output_type": "stream",
     "text": [
      " 31%|███       | 124/397 [00:35<01:28,  3.08it/s]"
     ]
    },
    {
     "name": "stdout",
     "output_type": "stream",
     "text": [
      "2024-02-05 03:08:56,381 INFO image_writer.py:197 - writing: SOMEFOLDER/0091503/CT.nii\n",
      "2024-02-05 03:08:56,422 INFO image_writer.py:197 - writing: SOMEFOLDER/0091503/mask.nii\n"
     ]
    },
    {
     "name": "stderr",
     "output_type": "stream",
     "text": [
      " 31%|███▏      | 125/397 [00:36<01:35,  2.84it/s]"
     ]
    },
    {
     "name": "stdout",
     "output_type": "stream",
     "text": [
      "2024-02-05 03:08:56,783 INFO image_writer.py:197 - writing: SOMEFOLDER/0091505/CT.nii\n",
      "2024-02-05 03:08:56,820 INFO image_writer.py:197 - writing: SOMEFOLDER/0091505/mask.nii\n"
     ]
    },
    {
     "name": "stderr",
     "output_type": "stream",
     "text": [
      " 32%|███▏      | 126/397 [00:36<01:38,  2.75it/s]"
     ]
    },
    {
     "name": "stdout",
     "output_type": "stream",
     "text": [
      "2024-02-05 03:08:57,141 INFO image_writer.py:197 - writing: SOMEFOLDER/0091507/CT.nii\n",
      "2024-02-05 03:08:57,183 INFO image_writer.py:197 - writing: SOMEFOLDER/0091507/mask.nii\n"
     ]
    },
    {
     "name": "stderr",
     "output_type": "stream",
     "text": [
      " 32%|███▏      | 127/397 [00:36<01:39,  2.70it/s]"
     ]
    },
    {
     "name": "stdout",
     "output_type": "stream",
     "text": [
      "2024-02-05 03:08:57,437 INFO image_writer.py:197 - writing: SOMEFOLDER/0091515/CT.nii\n",
      "2024-02-05 03:08:57,469 INFO image_writer.py:197 - writing: SOMEFOLDER/0091515/mask.nii\n"
     ]
    },
    {
     "name": "stderr",
     "output_type": "stream",
     "text": [
      " 32%|███▏      | 128/397 [00:37<01:31,  2.95it/s]"
     ]
    },
    {
     "name": "stdout",
     "output_type": "stream",
     "text": [
      "2024-02-05 03:08:57,816 INFO image_writer.py:197 - writing: SOMEFOLDER/0091517/CT.nii\n",
      "2024-02-05 03:08:57,850 INFO image_writer.py:197 - writing: SOMEFOLDER/0091517/mask.nii\n"
     ]
    },
    {
     "name": "stderr",
     "output_type": "stream",
     "text": [
      " 32%|███▏      | 129/397 [00:37<01:34,  2.84it/s]"
     ]
    },
    {
     "name": "stdout",
     "output_type": "stream",
     "text": [
      "2024-02-05 03:08:58,390 INFO image_writer.py:197 - writing: SOMEFOLDER/0091519/CT.nii\n",
      "2024-02-05 03:08:58,433 INFO image_writer.py:197 - writing: SOMEFOLDER/0091519/mask.nii\n"
     ]
    },
    {
     "name": "stderr",
     "output_type": "stream",
     "text": [
      " 33%|███▎      | 130/397 [00:38<01:52,  2.38it/s]"
     ]
    },
    {
     "name": "stdout",
     "output_type": "stream",
     "text": [
      "2024-02-05 03:08:58,633 INFO image_writer.py:197 - writing: SOMEFOLDER/0091522/CT.nii\n",
      "2024-02-05 03:08:58,706 INFO image_writer.py:197 - writing: SOMEFOLDER/0091522/mask.nii\n"
     ]
    },
    {
     "name": "stderr",
     "output_type": "stream",
     "text": [
      " 33%|███▎      | 131/397 [00:38<01:41,  2.61it/s]"
     ]
    },
    {
     "name": "stdout",
     "output_type": "stream",
     "text": [
      "2024-02-05 03:08:59,141 INFO image_writer.py:197 - writing: SOMEFOLDER/0091523/CT.nii\n",
      "2024-02-05 03:08:59,176 INFO image_writer.py:197 - writing: SOMEFOLDER/0091523/mask.nii\n"
     ]
    },
    {
     "name": "stderr",
     "output_type": "stream",
     "text": [
      " 33%|███▎      | 132/397 [00:38<01:46,  2.49it/s]"
     ]
    },
    {
     "name": "stdout",
     "output_type": "stream",
     "text": [
      "2024-02-05 03:08:59,333 INFO image_writer.py:197 - writing: SOMEFOLDER/0091524/CT.nii\n",
      "2024-02-05 03:08:59,368 INFO image_writer.py:197 - writing: SOMEFOLDER/0091524/mask.nii\n"
     ]
    },
    {
     "name": "stderr",
     "output_type": "stream",
     "text": [
      " 34%|███▎      | 133/397 [00:39<01:30,  2.93it/s]"
     ]
    },
    {
     "name": "stdout",
     "output_type": "stream",
     "text": [
      "2024-02-05 03:08:59,533 INFO image_writer.py:197 - writing: SOMEFOLDER/0091527/CT.nii\n",
      "2024-02-05 03:08:59,565 INFO image_writer.py:197 - writing: SOMEFOLDER/0091527/mask.nii\n"
     ]
    },
    {
     "name": "stderr",
     "output_type": "stream",
     "text": [
      " 34%|███▍      | 134/397 [00:39<01:17,  3.39it/s]"
     ]
    },
    {
     "name": "stdout",
     "output_type": "stream",
     "text": [
      "2024-02-05 03:08:59,940 INFO image_writer.py:197 - writing: SOMEFOLDER/0091528/CT.nii\n",
      "2024-02-05 03:08:59,999 INFO image_writer.py:197 - writing: SOMEFOLDER/0091528/mask.nii\n"
     ]
    },
    {
     "name": "stderr",
     "output_type": "stream",
     "text": [
      " 34%|███▍      | 135/397 [00:39<01:28,  2.95it/s]"
     ]
    },
    {
     "name": "stdout",
     "output_type": "stream",
     "text": [
      "2024-02-05 03:09:00,261 INFO image_writer.py:197 - writing: SOMEFOLDER/0091529/CT.nii\n",
      "2024-02-05 03:09:00,290 INFO image_writer.py:197 - writing: SOMEFOLDER/0091529/mask.nii\n"
     ]
    },
    {
     "name": "stderr",
     "output_type": "stream",
     "text": [
      " 34%|███▍      | 136/397 [00:39<01:25,  3.04it/s]"
     ]
    },
    {
     "name": "stdout",
     "output_type": "stream",
     "text": [
      "2024-02-05 03:09:00,762 INFO image_writer.py:197 - writing: SOMEFOLDER/0091530/CT.nii\n",
      "2024-02-05 03:09:00,863 INFO image_writer.py:197 - writing: SOMEFOLDER/0091530/mask.nii\n"
     ]
    },
    {
     "name": "stderr",
     "output_type": "stream",
     "text": [
      " 35%|███▍      | 137/397 [00:40<01:45,  2.47it/s]"
     ]
    },
    {
     "name": "stdout",
     "output_type": "stream",
     "text": [
      "2024-02-05 03:09:01,080 INFO image_writer.py:197 - writing: SOMEFOLDER/0091531/CT.nii\n",
      "2024-02-05 03:09:01,108 INFO image_writer.py:197 - writing: SOMEFOLDER/0091531/mask.nii\n"
     ]
    },
    {
     "name": "stderr",
     "output_type": "stream",
     "text": [
      " 35%|███▍      | 138/397 [00:40<01:31,  2.84it/s]"
     ]
    },
    {
     "name": "stdout",
     "output_type": "stream",
     "text": [
      "2024-02-05 03:09:01,687 INFO image_writer.py:197 - writing: SOMEFOLDER/0091534/CT.nii\n",
      "2024-02-05 03:09:01,752 INFO image_writer.py:197 - writing: SOMEFOLDER/0091534/mask.nii\n"
     ]
    },
    {
     "name": "stderr",
     "output_type": "stream",
     "text": [
      " 35%|███▌      | 139/397 [00:41<01:55,  2.23it/s]"
     ]
    },
    {
     "name": "stdout",
     "output_type": "stream",
     "text": [
      "2024-02-05 03:09:02,034 INFO image_writer.py:197 - writing: SOMEFOLDER/0091537/CT.nii\n",
      "2024-02-05 03:09:02,062 INFO image_writer.py:197 - writing: SOMEFOLDER/0091537/mask.nii\n"
     ]
    },
    {
     "name": "stderr",
     "output_type": "stream",
     "text": [
      " 35%|███▌      | 140/397 [00:41<01:40,  2.55it/s]"
     ]
    },
    {
     "name": "stdout",
     "output_type": "stream",
     "text": [
      "2024-02-05 03:09:02,233 INFO image_writer.py:197 - writing: SOMEFOLDER/0091538/CT.nii\n",
      "2024-02-05 03:09:02,270 INFO image_writer.py:197 - writing: SOMEFOLDER/0091538/mask.nii\n"
     ]
    },
    {
     "name": "stderr",
     "output_type": "stream",
     "text": [
      " 36%|███▌      | 141/397 [00:41<01:26,  2.95it/s]"
     ]
    },
    {
     "name": "stdout",
     "output_type": "stream",
     "text": [
      "2024-02-05 03:09:02,424 INFO image_writer.py:197 - writing: SOMEFOLDER/0091544/CT.nii\n",
      "2024-02-05 03:09:02,466 INFO image_writer.py:197 - writing: SOMEFOLDER/0091544/mask.nii\n"
     ]
    },
    {
     "name": "stderr",
     "output_type": "stream",
     "text": [
      " 36%|███▌      | 142/397 [00:42<01:15,  3.37it/s]"
     ]
    },
    {
     "name": "stdout",
     "output_type": "stream",
     "text": [
      "2024-02-05 03:09:02,654 INFO image_writer.py:197 - writing: SOMEFOLDER/0091548/CT.nii\n",
      "2024-02-05 03:09:02,733 INFO image_writer.py:197 - writing: SOMEFOLDER/0091548/mask.nii\n"
     ]
    },
    {
     "name": "stderr",
     "output_type": "stream",
     "text": [
      " 36%|███▌      | 143/397 [00:42<01:16,  3.34it/s]"
     ]
    },
    {
     "name": "stdout",
     "output_type": "stream",
     "text": [
      "2024-02-05 03:09:04,076 INFO image_writer.py:197 - writing: SOMEFOLDER/0091551/CT.nii\n",
      "2024-02-05 03:09:04,133 INFO image_writer.py:197 - writing: SOMEFOLDER/0091551/mask.nii\n"
     ]
    },
    {
     "name": "stderr",
     "output_type": "stream",
     "text": [
      " 36%|███▋      | 144/397 [00:43<02:36,  1.61it/s]"
     ]
    },
    {
     "name": "stdout",
     "output_type": "stream",
     "text": [
      "2024-02-05 03:09:04,831 INFO image_writer.py:197 - writing: SOMEFOLDER/0091580/CT.nii\n",
      "2024-02-05 03:09:04,867 INFO image_writer.py:197 - writing: SOMEFOLDER/0091580/mask.nii\n"
     ]
    },
    {
     "name": "stderr",
     "output_type": "stream",
     "text": [
      " 37%|███▋      | 145/397 [00:44<02:43,  1.54it/s]"
     ]
    },
    {
     "name": "stdout",
     "output_type": "stream",
     "text": [
      "2024-02-05 03:09:05,092 INFO image_writer.py:197 - writing: SOMEFOLDER/0091586/CT.nii\n",
      "2024-02-05 03:09:05,121 INFO image_writer.py:197 - writing: SOMEFOLDER/0091586/mask.nii\n"
     ]
    },
    {
     "name": "stderr",
     "output_type": "stream",
     "text": [
      " 37%|███▋      | 146/397 [00:44<02:13,  1.88it/s]"
     ]
    },
    {
     "name": "stdout",
     "output_type": "stream",
     "text": [
      "2024-02-05 03:09:05,317 INFO image_writer.py:197 - writing: SOMEFOLDER/0091599/CT.nii\n",
      "2024-02-05 03:09:05,358 INFO image_writer.py:197 - writing: SOMEFOLDER/0091599/mask.nii\n"
     ]
    },
    {
     "name": "stderr",
     "output_type": "stream",
     "text": [
      " 37%|███▋      | 147/397 [00:44<01:50,  2.26it/s]"
     ]
    },
    {
     "name": "stdout",
     "output_type": "stream",
     "text": [
      "2024-02-05 03:09:05,635 INFO image_writer.py:197 - writing: SOMEFOLDER/0091609/CT.nii\n",
      "2024-02-05 03:09:05,669 INFO image_writer.py:197 - writing: SOMEFOLDER/0091609/mask.nii\n"
     ]
    },
    {
     "name": "stderr",
     "output_type": "stream",
     "text": [
      " 37%|███▋      | 148/397 [00:45<01:40,  2.48it/s]"
     ]
    },
    {
     "name": "stdout",
     "output_type": "stream",
     "text": [
      "2024-02-05 03:09:05,860 INFO image_writer.py:197 - writing: SOMEFOLDER/0091610/CT.nii\n",
      "2024-02-05 03:09:05,890 INFO image_writer.py:197 - writing: SOMEFOLDER/0091610/mask.nii\n"
     ]
    },
    {
     "name": "stderr",
     "output_type": "stream",
     "text": [
      " 38%|███▊      | 149/397 [00:45<01:26,  2.87it/s]"
     ]
    },
    {
     "name": "stdout",
     "output_type": "stream",
     "text": [
      "2024-02-05 03:09:06,065 INFO image_writer.py:197 - writing: SOMEFOLDER/0091611/CT.nii\n",
      "2024-02-05 03:09:06,099 INFO image_writer.py:197 - writing: SOMEFOLDER/0091611/mask.nii\n"
     ]
    },
    {
     "name": "stderr",
     "output_type": "stream",
     "text": [
      " 38%|███▊      | 150/397 [00:45<01:15,  3.25it/s]"
     ]
    },
    {
     "name": "stdout",
     "output_type": "stream",
     "text": [
      "2024-02-05 03:09:06,276 INFO image_writer.py:197 - writing: SOMEFOLDER/0091616/CT.nii\n",
      "2024-02-05 03:09:06,308 INFO image_writer.py:197 - writing: SOMEFOLDER/0091616/mask.nii\n"
     ]
    },
    {
     "name": "stderr",
     "output_type": "stream",
     "text": [
      " 38%|███▊      | 151/397 [00:45<01:08,  3.59it/s]"
     ]
    },
    {
     "name": "stdout",
     "output_type": "stream",
     "text": [
      "2024-02-05 03:09:06,463 INFO image_writer.py:197 - writing: SOMEFOLDER/0091621/CT.nii\n",
      "2024-02-05 03:09:06,514 INFO image_writer.py:197 - writing: SOMEFOLDER/0091621/mask.nii\n"
     ]
    },
    {
     "name": "stderr",
     "output_type": "stream",
     "text": [
      " 38%|███▊      | 152/397 [00:46<01:02,  3.91it/s]"
     ]
    },
    {
     "name": "stdout",
     "output_type": "stream",
     "text": [
      "2024-02-05 03:09:06,841 INFO image_writer.py:197 - writing: SOMEFOLDER/0091625/CT.nii\n",
      "2024-02-05 03:09:06,868 INFO image_writer.py:197 - writing: SOMEFOLDER/0091625/mask.nii\n"
     ]
    },
    {
     "name": "stderr",
     "output_type": "stream",
     "text": [
      " 39%|███▊      | 153/397 [00:46<01:09,  3.51it/s]"
     ]
    },
    {
     "name": "stdout",
     "output_type": "stream",
     "text": [
      "2024-02-05 03:09:07,036 INFO image_writer.py:197 - writing: SOMEFOLDER/0091630/CT.nii\n",
      "2024-02-05 03:09:07,069 INFO image_writer.py:197 - writing: SOMEFOLDER/0091630/mask.nii\n"
     ]
    },
    {
     "name": "stderr",
     "output_type": "stream",
     "text": [
      " 39%|███▉      | 154/397 [00:46<01:04,  3.78it/s]"
     ]
    },
    {
     "name": "stdout",
     "output_type": "stream",
     "text": [
      "2024-02-05 03:09:07,256 INFO image_writer.py:197 - writing: SOMEFOLDER/0091633/CT.nii\n",
      "2024-02-05 03:09:07,306 INFO image_writer.py:197 - writing: SOMEFOLDER/0091633/mask.nii\n"
     ]
    },
    {
     "name": "stderr",
     "output_type": "stream",
     "text": [
      " 39%|███▉      | 155/397 [00:46<01:00,  3.98it/s]"
     ]
    },
    {
     "name": "stdout",
     "output_type": "stream",
     "text": [
      "2024-02-05 03:09:07,655 INFO image_writer.py:197 - writing: SOMEFOLDER/0091634/CT.nii\n",
      "2024-02-05 03:09:07,701 INFO image_writer.py:197 - writing: SOMEFOLDER/0091634/mask.nii\n"
     ]
    },
    {
     "name": "stderr",
     "output_type": "stream",
     "text": [
      " 39%|███▉      | 156/397 [00:47<01:10,  3.41it/s]"
     ]
    },
    {
     "name": "stdout",
     "output_type": "stream",
     "text": [
      "2024-02-05 03:09:07,903 INFO image_writer.py:197 - writing: SOMEFOLDER/0091641/CT.nii\n",
      "2024-02-05 03:09:07,942 INFO image_writer.py:197 - writing: SOMEFOLDER/0091641/mask.nii\n"
     ]
    },
    {
     "name": "stderr",
     "output_type": "stream",
     "text": [
      " 40%|███▉      | 157/397 [00:47<01:08,  3.49it/s]"
     ]
    },
    {
     "name": "stdout",
     "output_type": "stream",
     "text": [
      "2024-02-05 03:09:08,221 INFO image_writer.py:197 - writing: SOMEFOLDER/0091642/CT.nii\n",
      "2024-02-05 03:09:08,248 INFO image_writer.py:197 - writing: SOMEFOLDER/0091642/mask.nii\n"
     ]
    },
    {
     "name": "stderr",
     "output_type": "stream",
     "text": [
      " 40%|███▉      | 158/397 [00:47<01:08,  3.48it/s]"
     ]
    },
    {
     "name": "stdout",
     "output_type": "stream",
     "text": [
      "2024-02-05 03:09:08,441 INFO image_writer.py:197 - writing: SOMEFOLDER/0091644/CT.nii\n",
      "2024-02-05 03:09:08,495 INFO image_writer.py:197 - writing: SOMEFOLDER/0091644/mask.nii\n"
     ]
    },
    {
     "name": "stderr",
     "output_type": "stream",
     "text": [
      " 40%|████      | 159/397 [00:48<01:05,  3.66it/s]"
     ]
    },
    {
     "name": "stdout",
     "output_type": "stream",
     "text": [
      "2024-02-05 03:09:08,895 INFO image_writer.py:197 - writing: SOMEFOLDER/0091646/CT.nii\n",
      "2024-02-05 03:09:08,926 INFO image_writer.py:197 - writing: SOMEFOLDER/0091646/mask.nii\n"
     ]
    },
    {
     "name": "stderr",
     "output_type": "stream",
     "text": [
      " 40%|████      | 160/397 [00:48<01:16,  3.12it/s]"
     ]
    },
    {
     "name": "stdout",
     "output_type": "stream",
     "text": [
      "2024-02-05 03:09:09,133 INFO image_writer.py:197 - writing: SOMEFOLDER/0091647/CT.nii\n",
      "2024-02-05 03:09:09,170 INFO image_writer.py:197 - writing: SOMEFOLDER/0091647/mask.nii\n"
     ]
    },
    {
     "name": "stderr",
     "output_type": "stream",
     "text": [
      " 41%|████      | 161/397 [00:48<01:11,  3.31it/s]"
     ]
    },
    {
     "name": "stdout",
     "output_type": "stream",
     "text": [
      "2024-02-05 03:09:09,377 INFO image_writer.py:197 - writing: SOMEFOLDER/0091649/CT.nii\n",
      "2024-02-05 03:09:09,405 INFO image_writer.py:197 - writing: SOMEFOLDER/0091649/mask.nii\n"
     ]
    },
    {
     "name": "stderr",
     "output_type": "stream",
     "text": [
      " 41%|████      | 162/397 [00:49<01:06,  3.54it/s]"
     ]
    },
    {
     "name": "stdout",
     "output_type": "stream",
     "text": [
      "2024-02-05 03:09:09,603 INFO image_writer.py:197 - writing: SOMEFOLDER/0091651/CT.nii\n",
      "2024-02-05 03:09:09,638 INFO image_writer.py:197 - writing: SOMEFOLDER/0091651/mask.nii\n"
     ]
    },
    {
     "name": "stderr",
     "output_type": "stream",
     "text": [
      " 41%|████      | 163/397 [00:49<01:02,  3.74it/s]"
     ]
    },
    {
     "name": "stdout",
     "output_type": "stream",
     "text": [
      "2024-02-05 03:09:10,141 INFO image_writer.py:197 - writing: SOMEFOLDER/0091652/CT.nii\n",
      "2024-02-05 03:09:10,172 INFO image_writer.py:197 - writing: SOMEFOLDER/0091652/mask.nii\n"
     ]
    },
    {
     "name": "stderr",
     "output_type": "stream",
     "text": [
      " 41%|████▏     | 164/397 [00:49<01:19,  2.92it/s]"
     ]
    },
    {
     "name": "stdout",
     "output_type": "stream",
     "text": [
      "2024-02-05 03:09:10,525 INFO image_writer.py:197 - writing: SOMEFOLDER/0091657/CT.nii\n",
      "2024-02-05 03:09:10,573 INFO image_writer.py:197 - writing: SOMEFOLDER/0091657/mask.nii\n"
     ]
    },
    {
     "name": "stderr",
     "output_type": "stream",
     "text": [
      " 42%|████▏     | 165/397 [00:50<01:23,  2.78it/s]"
     ]
    },
    {
     "name": "stdout",
     "output_type": "stream",
     "text": [
      "2024-02-05 03:09:10,884 INFO image_writer.py:197 - writing: SOMEFOLDER/0091658/CT.nii\n",
      "2024-02-05 03:09:10,936 INFO image_writer.py:197 - writing: SOMEFOLDER/0091658/mask.nii\n"
     ]
    },
    {
     "name": "stderr",
     "output_type": "stream",
     "text": [
      " 42%|████▏     | 166/397 [00:50<01:23,  2.78it/s]"
     ]
    },
    {
     "name": "stdout",
     "output_type": "stream",
     "text": [
      "2024-02-05 03:09:11,350 INFO image_writer.py:197 - writing: SOMEFOLDER/0091659/CT.nii\n",
      "2024-02-05 03:09:11,388 INFO image_writer.py:197 - writing: SOMEFOLDER/0091659/mask.nii\n"
     ]
    },
    {
     "name": "stderr",
     "output_type": "stream",
     "text": [
      " 42%|████▏     | 167/397 [00:51<01:29,  2.56it/s]"
     ]
    },
    {
     "name": "stdout",
     "output_type": "stream",
     "text": [
      "2024-02-05 03:09:11,565 INFO image_writer.py:197 - writing: SOMEFOLDER/0091660/CT.nii\n",
      "2024-02-05 03:09:11,604 INFO image_writer.py:197 - writing: SOMEFOLDER/0091660/mask.nii\n"
     ]
    },
    {
     "name": "stderr",
     "output_type": "stream",
     "text": [
      " 42%|████▏     | 168/397 [00:51<01:17,  2.96it/s]"
     ]
    },
    {
     "name": "stdout",
     "output_type": "stream",
     "text": [
      "2024-02-05 03:09:11,890 INFO image_writer.py:197 - writing: SOMEFOLDER/0091661/CT.nii\n",
      "2024-02-05 03:09:11,921 INFO image_writer.py:197 - writing: SOMEFOLDER/0091661/mask.nii\n"
     ]
    },
    {
     "name": "stderr",
     "output_type": "stream",
     "text": [
      " 43%|████▎     | 169/397 [00:51<01:15,  3.03it/s]"
     ]
    },
    {
     "name": "stdout",
     "output_type": "stream",
     "text": [
      "2024-02-05 03:09:12,097 INFO image_writer.py:197 - writing: SOMEFOLDER/0091663/CT.nii\n",
      "2024-02-05 03:09:12,127 INFO image_writer.py:197 - writing: SOMEFOLDER/0091663/mask.nii\n"
     ]
    },
    {
     "name": "stderr",
     "output_type": "stream",
     "text": [
      " 43%|████▎     | 170/397 [00:51<01:06,  3.39it/s]"
     ]
    },
    {
     "name": "stdout",
     "output_type": "stream",
     "text": [
      "2024-02-05 03:09:12,478 INFO image_writer.py:197 - writing: SOMEFOLDER/0091664/CT.nii\n",
      "2024-02-05 03:09:12,507 INFO image_writer.py:197 - writing: SOMEFOLDER/0091664/mask.nii\n"
     ]
    },
    {
     "name": "stderr",
     "output_type": "stream",
     "text": [
      " 43%|████▎     | 171/397 [00:52<01:13,  3.07it/s]"
     ]
    },
    {
     "name": "stdout",
     "output_type": "stream",
     "text": [
      "2024-02-05 03:09:12,735 INFO image_writer.py:197 - writing: SOMEFOLDER/0091667/CT.nii\n",
      "2024-02-05 03:09:12,766 INFO image_writer.py:197 - writing: SOMEFOLDER/0091667/mask.nii\n"
     ]
    },
    {
     "name": "stderr",
     "output_type": "stream",
     "text": [
      " 43%|████▎     | 172/397 [00:52<01:06,  3.36it/s]"
     ]
    },
    {
     "name": "stdout",
     "output_type": "stream",
     "text": [
      "2024-02-05 03:09:13,004 INFO image_writer.py:197 - writing: SOMEFOLDER/0091671/CT.nii\n",
      "2024-02-05 03:09:13,042 INFO image_writer.py:197 - writing: SOMEFOLDER/0091671/mask.nii\n"
     ]
    },
    {
     "name": "stderr",
     "output_type": "stream",
     "text": [
      " 44%|████▎     | 173/397 [00:52<01:06,  3.39it/s]"
     ]
    },
    {
     "name": "stdout",
     "output_type": "stream",
     "text": [
      "2024-02-05 03:09:13,235 INFO image_writer.py:197 - writing: SOMEFOLDER/0091672/CT.nii\n",
      "2024-02-05 03:09:13,293 INFO image_writer.py:197 - writing: SOMEFOLDER/0091672/mask.nii\n"
     ]
    },
    {
     "name": "stderr",
     "output_type": "stream",
     "text": [
      " 44%|████▍     | 174/397 [00:52<01:02,  3.59it/s]"
     ]
    },
    {
     "name": "stdout",
     "output_type": "stream",
     "text": [
      "2024-02-05 03:09:13,565 INFO image_writer.py:197 - writing: SOMEFOLDER/0091674/CT.nii\n",
      "2024-02-05 03:09:13,605 INFO image_writer.py:197 - writing: SOMEFOLDER/0091674/mask.nii\n"
     ]
    },
    {
     "name": "stderr",
     "output_type": "stream",
     "text": [
      " 44%|████▍     | 175/397 [00:53<01:03,  3.48it/s]"
     ]
    },
    {
     "name": "stdout",
     "output_type": "stream",
     "text": [
      "2024-02-05 03:09:13,769 INFO image_writer.py:197 - writing: SOMEFOLDER/0091680/CT.nii\n",
      "2024-02-05 03:09:13,799 INFO image_writer.py:197 - writing: SOMEFOLDER/0091680/mask.nii\n"
     ]
    },
    {
     "name": "stderr",
     "output_type": "stream",
     "text": [
      " 44%|████▍     | 176/397 [00:53<00:57,  3.83it/s]"
     ]
    },
    {
     "name": "stdout",
     "output_type": "stream",
     "text": [
      "2024-02-05 03:09:13,963 INFO image_writer.py:197 - writing: SOMEFOLDER/0091683/CT.nii\n",
      "2024-02-05 03:09:14,007 INFO image_writer.py:197 - writing: SOMEFOLDER/0091683/mask.nii\n"
     ]
    },
    {
     "name": "stderr",
     "output_type": "stream",
     "text": [
      " 45%|████▍     | 177/397 [00:53<00:53,  4.09it/s]"
     ]
    },
    {
     "name": "stdout",
     "output_type": "stream",
     "text": [
      "2024-02-05 03:09:14,173 INFO image_writer.py:197 - writing: SOMEFOLDER/0091684/CT.nii\n",
      "2024-02-05 03:09:14,206 INFO image_writer.py:197 - writing: SOMEFOLDER/0091684/mask.nii\n"
     ]
    },
    {
     "name": "stderr",
     "output_type": "stream",
     "text": [
      " 45%|████▍     | 178/397 [00:53<00:50,  4.34it/s]"
     ]
    },
    {
     "name": "stdout",
     "output_type": "stream",
     "text": [
      "2024-02-05 03:09:14,596 INFO image_writer.py:197 - writing: SOMEFOLDER/0091685/CT.nii\n",
      "2024-02-05 03:09:14,624 INFO image_writer.py:197 - writing: SOMEFOLDER/0091685/mask.nii\n"
     ]
    },
    {
     "name": "stderr",
     "output_type": "stream",
     "text": [
      " 45%|████▌     | 179/397 [00:54<01:02,  3.49it/s]"
     ]
    },
    {
     "name": "stdout",
     "output_type": "stream",
     "text": [
      "2024-02-05 03:09:14,791 INFO image_writer.py:197 - writing: SOMEFOLDER/0091690/CT.nii\n",
      "2024-02-05 03:09:14,822 INFO image_writer.py:197 - writing: SOMEFOLDER/0091690/mask.nii\n"
     ]
    },
    {
     "name": "stderr",
     "output_type": "stream",
     "text": [
      " 45%|████▌     | 180/397 [00:54<00:56,  3.83it/s]"
     ]
    },
    {
     "name": "stdout",
     "output_type": "stream",
     "text": [
      "2024-02-05 03:09:14,997 INFO image_writer.py:197 - writing: SOMEFOLDER/0091691/CT.nii\n",
      "2024-02-05 03:09:15,028 INFO image_writer.py:197 - writing: SOMEFOLDER/0091691/mask.nii\n"
     ]
    },
    {
     "name": "stderr",
     "output_type": "stream",
     "text": [
      " 46%|████▌     | 181/397 [00:54<00:53,  4.01it/s]"
     ]
    },
    {
     "name": "stdout",
     "output_type": "stream",
     "text": [
      "2024-02-05 03:09:15,454 INFO image_writer.py:197 - writing: SOMEFOLDER/0091696/CT.nii\n",
      "2024-02-05 03:09:15,496 INFO image_writer.py:197 - writing: SOMEFOLDER/0091696/mask.nii\n"
     ]
    },
    {
     "name": "stderr",
     "output_type": "stream",
     "text": [
      " 46%|████▌     | 182/397 [00:55<01:07,  3.18it/s]"
     ]
    },
    {
     "name": "stdout",
     "output_type": "stream",
     "text": [
      "2024-02-05 03:09:15,697 INFO image_writer.py:197 - writing: SOMEFOLDER/0226120/CT.nii\n",
      "2024-02-05 03:09:15,729 INFO image_writer.py:197 - writing: SOMEFOLDER/0226120/mask.nii\n"
     ]
    },
    {
     "name": "stderr",
     "output_type": "stream",
     "text": [
      " 46%|████▌     | 183/397 [00:55<01:01,  3.50it/s]"
     ]
    },
    {
     "name": "stdout",
     "output_type": "stream",
     "text": [
      "2024-02-05 03:09:16,042 INFO image_writer.py:197 - writing: SOMEFOLDER/0226121/CT.nii\n",
      "2024-02-05 03:09:16,078 INFO image_writer.py:197 - writing: SOMEFOLDER/0226121/mask.nii\n"
     ]
    },
    {
     "name": "stderr",
     "output_type": "stream",
     "text": [
      " 46%|████▋     | 184/397 [00:55<01:04,  3.29it/s]"
     ]
    },
    {
     "name": "stdout",
     "output_type": "stream",
     "text": [
      "2024-02-05 03:09:16,299 INFO image_writer.py:197 - writing: SOMEFOLDER/0226122/CT.nii\n",
      "2024-02-05 03:09:16,330 INFO image_writer.py:197 - writing: SOMEFOLDER/0226122/mask.nii\n"
     ]
    },
    {
     "name": "stderr",
     "output_type": "stream",
     "text": [
      " 47%|████▋     | 185/397 [00:55<01:01,  3.45it/s]"
     ]
    },
    {
     "name": "stdout",
     "output_type": "stream",
     "text": [
      "2024-02-05 03:09:16,518 INFO image_writer.py:197 - writing: SOMEFOLDER/0226123/CT.nii\n",
      "2024-02-05 03:09:16,549 INFO image_writer.py:197 - writing: SOMEFOLDER/0226123/mask.nii\n"
     ]
    },
    {
     "name": "stderr",
     "output_type": "stream",
     "text": [
      " 47%|████▋     | 186/397 [00:56<00:57,  3.66it/s]"
     ]
    },
    {
     "name": "stdout",
     "output_type": "stream",
     "text": [
      "2024-02-05 03:09:16,723 INFO image_writer.py:197 - writing: SOMEFOLDER/0226124/CT.nii\n",
      "2024-02-05 03:09:16,764 INFO image_writer.py:197 - writing: SOMEFOLDER/0226124/mask.nii\n"
     ]
    },
    {
     "name": "stderr",
     "output_type": "stream",
     "text": [
      " 47%|████▋     | 187/397 [00:56<00:52,  3.96it/s]"
     ]
    },
    {
     "name": "stdout",
     "output_type": "stream",
     "text": [
      "2024-02-05 03:09:17,076 INFO image_writer.py:197 - writing: SOMEFOLDER/0226125/CT.nii\n",
      "2024-02-05 03:09:17,114 INFO image_writer.py:197 - writing: SOMEFOLDER/0226125/mask.nii\n"
     ]
    },
    {
     "name": "stderr",
     "output_type": "stream",
     "text": [
      " 47%|████▋     | 188/397 [00:56<00:59,  3.52it/s]"
     ]
    },
    {
     "name": "stdout",
     "output_type": "stream",
     "text": [
      "2024-02-05 03:09:17,479 INFO image_writer.py:197 - writing: SOMEFOLDER/0226126/CT.nii\n",
      "2024-02-05 03:09:17,519 INFO image_writer.py:197 - writing: SOMEFOLDER/0226126/mask.nii\n"
     ]
    },
    {
     "name": "stderr",
     "output_type": "stream",
     "text": [
      " 48%|████▊     | 189/397 [00:57<01:05,  3.16it/s]"
     ]
    },
    {
     "name": "stdout",
     "output_type": "stream",
     "text": [
      "2024-02-05 03:09:17,740 INFO image_writer.py:197 - writing: SOMEFOLDER/0226128/CT.nii\n",
      "2024-02-05 03:09:17,774 INFO image_writer.py:197 - writing: SOMEFOLDER/0226128/mask.nii\n"
     ]
    },
    {
     "name": "stderr",
     "output_type": "stream",
     "text": [
      " 48%|████▊     | 190/397 [00:57<01:01,  3.37it/s]"
     ]
    },
    {
     "name": "stdout",
     "output_type": "stream",
     "text": [
      "2024-02-05 03:09:17,927 INFO image_writer.py:197 - writing: SOMEFOLDER/0226129/CT.nii\n",
      "2024-02-05 03:09:17,963 INFO image_writer.py:197 - writing: SOMEFOLDER/0226129/mask.nii\n"
     ]
    },
    {
     "name": "stderr",
     "output_type": "stream",
     "text": [
      " 48%|████▊     | 191/397 [00:57<00:55,  3.74it/s]"
     ]
    },
    {
     "name": "stdout",
     "output_type": "stream",
     "text": [
      "2024-02-05 03:09:18,128 INFO image_writer.py:197 - writing: SOMEFOLDER/0226130/CT.nii\n",
      "2024-02-05 03:09:18,173 INFO image_writer.py:197 - writing: SOMEFOLDER/0226130/mask.nii\n"
     ]
    },
    {
     "name": "stderr",
     "output_type": "stream",
     "text": [
      " 48%|████▊     | 192/397 [00:57<00:51,  3.99it/s]"
     ]
    },
    {
     "name": "stdout",
     "output_type": "stream",
     "text": [
      "2024-02-05 03:09:18,521 INFO image_writer.py:197 - writing: SOMEFOLDER/0226132/CT.nii\n",
      "2024-02-05 03:09:18,546 INFO image_writer.py:197 - writing: SOMEFOLDER/0226132/mask.nii\n"
     ]
    },
    {
     "name": "stderr",
     "output_type": "stream",
     "text": [
      " 49%|████▊     | 193/397 [00:58<00:57,  3.52it/s]"
     ]
    },
    {
     "name": "stdout",
     "output_type": "stream",
     "text": [
      "2024-02-05 03:09:18,688 INFO image_writer.py:197 - writing: SOMEFOLDER/0226133/CT.nii\n",
      "2024-02-05 03:09:18,728 INFO image_writer.py:197 - writing: SOMEFOLDER/0226133/mask.nii\n"
     ]
    },
    {
     "name": "stderr",
     "output_type": "stream",
     "text": [
      " 49%|████▉     | 194/397 [00:58<00:51,  3.92it/s]"
     ]
    },
    {
     "name": "stdout",
     "output_type": "stream",
     "text": [
      "2024-02-05 03:09:18,907 INFO image_writer.py:197 - writing: SOMEFOLDER/0226135/CT.nii\n",
      "2024-02-05 03:09:18,944 INFO image_writer.py:197 - writing: SOMEFOLDER/0226135/mask.nii\n"
     ]
    },
    {
     "name": "stderr",
     "output_type": "stream",
     "text": [
      " 49%|████▉     | 195/397 [00:58<00:50,  4.03it/s]"
     ]
    },
    {
     "name": "stdout",
     "output_type": "stream",
     "text": [
      "2024-02-05 03:09:19,156 INFO image_writer.py:197 - writing: SOMEFOLDER/0226136/CT.nii\n",
      "2024-02-05 03:09:19,223 INFO image_writer.py:197 - writing: SOMEFOLDER/0226136/mask.nii\n"
     ]
    },
    {
     "name": "stderr",
     "output_type": "stream",
     "text": [
      " 49%|████▉     | 196/397 [00:58<00:49,  4.02it/s]"
     ]
    },
    {
     "name": "stdout",
     "output_type": "stream",
     "text": [
      "2024-02-05 03:09:19,549 INFO image_writer.py:197 - writing: SOMEFOLDER/0226137/CT.nii\n",
      "2024-02-05 03:09:19,603 INFO image_writer.py:197 - writing: SOMEFOLDER/0226137/mask.nii\n"
     ]
    },
    {
     "name": "stderr",
     "output_type": "stream",
     "text": [
      " 50%|████▉     | 197/397 [00:59<00:57,  3.47it/s]"
     ]
    },
    {
     "name": "stdout",
     "output_type": "stream",
     "text": [
      "2024-02-05 03:09:19,910 INFO image_writer.py:197 - writing: SOMEFOLDER/0226139/CT.nii\n",
      "2024-02-05 03:09:19,940 INFO image_writer.py:197 - writing: SOMEFOLDER/0226139/mask.nii\n"
     ]
    },
    {
     "name": "stderr",
     "output_type": "stream",
     "text": [
      " 50%|████▉     | 198/397 [00:59<01:01,  3.26it/s]"
     ]
    },
    {
     "name": "stdout",
     "output_type": "stream",
     "text": [
      "2024-02-05 03:09:20,142 INFO image_writer.py:197 - writing: SOMEFOLDER/0226141/CT.nii\n",
      "2024-02-05 03:09:20,185 INFO image_writer.py:197 - writing: SOMEFOLDER/0226141/mask.nii\n"
     ]
    },
    {
     "name": "stderr",
     "output_type": "stream",
     "text": [
      " 50%|█████     | 199/397 [00:59<00:56,  3.49it/s]"
     ]
    },
    {
     "name": "stdout",
     "output_type": "stream",
     "text": [
      "2024-02-05 03:09:20,388 INFO image_writer.py:197 - writing: SOMEFOLDER/0226142/CT.nii\n",
      "2024-02-05 03:09:20,421 INFO image_writer.py:197 - writing: SOMEFOLDER/0226142/mask.nii\n"
     ]
    },
    {
     "name": "stderr",
     "output_type": "stream",
     "text": [
      " 50%|█████     | 200/397 [01:00<00:53,  3.69it/s]"
     ]
    },
    {
     "name": "stdout",
     "output_type": "stream",
     "text": [
      "2024-02-05 03:09:20,770 INFO image_writer.py:197 - writing: SOMEFOLDER/0226143/CT.nii\n",
      "2024-02-05 03:09:20,799 INFO image_writer.py:197 - writing: SOMEFOLDER/0226143/mask.nii\n"
     ]
    },
    {
     "name": "stderr",
     "output_type": "stream",
     "text": [
      " 51%|█████     | 201/397 [01:00<00:59,  3.29it/s]"
     ]
    },
    {
     "name": "stdout",
     "output_type": "stream",
     "text": [
      "2024-02-05 03:09:21,140 INFO image_writer.py:197 - writing: SOMEFOLDER/0226179/CT.nii\n",
      "2024-02-05 03:09:21,172 INFO image_writer.py:197 - writing: SOMEFOLDER/0226179/mask.nii\n"
     ]
    },
    {
     "name": "stderr",
     "output_type": "stream",
     "text": [
      " 51%|█████     | 202/397 [01:00<01:03,  3.08it/s]"
     ]
    },
    {
     "name": "stdout",
     "output_type": "stream",
     "text": [
      "2024-02-05 03:09:21,760 INFO image_writer.py:197 - writing: SOMEFOLDER/0226180/CT.nii\n",
      "2024-02-05 03:09:21,808 INFO image_writer.py:197 - writing: SOMEFOLDER/0226180/mask.nii\n"
     ]
    },
    {
     "name": "stderr",
     "output_type": "stream",
     "text": [
      " 51%|█████     | 203/397 [01:01<01:21,  2.39it/s]"
     ]
    },
    {
     "name": "stdout",
     "output_type": "stream",
     "text": [
      "2024-02-05 03:09:21,992 INFO image_writer.py:197 - writing: SOMEFOLDER/0226181/CT.nii\n",
      "2024-02-05 03:09:22,039 INFO image_writer.py:197 - writing: SOMEFOLDER/0226181/mask.nii\n"
     ]
    },
    {
     "name": "stderr",
     "output_type": "stream",
     "text": [
      " 51%|█████▏    | 204/397 [01:01<01:12,  2.67it/s]"
     ]
    },
    {
     "name": "stdout",
     "output_type": "stream",
     "text": [
      "2024-02-05 03:09:22,309 INFO image_writer.py:197 - writing: SOMEFOLDER/0226182/CT.nii\n",
      "2024-02-05 03:09:22,351 INFO image_writer.py:197 - writing: SOMEFOLDER/0226182/mask.nii\n"
     ]
    },
    {
     "name": "stderr",
     "output_type": "stream",
     "text": [
      " 52%|█████▏    | 205/397 [01:01<01:06,  2.89it/s]"
     ]
    },
    {
     "name": "stdout",
     "output_type": "stream",
     "text": [
      "2024-02-05 03:09:22,535 INFO image_writer.py:197 - writing: SOMEFOLDER/0226183/CT.nii\n",
      "2024-02-05 03:09:22,572 INFO image_writer.py:197 - writing: SOMEFOLDER/0226183/mask.nii\n"
     ]
    },
    {
     "name": "stderr",
     "output_type": "stream",
     "text": [
      " 52%|█████▏    | 206/397 [01:02<00:58,  3.26it/s]"
     ]
    },
    {
     "name": "stdout",
     "output_type": "stream",
     "text": [
      "2024-02-05 03:09:22,894 INFO image_writer.py:197 - writing: SOMEFOLDER/0226184/CT.nii\n",
      "2024-02-05 03:09:22,938 INFO image_writer.py:197 - writing: SOMEFOLDER/0226184/mask.nii\n"
     ]
    },
    {
     "name": "stderr",
     "output_type": "stream",
     "text": [
      " 52%|█████▏    | 207/397 [01:02<01:01,  3.08it/s]"
     ]
    },
    {
     "name": "stdout",
     "output_type": "stream",
     "text": [
      "2024-02-05 03:09:23,252 INFO image_writer.py:197 - writing: SOMEFOLDER/0226185/CT.nii\n",
      "2024-02-05 03:09:23,280 INFO image_writer.py:197 - writing: SOMEFOLDER/0226185/mask.nii\n"
     ]
    },
    {
     "name": "stderr",
     "output_type": "stream",
     "text": [
      " 52%|█████▏    | 208/397 [01:02<01:01,  3.06it/s]"
     ]
    },
    {
     "name": "stdout",
     "output_type": "stream",
     "text": [
      "2024-02-05 03:09:23,592 INFO image_writer.py:197 - writing: SOMEFOLDER/0226187/CT.nii\n",
      "2024-02-05 03:09:23,620 INFO image_writer.py:197 - writing: SOMEFOLDER/0226187/mask.nii\n"
     ]
    },
    {
     "name": "stderr",
     "output_type": "stream",
     "text": [
      " 53%|█████▎    | 209/397 [01:03<01:02,  3.00it/s]"
     ]
    },
    {
     "name": "stdout",
     "output_type": "stream",
     "text": [
      "2024-02-05 03:09:23,944 INFO image_writer.py:197 - writing: SOMEFOLDER/0226188/CT.nii\n",
      "2024-02-05 03:09:23,987 INFO image_writer.py:197 - writing: SOMEFOLDER/0226188/mask.nii\n"
     ]
    },
    {
     "name": "stderr",
     "output_type": "stream",
     "text": [
      " 53%|█████▎    | 210/397 [01:03<01:03,  2.93it/s]"
     ]
    },
    {
     "name": "stdout",
     "output_type": "stream",
     "text": [
      "2024-02-05 03:09:24,176 INFO image_writer.py:197 - writing: SOMEFOLDER/0226190/CT.nii\n",
      "2024-02-05 03:09:24,210 INFO image_writer.py:197 - writing: SOMEFOLDER/0226190/mask.nii\n"
     ]
    },
    {
     "name": "stderr",
     "output_type": "stream",
     "text": [
      " 53%|█████▎    | 211/397 [01:03<00:57,  3.26it/s]"
     ]
    },
    {
     "name": "stdout",
     "output_type": "stream",
     "text": [
      "2024-02-05 03:09:24,400 INFO image_writer.py:197 - writing: SOMEFOLDER/0226192/CT.nii\n",
      "2024-02-05 03:09:24,432 INFO image_writer.py:197 - writing: SOMEFOLDER/0226192/mask.nii\n"
     ]
    },
    {
     "name": "stderr",
     "output_type": "stream",
     "text": [
      " 53%|█████▎    | 212/397 [01:04<00:51,  3.56it/s]"
     ]
    },
    {
     "name": "stdout",
     "output_type": "stream",
     "text": [
      "2024-02-05 03:09:24,643 INFO image_writer.py:197 - writing: SOMEFOLDER/0226194/CT.nii\n",
      "2024-02-05 03:09:24,714 INFO image_writer.py:197 - writing: SOMEFOLDER/0226194/mask.nii\n"
     ]
    },
    {
     "name": "stderr",
     "output_type": "stream",
     "text": [
      " 54%|█████▎    | 213/397 [01:04<00:52,  3.52it/s]"
     ]
    },
    {
     "name": "stdout",
     "output_type": "stream",
     "text": [
      "2024-02-05 03:09:24,982 INFO image_writer.py:197 - writing: SOMEFOLDER/0226195/CT.nii\n",
      "2024-02-05 03:09:25,019 INFO image_writer.py:197 - writing: SOMEFOLDER/0226195/mask.nii\n"
     ]
    },
    {
     "name": "stderr",
     "output_type": "stream",
     "text": [
      " 54%|█████▍    | 214/397 [01:04<00:52,  3.46it/s]"
     ]
    },
    {
     "name": "stdout",
     "output_type": "stream",
     "text": [
      "2024-02-05 03:09:25,426 INFO image_writer.py:197 - writing: SOMEFOLDER/0226197/CT.nii\n",
      "2024-02-05 03:09:25,459 INFO image_writer.py:197 - writing: SOMEFOLDER/0226197/mask.nii\n"
     ]
    },
    {
     "name": "stderr",
     "output_type": "stream",
     "text": [
      " 54%|█████▍    | 215/397 [01:05<01:00,  3.00it/s]"
     ]
    },
    {
     "name": "stdout",
     "output_type": "stream",
     "text": [
      "2024-02-05 03:09:25,809 INFO image_writer.py:197 - writing: SOMEFOLDER/0226198/CT.nii\n",
      "2024-02-05 03:09:25,848 INFO image_writer.py:197 - writing: SOMEFOLDER/0226198/mask.nii\n"
     ]
    },
    {
     "name": "stderr",
     "output_type": "stream",
     "text": [
      " 54%|█████▍    | 216/397 [01:05<01:03,  2.85it/s]"
     ]
    },
    {
     "name": "stdout",
     "output_type": "stream",
     "text": [
      "2024-02-05 03:09:26,089 INFO image_writer.py:197 - writing: SOMEFOLDER/0226199/CT.nii\n",
      "2024-02-05 03:09:26,131 INFO image_writer.py:197 - writing: SOMEFOLDER/0226199/mask.nii\n"
     ]
    },
    {
     "name": "stderr",
     "output_type": "stream",
     "text": [
      " 55%|█████▍    | 217/397 [01:05<00:59,  3.03it/s]"
     ]
    },
    {
     "name": "stdout",
     "output_type": "stream",
     "text": [
      "2024-02-05 03:09:26,454 INFO image_writer.py:197 - writing: SOMEFOLDER/0226200/CT.nii\n",
      "2024-02-05 03:09:26,489 INFO image_writer.py:197 - writing: SOMEFOLDER/0226200/mask.nii\n"
     ]
    },
    {
     "name": "stderr",
     "output_type": "stream",
     "text": [
      " 55%|█████▍    | 218/397 [01:06<01:00,  2.96it/s]"
     ]
    },
    {
     "name": "stdout",
     "output_type": "stream",
     "text": [
      "2024-02-05 03:09:26,689 INFO image_writer.py:197 - writing: SOMEFOLDER/0226201/CT.nii\n",
      "2024-02-05 03:09:26,716 INFO image_writer.py:197 - writing: SOMEFOLDER/0226201/mask.nii\n"
     ]
    },
    {
     "name": "stderr",
     "output_type": "stream",
     "text": [
      " 55%|█████▌    | 219/397 [01:06<00:54,  3.29it/s]"
     ]
    },
    {
     "name": "stdout",
     "output_type": "stream",
     "text": [
      "2024-02-05 03:09:27,040 INFO image_writer.py:197 - writing: SOMEFOLDER/0226202/CT.nii\n",
      "2024-02-05 03:09:27,069 INFO image_writer.py:197 - writing: SOMEFOLDER/0226202/mask.nii\n"
     ]
    },
    {
     "name": "stderr",
     "output_type": "stream",
     "text": [
      " 55%|█████▌    | 220/397 [01:06<00:56,  3.12it/s]"
     ]
    },
    {
     "name": "stdout",
     "output_type": "stream",
     "text": [
      "2024-02-05 03:09:27,276 INFO image_writer.py:197 - writing: SOMEFOLDER/0226203/CT.nii\n",
      "2024-02-05 03:09:27,310 INFO image_writer.py:197 - writing: SOMEFOLDER/0226203/mask.nii\n"
     ]
    },
    {
     "name": "stderr",
     "output_type": "stream",
     "text": [
      " 56%|█████▌    | 221/397 [01:06<00:51,  3.39it/s]"
     ]
    },
    {
     "name": "stdout",
     "output_type": "stream",
     "text": [
      "2024-02-05 03:09:27,518 INFO image_writer.py:197 - writing: SOMEFOLDER/0226204/CT.nii\n",
      "2024-02-05 03:09:27,555 INFO image_writer.py:197 - writing: SOMEFOLDER/0226204/mask.nii\n"
     ]
    },
    {
     "name": "stderr",
     "output_type": "stream",
     "text": [
      " 56%|█████▌    | 222/397 [01:07<00:48,  3.58it/s]"
     ]
    },
    {
     "name": "stdout",
     "output_type": "stream",
     "text": [
      "2024-02-05 03:09:27,727 INFO image_writer.py:197 - writing: SOMEFOLDER/0226205/CT.nii\n",
      "2024-02-05 03:09:27,769 INFO image_writer.py:197 - writing: SOMEFOLDER/0226205/mask.nii\n"
     ]
    },
    {
     "name": "stderr",
     "output_type": "stream",
     "text": [
      " 56%|█████▌    | 223/397 [01:07<00:45,  3.83it/s]"
     ]
    },
    {
     "name": "stdout",
     "output_type": "stream",
     "text": [
      "2024-02-05 03:09:28,095 INFO image_writer.py:197 - writing: SOMEFOLDER/0226206/CT.nii\n",
      "2024-02-05 03:09:28,126 INFO image_writer.py:197 - writing: SOMEFOLDER/0226206/mask.nii\n"
     ]
    },
    {
     "name": "stderr",
     "output_type": "stream",
     "text": [
      " 56%|█████▋    | 224/397 [01:07<00:50,  3.44it/s]"
     ]
    },
    {
     "name": "stdout",
     "output_type": "stream",
     "text": [
      "2024-02-05 03:09:28,374 INFO image_writer.py:197 - writing: SOMEFOLDER/0226208/CT.nii\n",
      "2024-02-05 03:09:28,413 INFO image_writer.py:197 - writing: SOMEFOLDER/0226208/mask.nii\n"
     ]
    },
    {
     "name": "stderr",
     "output_type": "stream",
     "text": [
      " 57%|█████▋    | 225/397 [01:08<00:49,  3.45it/s]"
     ]
    },
    {
     "name": "stdout",
     "output_type": "stream",
     "text": [
      "2024-02-05 03:09:28,605 INFO image_writer.py:197 - writing: SOMEFOLDER/0226249/CT.nii\n",
      "2024-02-05 03:09:28,644 INFO image_writer.py:197 - writing: SOMEFOLDER/0226249/mask.nii\n"
     ]
    },
    {
     "name": "stderr",
     "output_type": "stream",
     "text": [
      " 57%|█████▋    | 226/397 [01:08<00:46,  3.68it/s]"
     ]
    },
    {
     "name": "stdout",
     "output_type": "stream",
     "text": [
      "2024-02-05 03:09:28,838 INFO image_writer.py:197 - writing: SOMEFOLDER/0226250/CT.nii\n",
      "2024-02-05 03:09:28,891 INFO image_writer.py:197 - writing: SOMEFOLDER/0226250/mask.nii\n"
     ]
    },
    {
     "name": "stderr",
     "output_type": "stream",
     "text": [
      " 57%|█████▋    | 227/397 [01:08<00:44,  3.81it/s]"
     ]
    },
    {
     "name": "stdout",
     "output_type": "stream",
     "text": [
      "2024-02-05 03:09:29,072 INFO image_writer.py:197 - writing: SOMEFOLDER/0226251/CT.nii\n",
      "2024-02-05 03:09:29,109 INFO image_writer.py:197 - writing: SOMEFOLDER/0226251/mask.nii\n"
     ]
    },
    {
     "name": "stderr",
     "output_type": "stream",
     "text": [
      " 57%|█████▋    | 228/397 [01:08<00:42,  3.99it/s]"
     ]
    },
    {
     "name": "stdout",
     "output_type": "stream",
     "text": [
      "2024-02-05 03:09:29,304 INFO image_writer.py:197 - writing: SOMEFOLDER/0226252/CT.nii\n",
      "2024-02-05 03:09:29,335 INFO image_writer.py:197 - writing: SOMEFOLDER/0226252/mask.nii\n"
     ]
    },
    {
     "name": "stderr",
     "output_type": "stream",
     "text": [
      " 58%|█████▊    | 229/397 [01:08<00:41,  4.09it/s]"
     ]
    },
    {
     "name": "stdout",
     "output_type": "stream",
     "text": [
      "2024-02-05 03:09:29,562 INFO image_writer.py:197 - writing: SOMEFOLDER/0226253/CT.nii\n",
      "2024-02-05 03:09:29,591 INFO image_writer.py:197 - writing: SOMEFOLDER/0226253/mask.nii\n"
     ]
    },
    {
     "name": "stderr",
     "output_type": "stream",
     "text": [
      " 58%|█████▊    | 230/397 [01:09<00:42,  3.94it/s]"
     ]
    },
    {
     "name": "stdout",
     "output_type": "stream",
     "text": [
      "2024-02-05 03:09:29,813 INFO image_writer.py:197 - writing: SOMEFOLDER/0226254/CT.nii\n",
      "2024-02-05 03:09:29,845 INFO image_writer.py:197 - writing: SOMEFOLDER/0226254/mask.nii\n"
     ]
    },
    {
     "name": "stderr",
     "output_type": "stream",
     "text": [
      " 58%|█████▊    | 231/397 [01:09<00:40,  4.06it/s]"
     ]
    },
    {
     "name": "stdout",
     "output_type": "stream",
     "text": [
      "2024-02-05 03:09:30,047 INFO image_writer.py:197 - writing: SOMEFOLDER/0226255/CT.nii\n",
      "2024-02-05 03:09:30,080 INFO image_writer.py:197 - writing: SOMEFOLDER/0226255/mask.nii\n"
     ]
    },
    {
     "name": "stderr",
     "output_type": "stream",
     "text": [
      " 58%|█████▊    | 232/397 [01:09<00:40,  4.11it/s]"
     ]
    },
    {
     "name": "stdout",
     "output_type": "stream",
     "text": [
      "2024-02-05 03:09:30,369 INFO image_writer.py:197 - writing: SOMEFOLDER/0226256/CT.nii\n",
      "2024-02-05 03:09:30,402 INFO image_writer.py:197 - writing: SOMEFOLDER/0226256/mask.nii\n"
     ]
    },
    {
     "name": "stderr",
     "output_type": "stream",
     "text": [
      " 59%|█████▊    | 233/397 [01:10<00:43,  3.78it/s]"
     ]
    },
    {
     "name": "stdout",
     "output_type": "stream",
     "text": [
      "2024-02-05 03:09:30,600 INFO image_writer.py:197 - writing: SOMEFOLDER/0226257/CT.nii\n",
      "2024-02-05 03:09:30,635 INFO image_writer.py:197 - writing: SOMEFOLDER/0226257/mask.nii\n"
     ]
    },
    {
     "name": "stderr",
     "output_type": "stream",
     "text": [
      " 59%|█████▉    | 234/397 [01:10<00:42,  3.87it/s]"
     ]
    },
    {
     "name": "stdout",
     "output_type": "stream",
     "text": [
      "2024-02-05 03:09:30,841 INFO image_writer.py:197 - writing: SOMEFOLDER/0226258/CT.nii\n",
      "2024-02-05 03:09:30,872 INFO image_writer.py:197 - writing: SOMEFOLDER/0226258/mask.nii\n"
     ]
    },
    {
     "name": "stderr",
     "output_type": "stream",
     "text": [
      " 59%|█████▉    | 235/397 [01:10<00:40,  3.96it/s]"
     ]
    },
    {
     "name": "stdout",
     "output_type": "stream",
     "text": [
      "2024-02-05 03:09:31,184 INFO image_writer.py:197 - writing: SOMEFOLDER/0226259/CT.nii\n",
      "2024-02-05 03:09:31,222 INFO image_writer.py:197 - writing: SOMEFOLDER/0226259/mask.nii\n"
     ]
    },
    {
     "name": "stderr",
     "output_type": "stream",
     "text": [
      " 59%|█████▉    | 236/397 [01:10<00:45,  3.58it/s]"
     ]
    },
    {
     "name": "stdout",
     "output_type": "stream",
     "text": [
      "2024-02-05 03:09:31,503 INFO image_writer.py:197 - writing: SOMEFOLDER/0226261/CT.nii\n",
      "2024-02-05 03:09:31,542 INFO image_writer.py:197 - writing: SOMEFOLDER/0226261/mask.nii\n"
     ]
    },
    {
     "name": "stderr",
     "output_type": "stream",
     "text": [
      " 60%|█████▉    | 237/397 [01:11<00:46,  3.43it/s]"
     ]
    },
    {
     "name": "stdout",
     "output_type": "stream",
     "text": [
      "2024-02-05 03:09:31,734 INFO image_writer.py:197 - writing: SOMEFOLDER/0226262/CT.nii\n",
      "2024-02-05 03:09:31,800 INFO image_writer.py:197 - writing: SOMEFOLDER/0226262/mask.nii\n"
     ]
    },
    {
     "name": "stderr",
     "output_type": "stream",
     "text": [
      " 60%|█████▉    | 238/397 [01:11<00:45,  3.49it/s]"
     ]
    },
    {
     "name": "stdout",
     "output_type": "stream",
     "text": [
      "2024-02-05 03:09:32,178 INFO image_writer.py:197 - writing: SOMEFOLDER/0226263/CT.nii\n",
      "2024-02-05 03:09:32,209 INFO image_writer.py:197 - writing: SOMEFOLDER/0226263/mask.nii\n"
     ]
    },
    {
     "name": "stderr",
     "output_type": "stream",
     "text": [
      " 60%|██████    | 239/397 [01:11<00:50,  3.14it/s]"
     ]
    },
    {
     "name": "stdout",
     "output_type": "stream",
     "text": [
      "2024-02-05 03:09:32,384 INFO image_writer.py:197 - writing: SOMEFOLDER/0226265/CT.nii\n",
      "2024-02-05 03:09:32,415 INFO image_writer.py:197 - writing: SOMEFOLDER/0226265/mask.nii\n"
     ]
    },
    {
     "name": "stderr",
     "output_type": "stream",
     "text": [
      " 60%|██████    | 240/397 [01:12<00:44,  3.52it/s]"
     ]
    },
    {
     "name": "stdout",
     "output_type": "stream",
     "text": [
      "2024-02-05 03:09:32,607 INFO image_writer.py:197 - writing: SOMEFOLDER/0226266/CT.nii\n",
      "2024-02-05 03:09:32,637 INFO image_writer.py:197 - writing: SOMEFOLDER/0226266/mask.nii\n"
     ]
    },
    {
     "name": "stderr",
     "output_type": "stream",
     "text": [
      " 61%|██████    | 241/397 [01:12<00:42,  3.70it/s]"
     ]
    },
    {
     "name": "stdout",
     "output_type": "stream",
     "text": [
      "2024-02-05 03:09:32,909 INFO image_writer.py:197 - writing: SOMEFOLDER/0226267/CT.nii\n",
      "2024-02-05 03:09:32,946 INFO image_writer.py:197 - writing: SOMEFOLDER/0226267/mask.nii\n"
     ]
    },
    {
     "name": "stderr",
     "output_type": "stream",
     "text": [
      " 61%|██████    | 242/397 [01:12<00:43,  3.57it/s]"
     ]
    },
    {
     "name": "stdout",
     "output_type": "stream",
     "text": [
      "2024-02-05 03:09:33,138 INFO image_writer.py:197 - writing: SOMEFOLDER/0226268/CT.nii\n",
      "2024-02-05 03:09:33,179 INFO image_writer.py:197 - writing: SOMEFOLDER/0226268/mask.nii\n"
     ]
    },
    {
     "name": "stderr",
     "output_type": "stream",
     "text": [
      " 61%|██████    | 243/397 [01:12<00:40,  3.78it/s]"
     ]
    },
    {
     "name": "stdout",
     "output_type": "stream",
     "text": [
      "2024-02-05 03:09:33,490 INFO image_writer.py:197 - writing: SOMEFOLDER/0226270/CT.nii\n",
      "2024-02-05 03:09:33,520 INFO image_writer.py:197 - writing: SOMEFOLDER/0226270/mask.nii\n"
     ]
    },
    {
     "name": "stderr",
     "output_type": "stream",
     "text": [
      " 61%|██████▏   | 244/397 [01:13<00:43,  3.50it/s]"
     ]
    },
    {
     "name": "stdout",
     "output_type": "stream",
     "text": [
      "2024-02-05 03:09:33,815 INFO image_writer.py:197 - writing: SOMEFOLDER/0226271/CT.nii\n",
      "2024-02-05 03:09:33,844 INFO image_writer.py:197 - writing: SOMEFOLDER/0226271/mask.nii\n"
     ]
    },
    {
     "name": "stderr",
     "output_type": "stream",
     "text": [
      " 62%|██████▏   | 245/397 [01:13<00:45,  3.34it/s]"
     ]
    },
    {
     "name": "stdout",
     "output_type": "stream",
     "text": [
      "2024-02-05 03:09:34,125 INFO image_writer.py:197 - writing: SOMEFOLDER/0226272/CT.nii\n",
      "2024-02-05 03:09:34,159 INFO image_writer.py:197 - writing: SOMEFOLDER/0226272/mask.nii\n"
     ]
    },
    {
     "name": "stderr",
     "output_type": "stream",
     "text": [
      " 62%|██████▏   | 246/397 [01:13<00:46,  3.28it/s]"
     ]
    },
    {
     "name": "stdout",
     "output_type": "stream",
     "text": [
      "2024-02-05 03:09:34,368 INFO image_writer.py:197 - writing: SOMEFOLDER/0226273/CT.nii\n",
      "2024-02-05 03:09:34,412 INFO image_writer.py:197 - writing: SOMEFOLDER/0226273/mask.nii\n"
     ]
    },
    {
     "name": "stderr",
     "output_type": "stream",
     "text": [
      " 62%|██████▏   | 247/397 [01:14<00:43,  3.46it/s]"
     ]
    },
    {
     "name": "stdout",
     "output_type": "stream",
     "text": [
      "2024-02-05 03:09:34,801 INFO image_writer.py:197 - writing: SOMEFOLDER/0226274/CT.nii\n",
      "2024-02-05 03:09:34,831 INFO image_writer.py:197 - writing: SOMEFOLDER/0226274/mask.nii\n"
     ]
    },
    {
     "name": "stderr",
     "output_type": "stream",
     "text": [
      " 62%|██████▏   | 248/397 [01:14<00:49,  3.03it/s]"
     ]
    },
    {
     "name": "stdout",
     "output_type": "stream",
     "text": [
      "2024-02-05 03:09:35,139 INFO image_writer.py:197 - writing: SOMEFOLDER/0226275/CT.nii\n",
      "2024-02-05 03:09:35,171 INFO image_writer.py:197 - writing: SOMEFOLDER/0226275/mask.nii\n"
     ]
    },
    {
     "name": "stderr",
     "output_type": "stream",
     "text": [
      " 63%|██████▎   | 249/397 [01:14<00:48,  3.04it/s]"
     ]
    },
    {
     "name": "stdout",
     "output_type": "stream",
     "text": [
      "2024-02-05 03:09:35,340 INFO image_writer.py:197 - writing: SOMEFOLDER/0226276/CT.nii\n",
      "2024-02-05 03:09:35,394 INFO image_writer.py:197 - writing: SOMEFOLDER/0226276/mask.nii\n"
     ]
    },
    {
     "name": "stderr",
     "output_type": "stream",
     "text": [
      " 63%|██████▎   | 250/397 [01:15<00:43,  3.37it/s]"
     ]
    },
    {
     "name": "stdout",
     "output_type": "stream",
     "text": [
      "2024-02-05 03:09:35,538 INFO image_writer.py:197 - writing: SOMEFOLDER/0226279/CT.nii\n",
      "2024-02-05 03:09:35,577 INFO image_writer.py:197 - writing: SOMEFOLDER/0226279/mask.nii\n"
     ]
    },
    {
     "name": "stderr",
     "output_type": "stream",
     "text": [
      " 63%|██████▎   | 251/397 [01:15<00:38,  3.83it/s]"
     ]
    },
    {
     "name": "stdout",
     "output_type": "stream",
     "text": [
      "2024-02-05 03:09:35,722 INFO image_writer.py:197 - writing: SOMEFOLDER/0226281/CT.nii\n",
      "2024-02-05 03:09:35,752 INFO image_writer.py:197 - writing: SOMEFOLDER/0226281/mask.nii\n"
     ]
    },
    {
     "name": "stderr",
     "output_type": "stream",
     "text": [
      " 63%|██████▎   | 252/397 [01:15<00:33,  4.27it/s]"
     ]
    },
    {
     "name": "stdout",
     "output_type": "stream",
     "text": [
      "2024-02-05 03:09:35,913 INFO image_writer.py:197 - writing: SOMEFOLDER/0226282/CT.nii\n",
      "2024-02-05 03:09:35,948 INFO image_writer.py:197 - writing: SOMEFOLDER/0226282/mask.nii\n"
     ]
    },
    {
     "name": "stderr",
     "output_type": "stream",
     "text": [
      " 64%|██████▎   | 253/397 [01:15<00:32,  4.46it/s]"
     ]
    },
    {
     "name": "stdout",
     "output_type": "stream",
     "text": [
      "2024-02-05 03:09:36,298 INFO image_writer.py:197 - writing: SOMEFOLDER/0226283/CT.nii\n",
      "2024-02-05 03:09:36,325 INFO image_writer.py:197 - writing: SOMEFOLDER/0226283/mask.nii\n"
     ]
    },
    {
     "name": "stderr",
     "output_type": "stream",
     "text": [
      " 64%|██████▍   | 254/397 [01:15<00:38,  3.72it/s]"
     ]
    },
    {
     "name": "stdout",
     "output_type": "stream",
     "text": [
      "2024-02-05 03:09:36,631 INFO image_writer.py:197 - writing: SOMEFOLDER/0226284/CT.nii\n",
      "2024-02-05 03:09:36,668 INFO image_writer.py:197 - writing: SOMEFOLDER/0226284/mask.nii\n"
     ]
    },
    {
     "name": "stderr",
     "output_type": "stream",
     "text": [
      " 64%|██████▍   | 255/397 [01:16<00:41,  3.43it/s]"
     ]
    },
    {
     "name": "stdout",
     "output_type": "stream",
     "text": [
      "2024-02-05 03:09:36,913 INFO image_writer.py:197 - writing: SOMEFOLDER/0226285/CT.nii\n",
      "2024-02-05 03:09:36,939 INFO image_writer.py:197 - writing: SOMEFOLDER/0226285/mask.nii\n"
     ]
    },
    {
     "name": "stderr",
     "output_type": "stream",
     "text": [
      " 64%|██████▍   | 256/397 [01:16<00:40,  3.50it/s]"
     ]
    },
    {
     "name": "stdout",
     "output_type": "stream",
     "text": [
      "2024-02-05 03:09:37,253 INFO image_writer.py:197 - writing: SOMEFOLDER/0226286/CT.nii\n",
      "2024-02-05 03:09:37,283 INFO image_writer.py:197 - writing: SOMEFOLDER/0226286/mask.nii\n"
     ]
    },
    {
     "name": "stderr",
     "output_type": "stream",
     "text": [
      " 65%|██████▍   | 257/397 [01:16<00:42,  3.28it/s]"
     ]
    },
    {
     "name": "stdout",
     "output_type": "stream",
     "text": [
      "2024-02-05 03:09:37,692 INFO image_writer.py:197 - writing: SOMEFOLDER/0226287/CT.nii\n",
      "2024-02-05 03:09:37,726 INFO image_writer.py:197 - writing: SOMEFOLDER/0226287/mask.nii\n"
     ]
    },
    {
     "name": "stderr",
     "output_type": "stream",
     "text": [
      " 65%|██████▍   | 258/397 [01:17<00:47,  2.90it/s]"
     ]
    },
    {
     "name": "stdout",
     "output_type": "stream",
     "text": [
      "2024-02-05 03:09:37,911 INFO image_writer.py:197 - writing: SOMEFOLDER/0226288/CT.nii\n",
      "2024-02-05 03:09:37,969 INFO image_writer.py:197 - writing: SOMEFOLDER/0226288/mask.nii\n"
     ]
    },
    {
     "name": "stderr",
     "output_type": "stream",
     "text": [
      " 65%|██████▌   | 259/397 [01:17<00:44,  3.08it/s]"
     ]
    },
    {
     "name": "stdout",
     "output_type": "stream",
     "text": [
      "2024-02-05 03:09:38,431 INFO image_writer.py:197 - writing: SOMEFOLDER/0226289/CT.nii\n",
      "2024-02-05 03:09:38,471 INFO image_writer.py:197 - writing: SOMEFOLDER/0226289/mask.nii\n"
     ]
    },
    {
     "name": "stderr",
     "output_type": "stream",
     "text": [
      " 65%|██████▌   | 260/397 [01:18<00:50,  2.70it/s]"
     ]
    },
    {
     "name": "stdout",
     "output_type": "stream",
     "text": [
      "2024-02-05 03:09:38,640 INFO image_writer.py:197 - writing: SOMEFOLDER/0226290/CT.nii\n",
      "2024-02-05 03:09:38,680 INFO image_writer.py:197 - writing: SOMEFOLDER/0226290/mask.nii\n"
     ]
    },
    {
     "name": "stderr",
     "output_type": "stream",
     "text": [
      " 66%|██████▌   | 261/397 [01:18<00:43,  3.12it/s]"
     ]
    },
    {
     "name": "stdout",
     "output_type": "stream",
     "text": [
      "2024-02-05 03:09:38,852 INFO image_writer.py:197 - writing: SOMEFOLDER/0226292/CT.nii\n",
      "2024-02-05 03:09:38,903 INFO image_writer.py:197 - writing: SOMEFOLDER/0226292/mask.nii\n"
     ]
    },
    {
     "name": "stderr",
     "output_type": "stream",
     "text": [
      " 66%|██████▌   | 262/397 [01:18<00:39,  3.42it/s]"
     ]
    },
    {
     "name": "stdout",
     "output_type": "stream",
     "text": [
      "2024-02-05 03:09:39,301 INFO image_writer.py:197 - writing: SOMEFOLDER/0226293/CT.nii\n",
      "2024-02-05 03:09:39,345 INFO image_writer.py:197 - writing: SOMEFOLDER/0226293/mask.nii\n"
     ]
    },
    {
     "name": "stderr",
     "output_type": "stream",
     "text": [
      " 66%|██████▌   | 263/397 [01:19<00:46,  2.89it/s]"
     ]
    },
    {
     "name": "stdout",
     "output_type": "stream",
     "text": [
      "2024-02-05 03:09:39,855 INFO image_writer.py:197 - writing: SOMEFOLDER/0226294/CT.nii\n",
      "2024-02-05 03:09:39,925 INFO image_writer.py:197 - writing: SOMEFOLDER/0226294/mask.nii\n"
     ]
    },
    {
     "name": "stderr",
     "output_type": "stream",
     "text": [
      " 66%|██████▋   | 264/397 [01:19<00:54,  2.44it/s]"
     ]
    },
    {
     "name": "stdout",
     "output_type": "stream",
     "text": [
      "2024-02-05 03:09:40,237 INFO image_writer.py:197 - writing: SOMEFOLDER/0226295/CT.nii\n",
      "2024-02-05 03:09:40,284 INFO image_writer.py:197 - writing: SOMEFOLDER/0226295/mask.nii\n"
     ]
    },
    {
     "name": "stderr",
     "output_type": "stream",
     "text": [
      " 67%|██████▋   | 265/397 [01:19<00:51,  2.54it/s]"
     ]
    },
    {
     "name": "stdout",
     "output_type": "stream",
     "text": [
      "2024-02-05 03:09:40,637 INFO image_writer.py:197 - writing: SOMEFOLDER/0226296/CT.nii\n",
      "2024-02-05 03:09:40,682 INFO image_writer.py:197 - writing: SOMEFOLDER/0226296/mask.nii\n"
     ]
    },
    {
     "name": "stderr",
     "output_type": "stream",
     "text": [
      " 67%|██████▋   | 266/397 [01:20<00:51,  2.54it/s]"
     ]
    },
    {
     "name": "stdout",
     "output_type": "stream",
     "text": [
      "2024-02-05 03:09:41,041 INFO image_writer.py:197 - writing: SOMEFOLDER/0226298/CT.nii\n",
      "2024-02-05 03:09:41,088 INFO image_writer.py:197 - writing: SOMEFOLDER/0226298/mask.nii\n"
     ]
    },
    {
     "name": "stderr",
     "output_type": "stream",
     "text": [
      " 67%|██████▋   | 267/397 [01:20<00:52,  2.49it/s]"
     ]
    },
    {
     "name": "stdout",
     "output_type": "stream",
     "text": [
      "2024-02-05 03:09:41,415 INFO image_writer.py:197 - writing: SOMEFOLDER/0226299/CT.nii\n",
      "2024-02-05 03:09:41,457 INFO image_writer.py:197 - writing: SOMEFOLDER/0226299/mask.nii\n"
     ]
    },
    {
     "name": "stderr",
     "output_type": "stream",
     "text": [
      " 68%|██████▊   | 268/397 [01:21<00:49,  2.59it/s]"
     ]
    },
    {
     "name": "stdout",
     "output_type": "stream",
     "text": [
      "2024-02-05 03:09:41,666 INFO image_writer.py:197 - writing: SOMEFOLDER/0226300/CT.nii\n",
      "2024-02-05 03:09:41,706 INFO image_writer.py:197 - writing: SOMEFOLDER/0226300/mask.nii\n"
     ]
    },
    {
     "name": "stderr",
     "output_type": "stream",
     "text": [
      " 68%|██████▊   | 269/397 [01:21<00:44,  2.88it/s]"
     ]
    },
    {
     "name": "stdout",
     "output_type": "stream",
     "text": [
      "2024-02-05 03:09:41,882 INFO image_writer.py:197 - writing: SOMEFOLDER/0226301/CT.nii\n",
      "2024-02-05 03:09:41,937 INFO image_writer.py:197 - writing: SOMEFOLDER/0226301/mask.nii\n"
     ]
    },
    {
     "name": "stderr",
     "output_type": "stream",
     "text": [
      " 68%|██████▊   | 270/397 [01:21<00:39,  3.22it/s]"
     ]
    },
    {
     "name": "stdout",
     "output_type": "stream",
     "text": [
      "2024-02-05 03:09:42,092 INFO image_writer.py:197 - writing: SOMEFOLDER/0226302/CT.nii\n",
      "2024-02-05 03:09:42,132 INFO image_writer.py:197 - writing: SOMEFOLDER/0226302/mask.nii\n"
     ]
    },
    {
     "name": "stderr",
     "output_type": "stream",
     "text": [
      " 68%|██████▊   | 271/397 [01:21<00:34,  3.66it/s]"
     ]
    },
    {
     "name": "stdout",
     "output_type": "stream",
     "text": [
      "2024-02-05 03:09:42,418 INFO image_writer.py:197 - writing: SOMEFOLDER/0226303/CT.nii\n",
      "2024-02-05 03:09:42,452 INFO image_writer.py:197 - writing: SOMEFOLDER/0226303/mask.nii\n"
     ]
    },
    {
     "name": "stderr",
     "output_type": "stream",
     "text": [
      " 69%|██████▊   | 272/397 [01:22<00:36,  3.46it/s]"
     ]
    },
    {
     "name": "stdout",
     "output_type": "stream",
     "text": [
      "2024-02-05 03:09:42,657 INFO image_writer.py:197 - writing: SOMEFOLDER/0226304/CT.nii\n",
      "2024-02-05 03:09:42,686 INFO image_writer.py:197 - writing: SOMEFOLDER/0226304/mask.nii\n"
     ]
    },
    {
     "name": "stderr",
     "output_type": "stream",
     "text": [
      " 69%|██████▉   | 273/397 [01:22<00:33,  3.71it/s]"
     ]
    },
    {
     "name": "stdout",
     "output_type": "stream",
     "text": [
      "2024-02-05 03:09:42,847 INFO image_writer.py:197 - writing: SOMEFOLDER/0226305/CT.nii\n",
      "2024-02-05 03:09:42,875 INFO image_writer.py:197 - writing: SOMEFOLDER/0226305/mask.nii\n"
     ]
    },
    {
     "name": "stderr",
     "output_type": "stream",
     "text": [
      " 69%|██████▉   | 274/397 [01:22<00:30,  4.07it/s]"
     ]
    },
    {
     "name": "stdout",
     "output_type": "stream",
     "text": [
      "2024-02-05 03:09:43,172 INFO image_writer.py:197 - writing: SOMEFOLDER/0226306/CT.nii\n",
      "2024-02-05 03:09:43,204 INFO image_writer.py:197 - writing: SOMEFOLDER/0226306/mask.nii\n"
     ]
    },
    {
     "name": "stderr",
     "output_type": "stream",
     "text": [
      " 69%|██████▉   | 275/397 [01:22<00:33,  3.65it/s]"
     ]
    },
    {
     "name": "stdout",
     "output_type": "stream",
     "text": [
      "2024-02-05 03:09:43,519 INFO image_writer.py:197 - writing: SOMEFOLDER/0226307/CT.nii\n",
      "2024-02-05 03:09:43,550 INFO image_writer.py:197 - writing: SOMEFOLDER/0226307/mask.nii\n"
     ]
    },
    {
     "name": "stderr",
     "output_type": "stream",
     "text": [
      " 70%|██████▉   | 276/397 [01:23<00:35,  3.39it/s]"
     ]
    },
    {
     "name": "stdout",
     "output_type": "stream",
     "text": [
      "2024-02-05 03:09:43,722 INFO image_writer.py:197 - writing: SOMEFOLDER/0226308/CT.nii\n",
      "2024-02-05 03:09:43,753 INFO image_writer.py:197 - writing: SOMEFOLDER/0226308/mask.nii\n"
     ]
    },
    {
     "name": "stderr",
     "output_type": "stream",
     "text": [
      " 70%|██████▉   | 277/397 [01:23<00:31,  3.75it/s]"
     ]
    },
    {
     "name": "stdout",
     "output_type": "stream",
     "text": [
      "2024-02-05 03:09:43,958 INFO image_writer.py:197 - writing: SOMEFOLDER/0226309/CT.nii\n",
      "2024-02-05 03:09:44,005 INFO image_writer.py:197 - writing: SOMEFOLDER/0226309/mask.nii\n"
     ]
    },
    {
     "name": "stderr",
     "output_type": "stream",
     "text": [
      " 70%|███████   | 278/397 [01:23<00:31,  3.80it/s]"
     ]
    },
    {
     "name": "stdout",
     "output_type": "stream",
     "text": [
      "2024-02-05 03:09:44,196 INFO image_writer.py:197 - writing: SOMEFOLDER/0226311/CT.nii\n",
      "2024-02-05 03:09:44,226 INFO image_writer.py:197 - writing: SOMEFOLDER/0226311/mask.nii\n"
     ]
    },
    {
     "name": "stderr",
     "output_type": "stream",
     "text": [
      " 70%|███████   | 279/397 [01:23<00:29,  4.02it/s]"
     ]
    },
    {
     "name": "stdout",
     "output_type": "stream",
     "text": [
      "2024-02-05 03:09:44,521 INFO image_writer.py:197 - writing: SOMEFOLDER/0226313/CT.nii\n",
      "2024-02-05 03:09:44,551 INFO image_writer.py:197 - writing: SOMEFOLDER/0226313/mask.nii\n"
     ]
    },
    {
     "name": "stderr",
     "output_type": "stream",
     "text": [
      " 71%|███████   | 280/397 [01:24<00:31,  3.68it/s]"
     ]
    },
    {
     "name": "stdout",
     "output_type": "stream",
     "text": [
      "2024-02-05 03:09:44,693 INFO image_writer.py:197 - writing: SOMEFOLDER/0226314/CT.nii\n",
      "2024-02-05 03:09:44,723 INFO image_writer.py:197 - writing: SOMEFOLDER/0226314/mask.nii\n"
     ]
    },
    {
     "name": "stderr",
     "output_type": "stream",
     "text": [
      " 71%|███████   | 281/397 [01:24<00:27,  4.14it/s]"
     ]
    },
    {
     "name": "stdout",
     "output_type": "stream",
     "text": [
      "2024-02-05 03:09:44,978 INFO image_writer.py:197 - writing: SOMEFOLDER/0226315/CT.nii\n",
      "2024-02-05 03:09:45,009 INFO image_writer.py:197 - writing: SOMEFOLDER/0226315/mask.nii\n"
     ]
    },
    {
     "name": "stderr",
     "output_type": "stream",
     "text": [
      " 71%|███████   | 282/397 [01:24<00:29,  3.92it/s]"
     ]
    },
    {
     "name": "stdout",
     "output_type": "stream",
     "text": [
      "2024-02-05 03:09:45,272 INFO image_writer.py:197 - writing: SOMEFOLDER/0226316/CT.nii\n",
      "2024-02-05 03:09:45,303 INFO image_writer.py:197 - writing: SOMEFOLDER/0226316/mask.nii\n"
     ]
    },
    {
     "name": "stderr",
     "output_type": "stream",
     "text": [
      " 71%|███████▏  | 283/397 [01:24<00:30,  3.73it/s]"
     ]
    },
    {
     "name": "stdout",
     "output_type": "stream",
     "text": [
      "2024-02-05 03:09:45,605 INFO image_writer.py:197 - writing: SOMEFOLDER/0226317/CT.nii\n",
      "2024-02-05 03:09:45,636 INFO image_writer.py:197 - writing: SOMEFOLDER/0226317/mask.nii\n"
     ]
    },
    {
     "name": "stderr",
     "output_type": "stream",
     "text": [
      " 72%|███████▏  | 284/397 [01:25<00:32,  3.49it/s]"
     ]
    },
    {
     "name": "stdout",
     "output_type": "stream",
     "text": [
      "2024-02-05 03:09:45,991 INFO image_writer.py:197 - writing: SOMEFOLDER/0226318/CT.nii\n",
      "2024-02-05 03:09:46,030 INFO image_writer.py:197 - writing: SOMEFOLDER/0226318/mask.nii\n"
     ]
    },
    {
     "name": "stderr",
     "output_type": "stream",
     "text": [
      " 72%|███████▏  | 285/397 [01:25<00:35,  3.14it/s]"
     ]
    },
    {
     "name": "stdout",
     "output_type": "stream",
     "text": [
      "2024-02-05 03:09:46,383 INFO image_writer.py:197 - writing: SOMEFOLDER/0226320/CT.nii\n",
      "2024-02-05 03:09:46,409 INFO image_writer.py:197 - writing: SOMEFOLDER/0226320/mask.nii\n"
     ]
    },
    {
     "name": "stderr",
     "output_type": "stream",
     "text": [
      " 72%|███████▏  | 286/397 [01:26<00:37,  2.98it/s]"
     ]
    },
    {
     "name": "stdout",
     "output_type": "stream",
     "text": [
      "2024-02-05 03:09:46,585 INFO image_writer.py:197 - writing: SOMEFOLDER/0226321/CT.nii\n",
      "2024-02-05 03:09:46,612 INFO image_writer.py:197 - writing: SOMEFOLDER/0226321/mask.nii\n"
     ]
    },
    {
     "name": "stderr",
     "output_type": "stream",
     "text": [
      " 72%|███████▏  | 287/397 [01:26<00:32,  3.36it/s]"
     ]
    },
    {
     "name": "stdout",
     "output_type": "stream",
     "text": [
      "2024-02-05 03:09:46,805 INFO image_writer.py:197 - writing: SOMEFOLDER/0537815/CT.nii\n",
      "2024-02-05 03:09:46,855 INFO image_writer.py:197 - writing: SOMEFOLDER/0537815/mask.nii\n"
     ]
    },
    {
     "name": "stderr",
     "output_type": "stream",
     "text": [
      " 73%|███████▎  | 288/397 [01:26<00:30,  3.53it/s]"
     ]
    },
    {
     "name": "stdout",
     "output_type": "stream",
     "text": [
      "2024-02-05 03:09:47,153 INFO image_writer.py:197 - writing: SOMEFOLDER/0537818/CT.nii\n",
      "2024-02-05 03:09:47,177 INFO image_writer.py:197 - writing: SOMEFOLDER/0537818/mask.nii\n"
     ]
    },
    {
     "name": "stderr",
     "output_type": "stream",
     "text": [
      " 73%|███████▎  | 289/397 [01:26<00:31,  3.42it/s]"
     ]
    },
    {
     "name": "stdout",
     "output_type": "stream",
     "text": [
      "2024-02-05 03:09:47,316 INFO image_writer.py:197 - writing: SOMEFOLDER/0537835/CT.nii\n",
      "2024-02-05 03:09:47,351 INFO image_writer.py:197 - writing: SOMEFOLDER/0537835/mask.nii\n"
     ]
    },
    {
     "name": "stderr",
     "output_type": "stream",
     "text": [
      " 73%|███████▎  | 290/397 [01:26<00:27,  3.88it/s]"
     ]
    },
    {
     "name": "stdout",
     "output_type": "stream",
     "text": [
      "2024-02-05 03:09:47,506 INFO image_writer.py:197 - writing: SOMEFOLDER/0537847/CT.nii\n",
      "2024-02-05 03:09:47,534 INFO image_writer.py:197 - writing: SOMEFOLDER/0537847/mask.nii\n"
     ]
    },
    {
     "name": "stderr",
     "output_type": "stream",
     "text": [
      " 73%|███████▎  | 291/397 [01:27<00:24,  4.25it/s]"
     ]
    },
    {
     "name": "stdout",
     "output_type": "stream",
     "text": [
      "2024-02-05 03:09:47,855 INFO image_writer.py:197 - writing: SOMEFOLDER/0537848/CT.nii\n",
      "2024-02-05 03:09:47,892 INFO image_writer.py:197 - writing: SOMEFOLDER/0537848/mask.nii\n"
     ]
    },
    {
     "name": "stderr",
     "output_type": "stream",
     "text": [
      " 74%|███████▎  | 292/397 [01:27<00:28,  3.68it/s]"
     ]
    },
    {
     "name": "stdout",
     "output_type": "stream",
     "text": [
      "2024-02-05 03:09:48,209 INFO image_writer.py:197 - writing: SOMEFOLDER/0537854/CT.nii\n",
      "2024-02-05 03:09:48,242 INFO image_writer.py:197 - writing: SOMEFOLDER/0537854/mask.nii\n"
     ]
    },
    {
     "name": "stderr",
     "output_type": "stream",
     "text": [
      " 74%|███████▍  | 293/397 [01:27<00:30,  3.38it/s]"
     ]
    },
    {
     "name": "stdout",
     "output_type": "stream",
     "text": [
      "2024-02-05 03:09:48,395 INFO image_writer.py:197 - writing: SOMEFOLDER/0537855/CT.nii\n",
      "2024-02-05 03:09:48,428 INFO image_writer.py:197 - writing: SOMEFOLDER/0537855/mask.nii\n"
     ]
    },
    {
     "name": "stderr",
     "output_type": "stream",
     "text": [
      " 74%|███████▍  | 294/397 [01:28<00:27,  3.79it/s]"
     ]
    },
    {
     "name": "stdout",
     "output_type": "stream",
     "text": [
      "2024-02-05 03:09:48,765 INFO image_writer.py:197 - writing: SOMEFOLDER/0537861/CT.nii\n",
      "2024-02-05 03:09:48,793 INFO image_writer.py:197 - writing: SOMEFOLDER/0537861/mask.nii\n"
     ]
    },
    {
     "name": "stderr",
     "output_type": "stream",
     "text": [
      " 74%|███████▍  | 295/397 [01:28<00:30,  3.37it/s]"
     ]
    },
    {
     "name": "stdout",
     "output_type": "stream",
     "text": [
      "2024-02-05 03:09:49,002 INFO image_writer.py:197 - writing: SOMEFOLDER/0537872/CT.nii\n",
      "2024-02-05 03:09:49,029 INFO image_writer.py:197 - writing: SOMEFOLDER/0537872/mask.nii\n"
     ]
    },
    {
     "name": "stderr",
     "output_type": "stream",
     "text": [
      " 75%|███████▍  | 296/397 [01:28<00:27,  3.65it/s]"
     ]
    },
    {
     "name": "stdout",
     "output_type": "stream",
     "text": [
      "2024-02-05 03:09:49,221 INFO image_writer.py:197 - writing: SOMEFOLDER/0537878/CT.nii\n",
      "2024-02-05 03:09:49,250 INFO image_writer.py:197 - writing: SOMEFOLDER/0537878/mask.nii\n"
     ]
    },
    {
     "name": "stderr",
     "output_type": "stream",
     "text": [
      " 75%|███████▍  | 297/397 [01:28<00:25,  3.88it/s]"
     ]
    },
    {
     "name": "stdout",
     "output_type": "stream",
     "text": [
      "2024-02-05 03:09:49,374 INFO image_writer.py:197 - writing: SOMEFOLDER/0537907/CT.nii\n",
      "2024-02-05 03:09:49,403 INFO image_writer.py:197 - writing: SOMEFOLDER/0537907/mask.nii\n"
     ]
    },
    {
     "name": "stderr",
     "output_type": "stream",
     "text": [
      " 75%|███████▌  | 298/397 [01:29<00:22,  4.42it/s]"
     ]
    },
    {
     "name": "stdout",
     "output_type": "stream",
     "text": [
      "2024-02-05 03:09:49,534 INFO image_writer.py:197 - writing: SOMEFOLDER/0537908/CT.nii\n",
      "2024-02-05 03:09:49,565 INFO image_writer.py:197 - writing: SOMEFOLDER/0537908/mask.nii\n"
     ]
    },
    {
     "name": "stderr",
     "output_type": "stream",
     "text": [
      " 75%|███████▌  | 299/397 [01:29<00:20,  4.81it/s]"
     ]
    },
    {
     "name": "stdout",
     "output_type": "stream",
     "text": [
      "2024-02-05 03:09:49,856 INFO image_writer.py:197 - writing: SOMEFOLDER/0537917/CT.nii\n",
      "2024-02-05 03:09:49,884 INFO image_writer.py:197 - writing: SOMEFOLDER/0537917/mask.nii\n"
     ]
    },
    {
     "name": "stderr",
     "output_type": "stream",
     "text": [
      " 76%|███████▌  | 300/397 [01:29<00:23,  4.16it/s]"
     ]
    },
    {
     "name": "stdout",
     "output_type": "stream",
     "text": [
      "2024-02-05 03:09:50,070 INFO image_writer.py:197 - writing: SOMEFOLDER/0537925/CT.nii\n",
      "2024-02-05 03:09:50,096 INFO image_writer.py:197 - writing: SOMEFOLDER/0537925/mask.nii\n"
     ]
    },
    {
     "name": "stderr",
     "output_type": "stream",
     "text": [
      " 76%|███████▌  | 301/397 [01:29<00:22,  4.30it/s]"
     ]
    },
    {
     "name": "stdout",
     "output_type": "stream",
     "text": [
      "2024-02-05 03:09:50,375 INFO image_writer.py:197 - writing: SOMEFOLDER/0537927/CT.nii\n",
      "2024-02-05 03:09:50,404 INFO image_writer.py:197 - writing: SOMEFOLDER/0537927/mask.nii\n"
     ]
    },
    {
     "name": "stderr",
     "output_type": "stream",
     "text": [
      " 76%|███████▌  | 302/397 [01:30<00:24,  3.92it/s]"
     ]
    },
    {
     "name": "stdout",
     "output_type": "stream",
     "text": [
      "2024-02-05 03:09:50,544 INFO image_writer.py:197 - writing: SOMEFOLDER/0537930/CT.nii\n",
      "2024-02-05 03:09:50,577 INFO image_writer.py:197 - writing: SOMEFOLDER/0537930/mask.nii\n"
     ]
    },
    {
     "name": "stderr",
     "output_type": "stream",
     "text": [
      " 76%|███████▋  | 303/397 [01:30<00:21,  4.33it/s]"
     ]
    },
    {
     "name": "stdout",
     "output_type": "stream",
     "text": [
      "2024-02-05 03:09:50,868 INFO image_writer.py:197 - writing: SOMEFOLDER/0537938/CT.nii\n",
      "2024-02-05 03:09:50,895 INFO image_writer.py:197 - writing: SOMEFOLDER/0537938/mask.nii\n"
     ]
    },
    {
     "name": "stderr",
     "output_type": "stream",
     "text": [
      " 77%|███████▋  | 304/397 [01:30<00:23,  3.89it/s]"
     ]
    },
    {
     "name": "stdout",
     "output_type": "stream",
     "text": [
      "2024-02-05 03:09:51,027 INFO image_writer.py:197 - writing: SOMEFOLDER/0537947/CT.nii\n",
      "2024-02-05 03:09:51,056 INFO image_writer.py:197 - writing: SOMEFOLDER/0537947/mask.nii\n"
     ]
    },
    {
     "name": "stderr",
     "output_type": "stream",
     "text": [
      " 77%|███████▋  | 305/397 [01:30<00:20,  4.40it/s]"
     ]
    },
    {
     "name": "stdout",
     "output_type": "stream",
     "text": [
      "2024-02-05 03:09:51,187 INFO image_writer.py:197 - writing: SOMEFOLDER/0537961/CT.nii\n",
      "2024-02-05 03:09:51,214 INFO image_writer.py:197 - writing: SOMEFOLDER/0537961/mask.nii\n"
     ]
    },
    {
     "name": "stderr",
     "output_type": "stream",
     "text": [
      " 77%|███████▋  | 306/397 [01:30<00:18,  4.84it/s]"
     ]
    },
    {
     "name": "stdout",
     "output_type": "stream",
     "text": [
      "2024-02-05 03:09:51,501 INFO image_writer.py:197 - writing: SOMEFOLDER/0537979/CT.nii\n",
      "2024-02-05 03:09:51,546 INFO image_writer.py:197 - writing: SOMEFOLDER/0537979/mask.nii\n"
     ]
    },
    {
     "name": "stderr",
     "output_type": "stream",
     "text": [
      " 77%|███████▋  | 307/397 [01:31<00:22,  4.03it/s]"
     ]
    },
    {
     "name": "stdout",
     "output_type": "stream",
     "text": [
      "2024-02-05 03:09:51,839 INFO image_writer.py:197 - writing: SOMEFOLDER/0537990/CT.nii\n",
      "2024-02-05 03:09:51,872 INFO image_writer.py:197 - writing: SOMEFOLDER/0537990/mask.nii\n"
     ]
    },
    {
     "name": "stderr",
     "output_type": "stream",
     "text": [
      " 78%|███████▊  | 308/397 [01:31<00:23,  3.75it/s]"
     ]
    },
    {
     "name": "stdout",
     "output_type": "stream",
     "text": [
      "2024-02-05 03:09:52,047 INFO image_writer.py:197 - writing: SOMEFOLDER/0538003/CT.nii\n",
      "2024-02-05 03:09:52,073 INFO image_writer.py:197 - writing: SOMEFOLDER/0538003/mask.nii\n"
     ]
    },
    {
     "name": "stderr",
     "output_type": "stream",
     "text": [
      " 78%|███████▊  | 309/397 [01:31<00:21,  4.03it/s]"
     ]
    },
    {
     "name": "stdout",
     "output_type": "stream",
     "text": [
      "2024-02-05 03:09:52,380 INFO image_writer.py:197 - writing: SOMEFOLDER/0538005/CT.nii\n",
      "2024-02-05 03:09:52,411 INFO image_writer.py:197 - writing: SOMEFOLDER/0538005/mask.nii\n"
     ]
    },
    {
     "name": "stderr",
     "output_type": "stream",
     "text": [
      " 78%|███████▊  | 310/397 [01:32<00:23,  3.64it/s]"
     ]
    },
    {
     "name": "stdout",
     "output_type": "stream",
     "text": [
      "2024-02-05 03:09:52,548 INFO image_writer.py:197 - writing: SOMEFOLDER/0538016/CT.nii\n",
      "2024-02-05 03:09:52,576 INFO image_writer.py:197 - writing: SOMEFOLDER/0538016/mask.nii\n"
     ]
    },
    {
     "name": "stderr",
     "output_type": "stream",
     "text": [
      " 78%|███████▊  | 311/397 [01:32<00:20,  4.13it/s]"
     ]
    },
    {
     "name": "stdout",
     "output_type": "stream",
     "text": [
      "2024-02-05 03:09:52,695 INFO image_writer.py:197 - writing: SOMEFOLDER/0538023/CT.nii\n",
      "2024-02-05 03:09:52,723 INFO image_writer.py:197 - writing: SOMEFOLDER/0538023/mask.nii\n"
     ]
    },
    {
     "name": "stderr",
     "output_type": "stream",
     "text": [
      " 79%|███████▊  | 312/397 [01:32<00:18,  4.65it/s]"
     ]
    },
    {
     "name": "stdout",
     "output_type": "stream",
     "text": [
      "2024-02-05 03:09:53,156 INFO image_writer.py:197 - writing: SOMEFOLDER/0538035/CT.nii\n",
      "2024-02-05 03:09:53,182 INFO image_writer.py:197 - writing: SOMEFOLDER/0538035/mask.nii\n"
     ]
    },
    {
     "name": "stderr",
     "output_type": "stream",
     "text": [
      " 79%|███████▉  | 313/397 [01:32<00:24,  3.42it/s]"
     ]
    },
    {
     "name": "stdout",
     "output_type": "stream",
     "text": [
      "2024-02-05 03:09:53,335 INFO image_writer.py:197 - writing: SOMEFOLDER/0538050/CT.nii\n",
      "2024-02-05 03:09:53,383 INFO image_writer.py:197 - writing: SOMEFOLDER/0538050/mask.nii\n"
     ]
    },
    {
     "name": "stderr",
     "output_type": "stream",
     "text": [
      " 79%|███████▉  | 314/397 [01:33<00:21,  3.79it/s]"
     ]
    },
    {
     "name": "stdout",
     "output_type": "stream",
     "text": [
      "2024-02-05 03:09:53,702 INFO image_writer.py:197 - writing: SOMEFOLDER/0538058/CT.nii\n",
      "2024-02-05 03:09:53,730 INFO image_writer.py:197 - writing: SOMEFOLDER/0538058/mask.nii\n"
     ]
    },
    {
     "name": "stderr",
     "output_type": "stream",
     "text": [
      " 79%|███████▉  | 315/397 [01:33<00:23,  3.52it/s]"
     ]
    },
    {
     "name": "stdout",
     "output_type": "stream",
     "text": [
      "2024-02-05 03:09:53,860 INFO image_writer.py:197 - writing: SOMEFOLDER/0538067/CT.nii\n",
      "2024-02-05 03:09:53,898 INFO image_writer.py:197 - writing: SOMEFOLDER/0538067/mask.nii\n"
     ]
    },
    {
     "name": "stderr",
     "output_type": "stream",
     "text": [
      " 80%|███████▉  | 316/397 [01:33<00:20,  3.99it/s]"
     ]
    },
    {
     "name": "stdout",
     "output_type": "stream",
     "text": [
      "2024-02-05 03:09:54,105 INFO image_writer.py:197 - writing: SOMEFOLDER/0538087/CT.nii\n",
      "2024-02-05 03:09:54,134 INFO image_writer.py:197 - writing: SOMEFOLDER/0538087/mask.nii\n"
     ]
    },
    {
     "name": "stderr",
     "output_type": "stream",
     "text": [
      " 80%|███████▉  | 317/397 [01:33<00:19,  4.07it/s]"
     ]
    },
    {
     "name": "stdout",
     "output_type": "stream",
     "text": [
      "2024-02-05 03:09:54,403 INFO image_writer.py:197 - writing: SOMEFOLDER/0538108/CT.nii\n",
      "2024-02-05 03:09:54,445 INFO image_writer.py:197 - writing: SOMEFOLDER/0538108/mask.nii\n"
     ]
    },
    {
     "name": "stderr",
     "output_type": "stream",
     "text": [
      " 80%|████████  | 318/397 [01:34<00:20,  3.78it/s]"
     ]
    },
    {
     "name": "stdout",
     "output_type": "stream",
     "text": [
      "2024-02-05 03:09:54,697 INFO image_writer.py:197 - writing: SOMEFOLDER/0538117/CT.nii\n",
      "2024-02-05 03:09:54,722 INFO image_writer.py:197 - writing: SOMEFOLDER/0538117/mask.nii\n"
     ]
    },
    {
     "name": "stderr",
     "output_type": "stream",
     "text": [
      " 80%|████████  | 319/397 [01:34<00:21,  3.67it/s]"
     ]
    },
    {
     "name": "stdout",
     "output_type": "stream",
     "text": [
      "2024-02-05 03:09:55,007 INFO image_writer.py:197 - writing: SOMEFOLDER/0538129/CT.nii\n",
      "2024-02-05 03:09:55,033 INFO image_writer.py:197 - writing: SOMEFOLDER/0538129/mask.nii\n"
     ]
    },
    {
     "name": "stderr",
     "output_type": "stream",
     "text": [
      " 81%|████████  | 320/397 [01:34<00:21,  3.58it/s]"
     ]
    },
    {
     "name": "stdout",
     "output_type": "stream",
     "text": [
      "2024-02-05 03:09:55,409 INFO image_writer.py:197 - writing: SOMEFOLDER/0538139/CT.nii\n",
      "2024-02-05 03:09:55,439 INFO image_writer.py:197 - writing: SOMEFOLDER/0538139/mask.nii\n"
     ]
    },
    {
     "name": "stderr",
     "output_type": "stream",
     "text": [
      " 81%|████████  | 321/397 [01:35<00:24,  3.13it/s]"
     ]
    },
    {
     "name": "stdout",
     "output_type": "stream",
     "text": [
      "2024-02-05 03:09:55,738 INFO image_writer.py:197 - writing: SOMEFOLDER/0538179/CT.nii\n",
      "2024-02-05 03:09:55,775 INFO image_writer.py:197 - writing: SOMEFOLDER/0538179/mask.nii\n"
     ]
    },
    {
     "name": "stderr",
     "output_type": "stream",
     "text": [
      " 81%|████████  | 322/397 [01:35<00:24,  3.06it/s]"
     ]
    },
    {
     "name": "stdout",
     "output_type": "stream",
     "text": [
      "2024-02-05 03:09:56,032 INFO image_writer.py:197 - writing: SOMEFOLDER/0538191/CT.nii\n",
      "2024-02-05 03:09:56,066 INFO image_writer.py:197 - writing: SOMEFOLDER/0538191/mask.nii\n"
     ]
    },
    {
     "name": "stderr",
     "output_type": "stream",
     "text": [
      " 81%|████████▏ | 323/397 [01:35<00:23,  3.20it/s]"
     ]
    },
    {
     "name": "stdout",
     "output_type": "stream",
     "text": [
      "2024-02-05 03:09:56,207 INFO image_writer.py:197 - writing: SOMEFOLDER/0538251/CT.nii\n",
      "2024-02-05 03:09:56,245 INFO image_writer.py:197 - writing: SOMEFOLDER/0538251/mask.nii\n"
     ]
    },
    {
     "name": "stderr",
     "output_type": "stream",
     "text": [
      " 82%|████████▏ | 324/397 [01:35<00:19,  3.65it/s]"
     ]
    },
    {
     "name": "stdout",
     "output_type": "stream",
     "text": [
      "2024-02-05 03:09:56,408 INFO image_writer.py:197 - writing: SOMEFOLDER/0538281/CT.nii\n",
      "2024-02-05 03:09:56,444 INFO image_writer.py:197 - writing: SOMEFOLDER/0538281/mask.nii\n"
     ]
    },
    {
     "name": "stderr",
     "output_type": "stream",
     "text": [
      " 82%|████████▏ | 325/397 [01:36<00:17,  4.00it/s]"
     ]
    },
    {
     "name": "stdout",
     "output_type": "stream",
     "text": [
      "2024-02-05 03:09:56,580 INFO image_writer.py:197 - writing: SOMEFOLDER/0538315/CT.nii\n",
      "2024-02-05 03:09:56,624 INFO image_writer.py:197 - writing: SOMEFOLDER/0538315/mask.nii\n"
     ]
    },
    {
     "name": "stderr",
     "output_type": "stream",
     "text": [
      " 82%|████████▏ | 326/397 [01:36<00:16,  4.38it/s]"
     ]
    },
    {
     "name": "stdout",
     "output_type": "stream",
     "text": [
      "2024-02-05 03:09:56,748 INFO image_writer.py:197 - writing: SOMEFOLDER/0538319/CT.nii\n",
      "2024-02-05 03:09:56,773 INFO image_writer.py:197 - writing: SOMEFOLDER/0538319/mask.nii\n"
     ]
    },
    {
     "name": "stderr",
     "output_type": "stream",
     "text": [
      " 82%|████████▏ | 327/397 [01:36<00:14,  4.88it/s]"
     ]
    },
    {
     "name": "stdout",
     "output_type": "stream",
     "text": [
      "2024-02-05 03:09:57,089 INFO image_writer.py:197 - writing: SOMEFOLDER/0538320/CT.nii\n",
      "2024-02-05 03:09:57,116 INFO image_writer.py:197 - writing: SOMEFOLDER/0538320/mask.nii\n"
     ]
    },
    {
     "name": "stderr",
     "output_type": "stream",
     "text": [
      " 83%|████████▎ | 328/397 [01:36<00:17,  4.03it/s]"
     ]
    },
    {
     "name": "stdout",
     "output_type": "stream",
     "text": [
      "2024-02-05 03:09:57,307 INFO image_writer.py:197 - writing: SOMEFOLDER/0538344/CT.nii\n",
      "2024-02-05 03:09:57,334 INFO image_writer.py:197 - writing: SOMEFOLDER/0538344/mask.nii\n"
     ]
    },
    {
     "name": "stderr",
     "output_type": "stream",
     "text": [
      " 83%|████████▎ | 329/397 [01:36<00:16,  4.20it/s]"
     ]
    },
    {
     "name": "stdout",
     "output_type": "stream",
     "text": [
      "2024-02-05 03:09:57,526 INFO image_writer.py:197 - writing: SOMEFOLDER/0538345/CT.nii\n",
      "2024-02-05 03:09:57,556 INFO image_writer.py:197 - writing: SOMEFOLDER/0538345/mask.nii\n"
     ]
    },
    {
     "name": "stderr",
     "output_type": "stream",
     "text": [
      " 83%|████████▎ | 330/397 [01:37<00:15,  4.32it/s]"
     ]
    },
    {
     "name": "stdout",
     "output_type": "stream",
     "text": [
      "2024-02-05 03:09:57,886 INFO image_writer.py:197 - writing: SOMEFOLDER/0538363/CT.nii\n",
      "2024-02-05 03:09:57,927 INFO image_writer.py:197 - writing: SOMEFOLDER/0538363/mask.nii\n"
     ]
    },
    {
     "name": "stderr",
     "output_type": "stream",
     "text": [
      " 83%|████████▎ | 331/397 [01:37<00:18,  3.65it/s]"
     ]
    },
    {
     "name": "stdout",
     "output_type": "stream",
     "text": [
      "2024-02-05 03:09:58,245 INFO image_writer.py:197 - writing: SOMEFOLDER/0538375/CT.nii\n",
      "2024-02-05 03:09:58,270 INFO image_writer.py:197 - writing: SOMEFOLDER/0538375/mask.nii\n"
     ]
    },
    {
     "name": "stderr",
     "output_type": "stream",
     "text": [
      " 84%|████████▎ | 332/397 [01:37<00:19,  3.40it/s]"
     ]
    },
    {
     "name": "stdout",
     "output_type": "stream",
     "text": [
      "2024-02-05 03:09:58,559 INFO image_writer.py:197 - writing: SOMEFOLDER/0538400/CT.nii\n",
      "2024-02-05 03:09:58,589 INFO image_writer.py:197 - writing: SOMEFOLDER/0538400/mask.nii\n"
     ]
    },
    {
     "name": "stderr",
     "output_type": "stream",
     "text": [
      " 84%|████████▍ | 333/397 [01:38<00:19,  3.30it/s]"
     ]
    },
    {
     "name": "stdout",
     "output_type": "stream",
     "text": [
      "2024-02-05 03:09:58,728 INFO image_writer.py:197 - writing: SOMEFOLDER/0538405/CT.nii\n",
      "2024-02-05 03:09:58,762 INFO image_writer.py:197 - writing: SOMEFOLDER/0538405/mask.nii\n"
     ]
    },
    {
     "name": "stderr",
     "output_type": "stream",
     "text": [
      " 84%|████████▍ | 334/397 [01:38<00:16,  3.80it/s]"
     ]
    },
    {
     "name": "stdout",
     "output_type": "stream",
     "text": [
      "2024-02-05 03:09:58,890 INFO image_writer.py:197 - writing: SOMEFOLDER/0538425/CT.nii\n",
      "2024-02-05 03:09:58,916 INFO image_writer.py:197 - writing: SOMEFOLDER/0538425/mask.nii\n"
     ]
    },
    {
     "name": "stderr",
     "output_type": "stream",
     "text": [
      " 84%|████████▍ | 335/397 [01:38<00:14,  4.34it/s]"
     ]
    },
    {
     "name": "stdout",
     "output_type": "stream",
     "text": [
      "2024-02-05 03:09:59,184 INFO image_writer.py:197 - writing: SOMEFOLDER/0538447/CT.nii\n",
      "2024-02-05 03:09:59,211 INFO image_writer.py:197 - writing: SOMEFOLDER/0538447/mask.nii\n"
     ]
    },
    {
     "name": "stderr",
     "output_type": "stream",
     "text": [
      " 85%|████████▍ | 336/397 [01:38<00:15,  3.95it/s]"
     ]
    },
    {
     "name": "stdout",
     "output_type": "stream",
     "text": [
      "2024-02-05 03:09:59,415 INFO image_writer.py:197 - writing: SOMEFOLDER/0538449/CT.nii\n",
      "2024-02-05 03:09:59,447 INFO image_writer.py:197 - writing: SOMEFOLDER/0538449/mask.nii\n"
     ]
    },
    {
     "name": "stderr",
     "output_type": "stream",
     "text": [
      " 85%|████████▍ | 337/397 [01:39<00:14,  4.03it/s]"
     ]
    },
    {
     "name": "stdout",
     "output_type": "stream",
     "text": [
      "2024-02-05 03:09:59,761 INFO image_writer.py:197 - writing: SOMEFOLDER/0538453/CT.nii\n",
      "2024-02-05 03:09:59,791 INFO image_writer.py:197 - writing: SOMEFOLDER/0538453/mask.nii\n"
     ]
    },
    {
     "name": "stderr",
     "output_type": "stream",
     "text": [
      " 85%|████████▌ | 338/397 [01:39<00:16,  3.66it/s]"
     ]
    },
    {
     "name": "stdout",
     "output_type": "stream",
     "text": [
      "2024-02-05 03:09:59,980 INFO image_writer.py:197 - writing: SOMEFOLDER/0538459/CT.nii\n",
      "2024-02-05 03:10:00,015 INFO image_writer.py:197 - writing: SOMEFOLDER/0538459/mask.nii\n"
     ]
    },
    {
     "name": "stderr",
     "output_type": "stream",
     "text": [
      " 85%|████████▌ | 339/397 [01:39<00:15,  3.85it/s]"
     ]
    },
    {
     "name": "stdout",
     "output_type": "stream",
     "text": [
      "2024-02-05 03:10:00,316 INFO image_writer.py:197 - writing: SOMEFOLDER/0538479/CT.nii\n",
      "2024-02-05 03:10:00,345 INFO image_writer.py:197 - writing: SOMEFOLDER/0538479/mask.nii\n"
     ]
    },
    {
     "name": "stderr",
     "output_type": "stream",
     "text": [
      " 86%|████████▌ | 340/397 [01:39<00:15,  3.57it/s]"
     ]
    },
    {
     "name": "stdout",
     "output_type": "stream",
     "text": [
      "2024-02-05 03:10:00,538 INFO image_writer.py:197 - writing: SOMEFOLDER/0538486/CT.nii\n",
      "2024-02-05 03:10:00,576 INFO image_writer.py:197 - writing: SOMEFOLDER/0538486/mask.nii\n"
     ]
    },
    {
     "name": "stderr",
     "output_type": "stream",
     "text": [
      " 86%|████████▌ | 341/397 [01:40<00:14,  3.77it/s]"
     ]
    },
    {
     "name": "stdout",
     "output_type": "stream",
     "text": [
      "2024-02-05 03:10:00,754 INFO image_writer.py:197 - writing: SOMEFOLDER/0538502/CT.nii\n",
      "2024-02-05 03:10:00,781 INFO image_writer.py:197 - writing: SOMEFOLDER/0538502/mask.nii\n"
     ]
    },
    {
     "name": "stderr",
     "output_type": "stream",
     "text": [
      " 86%|████████▌ | 342/397 [01:40<00:13,  4.04it/s]"
     ]
    },
    {
     "name": "stdout",
     "output_type": "stream",
     "text": [
      "2024-02-05 03:10:00,909 INFO image_writer.py:197 - writing: SOMEFOLDER/0538505/CT.nii\n",
      "2024-02-05 03:10:00,942 INFO image_writer.py:197 - writing: SOMEFOLDER/0538505/mask.nii\n"
     ]
    },
    {
     "name": "stderr",
     "output_type": "stream",
     "text": [
      " 86%|████████▋ | 343/397 [01:40<00:11,  4.50it/s]"
     ]
    },
    {
     "name": "stdout",
     "output_type": "stream",
     "text": [
      "2024-02-05 03:10:01,095 INFO image_writer.py:197 - writing: SOMEFOLDER/0538525/CT.nii\n",
      "2024-02-05 03:10:01,126 INFO image_writer.py:197 - writing: SOMEFOLDER/0538525/mask.nii\n"
     ]
    },
    {
     "name": "stderr",
     "output_type": "stream",
     "text": [
      " 87%|████████▋ | 344/397 [01:40<00:11,  4.76it/s]"
     ]
    },
    {
     "name": "stdout",
     "output_type": "stream",
     "text": [
      "2024-02-05 03:10:01,414 INFO image_writer.py:197 - writing: SOMEFOLDER/0538527/CT.nii\n",
      "2024-02-05 03:10:01,442 INFO image_writer.py:197 - writing: SOMEFOLDER/0538527/mask.nii\n"
     ]
    },
    {
     "name": "stderr",
     "output_type": "stream",
     "text": [
      " 87%|████████▋ | 345/397 [01:41<00:12,  4.15it/s]"
     ]
    },
    {
     "name": "stdout",
     "output_type": "stream",
     "text": [
      "2024-02-05 03:10:01,715 INFO image_writer.py:197 - writing: SOMEFOLDER/0538532/CT.nii\n",
      "2024-02-05 03:10:01,749 INFO image_writer.py:197 - writing: SOMEFOLDER/0538532/mask.nii\n"
     ]
    },
    {
     "name": "stderr",
     "output_type": "stream",
     "text": [
      " 87%|████████▋ | 346/397 [01:41<00:13,  3.82it/s]"
     ]
    },
    {
     "name": "stdout",
     "output_type": "stream",
     "text": [
      "2024-02-05 03:10:01,962 INFO image_writer.py:197 - writing: SOMEFOLDER/0538539/CT.nii\n",
      "2024-02-05 03:10:02,019 INFO image_writer.py:197 - writing: SOMEFOLDER/0538539/mask.nii\n"
     ]
    },
    {
     "name": "stderr",
     "output_type": "stream",
     "text": [
      " 87%|████████▋ | 347/397 [01:41<00:13,  3.78it/s]"
     ]
    },
    {
     "name": "stdout",
     "output_type": "stream",
     "text": [
      "2024-02-05 03:10:02,164 INFO image_writer.py:197 - writing: SOMEFOLDER/0538545/CT.nii\n",
      "2024-02-05 03:10:02,199 INFO image_writer.py:197 - writing: SOMEFOLDER/0538545/mask.nii\n"
     ]
    },
    {
     "name": "stderr",
     "output_type": "stream",
     "text": [
      " 88%|████████▊ | 348/397 [01:41<00:11,  4.09it/s]"
     ]
    },
    {
     "name": "stdout",
     "output_type": "stream",
     "text": [
      "2024-02-05 03:10:02,403 INFO image_writer.py:197 - writing: SOMEFOLDER/0538549/CT.nii\n",
      "2024-02-05 03:10:02,434 INFO image_writer.py:197 - writing: SOMEFOLDER/0538549/mask.nii\n"
     ]
    },
    {
     "name": "stderr",
     "output_type": "stream",
     "text": [
      " 88%|████████▊ | 349/397 [01:42<00:11,  4.23it/s]"
     ]
    },
    {
     "name": "stdout",
     "output_type": "stream",
     "text": [
      "2024-02-05 03:10:02,721 INFO image_writer.py:197 - writing: SOMEFOLDER/0538553/CT.nii\n",
      "2024-02-05 03:10:02,752 INFO image_writer.py:197 - writing: SOMEFOLDER/0538553/mask.nii\n"
     ]
    },
    {
     "name": "stderr",
     "output_type": "stream",
     "text": [
      " 88%|████████▊ | 350/397 [01:42<00:12,  3.82it/s]"
     ]
    },
    {
     "name": "stdout",
     "output_type": "stream",
     "text": [
      "2024-02-05 03:10:02,887 INFO image_writer.py:197 - writing: SOMEFOLDER/0538563/CT.nii\n",
      "2024-02-05 03:10:02,915 INFO image_writer.py:197 - writing: SOMEFOLDER/0538563/mask.nii\n"
     ]
    },
    {
     "name": "stderr",
     "output_type": "stream",
     "text": [
      " 88%|████████▊ | 351/397 [01:42<00:10,  4.34it/s]"
     ]
    },
    {
     "name": "stdout",
     "output_type": "stream",
     "text": [
      "2024-02-05 03:10:03,195 INFO image_writer.py:197 - writing: SOMEFOLDER/0538565/CT.nii\n",
      "2024-02-05 03:10:03,225 INFO image_writer.py:197 - writing: SOMEFOLDER/0538565/mask.nii\n"
     ]
    },
    {
     "name": "stderr",
     "output_type": "stream",
     "text": [
      " 89%|████████▊ | 352/397 [01:42<00:11,  3.92it/s]"
     ]
    },
    {
     "name": "stdout",
     "output_type": "stream",
     "text": [
      "2024-02-05 03:10:03,514 INFO image_writer.py:197 - writing: SOMEFOLDER/0538568/CT.nii\n",
      "2024-02-05 03:10:03,545 INFO image_writer.py:197 - writing: SOMEFOLDER/0538568/mask.nii\n"
     ]
    },
    {
     "name": "stderr",
     "output_type": "stream",
     "text": [
      " 89%|████████▉ | 353/397 [01:43<00:12,  3.65it/s]"
     ]
    },
    {
     "name": "stdout",
     "output_type": "stream",
     "text": [
      "2024-02-05 03:10:03,830 INFO image_writer.py:197 - writing: SOMEFOLDER/0538595/CT.nii\n",
      "2024-02-05 03:10:03,859 INFO image_writer.py:197 - writing: SOMEFOLDER/0538595/mask.nii\n"
     ]
    },
    {
     "name": "stderr",
     "output_type": "stream",
     "text": [
      " 89%|████████▉ | 354/397 [01:43<00:12,  3.47it/s]"
     ]
    },
    {
     "name": "stdout",
     "output_type": "stream",
     "text": [
      "2024-02-05 03:10:04,078 INFO image_writer.py:197 - writing: SOMEFOLDER/0538597/CT.nii\n",
      "2024-02-05 03:10:04,108 INFO image_writer.py:197 - writing: SOMEFOLDER/0538597/mask.nii\n"
     ]
    },
    {
     "name": "stderr",
     "output_type": "stream",
     "text": [
      " 89%|████████▉ | 355/397 [01:43<00:11,  3.64it/s]"
     ]
    },
    {
     "name": "stdout",
     "output_type": "stream",
     "text": [
      "2024-02-05 03:10:04,387 INFO image_writer.py:197 - writing: SOMEFOLDER/0538637/CT.nii\n",
      "2024-02-05 03:10:04,417 INFO image_writer.py:197 - writing: SOMEFOLDER/0538637/mask.nii\n"
     ]
    },
    {
     "name": "stderr",
     "output_type": "stream",
     "text": [
      " 90%|████████▉ | 356/397 [01:44<00:11,  3.52it/s]"
     ]
    },
    {
     "name": "stdout",
     "output_type": "stream",
     "text": [
      "2024-02-05 03:10:04,541 INFO image_writer.py:197 - writing: SOMEFOLDER/0538651/CT.nii\n",
      "2024-02-05 03:10:04,572 INFO image_writer.py:197 - writing: SOMEFOLDER/0538651/mask.nii\n"
     ]
    },
    {
     "name": "stderr",
     "output_type": "stream",
     "text": [
      " 90%|████████▉ | 357/397 [01:44<00:09,  4.05it/s]"
     ]
    },
    {
     "name": "stdout",
     "output_type": "stream",
     "text": [
      "2024-02-05 03:10:04,855 INFO image_writer.py:197 - writing: SOMEFOLDER/0538652/CT.nii\n",
      "2024-02-05 03:10:04,885 INFO image_writer.py:197 - writing: SOMEFOLDER/0538652/mask.nii\n"
     ]
    },
    {
     "name": "stderr",
     "output_type": "stream",
     "text": [
      " 90%|█████████ | 358/397 [01:44<00:10,  3.75it/s]"
     ]
    },
    {
     "name": "stdout",
     "output_type": "stream",
     "text": [
      "2024-02-05 03:10:05,034 INFO image_writer.py:197 - writing: SOMEFOLDER/0538673/CT.nii\n",
      "2024-02-05 03:10:05,062 INFO image_writer.py:197 - writing: SOMEFOLDER/0538673/mask.nii\n"
     ]
    },
    {
     "name": "stderr",
     "output_type": "stream",
     "text": [
      " 90%|█████████ | 359/397 [01:44<00:09,  4.21it/s]"
     ]
    },
    {
     "name": "stdout",
     "output_type": "stream",
     "text": [
      "2024-02-05 03:10:05,206 INFO image_writer.py:197 - writing: SOMEFOLDER/0538680/CT.nii\n",
      "2024-02-05 03:10:05,243 INFO image_writer.py:197 - writing: SOMEFOLDER/0538680/mask.nii\n"
     ]
    },
    {
     "name": "stderr",
     "output_type": "stream",
     "text": [
      " 91%|█████████ | 360/397 [01:44<00:08,  4.50it/s]"
     ]
    },
    {
     "name": "stdout",
     "output_type": "stream",
     "text": [
      "2024-02-05 03:10:05,363 INFO image_writer.py:197 - writing: SOMEFOLDER/0538682/CT.nii\n",
      "2024-02-05 03:10:05,392 INFO image_writer.py:197 - writing: SOMEFOLDER/0538682/mask.nii\n"
     ]
    },
    {
     "name": "stderr",
     "output_type": "stream",
     "text": [
      " 91%|█████████ | 361/397 [01:45<00:07,  5.00it/s]"
     ]
    },
    {
     "name": "stdout",
     "output_type": "stream",
     "text": [
      "2024-02-05 03:10:05,784 INFO image_writer.py:197 - writing: SOMEFOLDER/0538695/CT.nii\n",
      "2024-02-05 03:10:05,813 INFO image_writer.py:197 - writing: SOMEFOLDER/0538695/mask.nii\n"
     ]
    },
    {
     "name": "stderr",
     "output_type": "stream",
     "text": [
      " 91%|█████████ | 362/397 [01:45<00:09,  3.74it/s]"
     ]
    },
    {
     "name": "stdout",
     "output_type": "stream",
     "text": [
      "2024-02-05 03:10:05,949 INFO image_writer.py:197 - writing: SOMEFOLDER/0538705/CT.nii\n",
      "2024-02-05 03:10:05,982 INFO image_writer.py:197 - writing: SOMEFOLDER/0538705/mask.nii\n"
     ]
    },
    {
     "name": "stderr",
     "output_type": "stream",
     "text": [
      " 91%|█████████▏| 363/397 [01:45<00:08,  4.23it/s]"
     ]
    },
    {
     "name": "stdout",
     "output_type": "stream",
     "text": [
      "2024-02-05 03:10:06,153 INFO image_writer.py:197 - writing: SOMEFOLDER/0538706/CT.nii\n",
      "2024-02-05 03:10:06,181 INFO image_writer.py:197 - writing: SOMEFOLDER/0538706/mask.nii\n"
     ]
    },
    {
     "name": "stderr",
     "output_type": "stream",
     "text": [
      " 92%|█████████▏| 364/397 [01:45<00:07,  4.44it/s]"
     ]
    },
    {
     "name": "stdout",
     "output_type": "stream",
     "text": [
      "2024-02-05 03:10:06,464 INFO image_writer.py:197 - writing: SOMEFOLDER/0538724/CT.nii\n",
      "2024-02-05 03:10:06,499 INFO image_writer.py:197 - writing: SOMEFOLDER/0538724/mask.nii\n"
     ]
    },
    {
     "name": "stderr",
     "output_type": "stream",
     "text": [
      " 92%|█████████▏| 365/397 [01:46<00:08,  3.93it/s]"
     ]
    },
    {
     "name": "stdout",
     "output_type": "stream",
     "text": [
      "2024-02-05 03:10:06,645 INFO image_writer.py:197 - writing: SOMEFOLDER/0538735/CT.nii\n",
      "2024-02-05 03:10:06,678 INFO image_writer.py:197 - writing: SOMEFOLDER/0538735/mask.nii\n"
     ]
    },
    {
     "name": "stderr",
     "output_type": "stream",
     "text": [
      " 92%|█████████▏| 366/397 [01:46<00:07,  4.29it/s]"
     ]
    },
    {
     "name": "stdout",
     "output_type": "stream",
     "text": [
      "2024-02-05 03:10:06,822 INFO image_writer.py:197 - writing: SOMEFOLDER/0538749/CT.nii\n",
      "2024-02-05 03:10:06,854 INFO image_writer.py:197 - writing: SOMEFOLDER/0538749/mask.nii\n"
     ]
    },
    {
     "name": "stderr",
     "output_type": "stream",
     "text": [
      " 92%|█████████▏| 367/397 [01:46<00:06,  4.62it/s]"
     ]
    },
    {
     "name": "stdout",
     "output_type": "stream",
     "text": [
      "2024-02-05 03:10:07,034 INFO image_writer.py:197 - writing: SOMEFOLDER/0538750/CT.nii\n",
      "2024-02-05 03:10:07,069 INFO image_writer.py:197 - writing: SOMEFOLDER/0538750/mask.nii\n"
     ]
    },
    {
     "name": "stderr",
     "output_type": "stream",
     "text": [
      " 93%|█████████▎| 368/397 [01:46<00:06,  4.67it/s]"
     ]
    },
    {
     "name": "stdout",
     "output_type": "stream",
     "text": [
      "2024-02-05 03:10:07,233 INFO image_writer.py:197 - writing: SOMEFOLDER/0538762/CT.nii\n",
      "2024-02-05 03:10:07,267 INFO image_writer.py:197 - writing: SOMEFOLDER/0538762/mask.nii\n"
     ]
    },
    {
     "name": "stderr",
     "output_type": "stream",
     "text": [
      " 93%|█████████▎| 369/397 [01:46<00:05,  4.73it/s]"
     ]
    },
    {
     "name": "stdout",
     "output_type": "stream",
     "text": [
      "2024-02-05 03:10:07,473 INFO image_writer.py:197 - writing: SOMEFOLDER/0538763/CT.nii\n",
      "2024-02-05 03:10:07,502 INFO image_writer.py:197 - writing: SOMEFOLDER/0538763/mask.nii\n"
     ]
    },
    {
     "name": "stderr",
     "output_type": "stream",
     "text": [
      " 93%|█████████▎| 370/397 [01:47<00:05,  4.60it/s]"
     ]
    },
    {
     "name": "stdout",
     "output_type": "stream",
     "text": [
      "2024-02-05 03:10:07,645 INFO image_writer.py:197 - writing: SOMEFOLDER/0538774/CT.nii\n",
      "2024-02-05 03:10:07,677 INFO image_writer.py:197 - writing: SOMEFOLDER/0538774/mask.nii\n"
     ]
    },
    {
     "name": "stderr",
     "output_type": "stream",
     "text": [
      " 93%|█████████▎| 371/397 [01:47<00:05,  4.96it/s]"
     ]
    },
    {
     "name": "stdout",
     "output_type": "stream",
     "text": [
      "2024-02-05 03:10:07,809 INFO image_writer.py:197 - writing: SOMEFOLDER/0538779/CT.nii\n",
      "2024-02-05 03:10:07,852 INFO image_writer.py:197 - writing: SOMEFOLDER/0538779/mask.nii\n"
     ]
    },
    {
     "name": "stderr",
     "output_type": "stream",
     "text": [
      " 94%|█████████▎| 372/397 [01:47<00:04,  5.11it/s]"
     ]
    },
    {
     "name": "stdout",
     "output_type": "stream",
     "text": [
      "2024-02-05 03:10:08,159 INFO image_writer.py:197 - writing: SOMEFOLDER/0538780/CT.nii\n",
      "2024-02-05 03:10:08,194 INFO image_writer.py:197 - writing: SOMEFOLDER/0538780/mask.nii\n"
     ]
    },
    {
     "name": "stderr",
     "output_type": "stream",
     "text": [
      " 94%|█████████▍| 373/397 [01:47<00:05,  4.19it/s]"
     ]
    },
    {
     "name": "stdout",
     "output_type": "stream",
     "text": [
      "2024-02-05 03:10:08,528 INFO image_writer.py:197 - writing: SOMEFOLDER/0538792/CT.nii\n",
      "2024-02-05 03:10:08,617 INFO image_writer.py:197 - writing: SOMEFOLDER/0538792/mask.nii\n"
     ]
    },
    {
     "name": "stderr",
     "output_type": "stream",
     "text": [
      " 94%|█████████▍| 374/397 [01:48<00:06,  3.30it/s]"
     ]
    },
    {
     "name": "stdout",
     "output_type": "stream",
     "text": [
      "2024-02-05 03:10:08,987 INFO image_writer.py:197 - writing: SOMEFOLDER/0538799/CT.nii\n",
      "2024-02-05 03:10:09,027 INFO image_writer.py:197 - writing: SOMEFOLDER/0538799/mask.nii\n"
     ]
    },
    {
     "name": "stderr",
     "output_type": "stream",
     "text": [
      " 94%|█████████▍| 375/397 [01:48<00:07,  3.01it/s]"
     ]
    },
    {
     "name": "stdout",
     "output_type": "stream",
     "text": [
      "2024-02-05 03:10:09,167 INFO image_writer.py:197 - writing: SOMEFOLDER/0538805/CT.nii\n",
      "2024-02-05 03:10:09,200 INFO image_writer.py:197 - writing: SOMEFOLDER/0538805/mask.nii\n"
     ]
    },
    {
     "name": "stderr",
     "output_type": "stream",
     "text": [
      " 95%|█████████▍| 376/397 [01:48<00:05,  3.61it/s]"
     ]
    },
    {
     "name": "stdout",
     "output_type": "stream",
     "text": [
      "2024-02-05 03:10:09,469 INFO image_writer.py:197 - writing: SOMEFOLDER/0538811/CT.nii\n",
      "2024-02-05 03:10:09,501 INFO image_writer.py:197 - writing: SOMEFOLDER/0538811/mask.nii\n"
     ]
    },
    {
     "name": "stderr",
     "output_type": "stream",
     "text": [
      " 95%|█████████▍| 377/397 [01:49<00:05,  3.50it/s]"
     ]
    },
    {
     "name": "stdout",
     "output_type": "stream",
     "text": [
      "2024-02-05 03:10:09,637 INFO image_writer.py:197 - writing: SOMEFOLDER/0538833/CT.nii\n",
      "2024-02-05 03:10:09,668 INFO image_writer.py:197 - writing: SOMEFOLDER/0538833/mask.nii\n"
     ]
    },
    {
     "name": "stderr",
     "output_type": "stream",
     "text": [
      " 95%|█████████▌| 378/397 [01:49<00:04,  4.01it/s]"
     ]
    },
    {
     "name": "stdout",
     "output_type": "stream",
     "text": [
      "2024-02-05 03:10:09,852 INFO image_writer.py:197 - writing: SOMEFOLDER/0538835/CT.nii\n",
      "2024-02-05 03:10:09,884 INFO image_writer.py:197 - writing: SOMEFOLDER/0538835/mask.nii\n"
     ]
    },
    {
     "name": "stderr",
     "output_type": "stream",
     "text": [
      " 95%|█████████▌| 379/397 [01:49<00:04,  4.17it/s]"
     ]
    },
    {
     "name": "stdout",
     "output_type": "stream",
     "text": [
      "2024-02-05 03:10:10,175 INFO image_writer.py:197 - writing: SOMEFOLDER/0538895/CT.nii\n",
      "2024-02-05 03:10:10,231 INFO image_writer.py:197 - writing: SOMEFOLDER/0538895/mask.nii\n"
     ]
    },
    {
     "name": "stderr",
     "output_type": "stream",
     "text": [
      " 96%|█████████▌| 380/397 [01:49<00:04,  3.58it/s]"
     ]
    },
    {
     "name": "stdout",
     "output_type": "stream",
     "text": [
      "2024-02-05 03:10:10,410 INFO image_writer.py:197 - writing: SOMEFOLDER/0538911/CT.nii\n",
      "2024-02-05 03:10:10,453 INFO image_writer.py:197 - writing: SOMEFOLDER/0538911/mask.nii\n"
     ]
    },
    {
     "name": "stderr",
     "output_type": "stream",
     "text": [
      " 96%|█████████▌| 381/397 [01:50<00:04,  3.87it/s]"
     ]
    },
    {
     "name": "stdout",
     "output_type": "stream",
     "text": [
      "2024-02-05 03:10:10,742 INFO image_writer.py:197 - writing: SOMEFOLDER/0538919/CT.nii\n",
      "2024-02-05 03:10:10,775 INFO image_writer.py:197 - writing: SOMEFOLDER/0538919/mask.nii\n"
     ]
    },
    {
     "name": "stderr",
     "output_type": "stream",
     "text": [
      " 96%|█████████▌| 382/397 [01:50<00:04,  3.61it/s]"
     ]
    },
    {
     "name": "stdout",
     "output_type": "stream",
     "text": [
      "2024-02-05 03:10:10,929 INFO image_writer.py:197 - writing: SOMEFOLDER/0538928/CT.nii\n",
      "2024-02-05 03:10:10,961 INFO image_writer.py:197 - writing: SOMEFOLDER/0538928/mask.nii\n"
     ]
    },
    {
     "name": "stderr",
     "output_type": "stream",
     "text": [
      " 96%|█████████▋| 383/397 [01:50<00:03,  3.97it/s]"
     ]
    },
    {
     "name": "stdout",
     "output_type": "stream",
     "text": [
      "2024-02-05 03:10:11,126 INFO image_writer.py:197 - writing: SOMEFOLDER/0538941/CT.nii\n",
      "2024-02-05 03:10:11,164 INFO image_writer.py:197 - writing: SOMEFOLDER/0538941/mask.nii\n"
     ]
    },
    {
     "name": "stderr",
     "output_type": "stream",
     "text": [
      " 97%|█████████▋| 384/397 [01:50<00:03,  4.33it/s]"
     ]
    },
    {
     "name": "stdout",
     "output_type": "stream",
     "text": [
      "2024-02-05 03:10:11,305 INFO image_writer.py:197 - writing: SOMEFOLDER/0538942/CT.nii\n",
      "2024-02-05 03:10:11,340 INFO image_writer.py:197 - writing: SOMEFOLDER/0538942/mask.nii\n"
     ]
    },
    {
     "name": "stderr",
     "output_type": "stream",
     "text": [
      " 97%|█████████▋| 385/397 [01:50<00:02,  4.65it/s]"
     ]
    },
    {
     "name": "stdout",
     "output_type": "stream",
     "text": [
      "2024-02-05 03:10:11,511 INFO image_writer.py:197 - writing: SOMEFOLDER/0538948/CT.nii\n",
      "2024-02-05 03:10:11,544 INFO image_writer.py:197 - writing: SOMEFOLDER/0538948/mask.nii\n"
     ]
    },
    {
     "name": "stderr",
     "output_type": "stream",
     "text": [
      " 97%|█████████▋| 386/397 [01:51<00:02,  4.61it/s]"
     ]
    },
    {
     "name": "stdout",
     "output_type": "stream",
     "text": [
      "2024-02-05 03:10:11,981 INFO image_writer.py:197 - writing: SOMEFOLDER/0538963/CT.nii\n",
      "2024-02-05 03:10:12,035 INFO image_writer.py:197 - writing: SOMEFOLDER/0538963/mask.nii\n"
     ]
    },
    {
     "name": "stderr",
     "output_type": "stream",
     "text": [
      " 97%|█████████▋| 387/397 [01:51<00:02,  3.36it/s]"
     ]
    },
    {
     "name": "stdout",
     "output_type": "stream",
     "text": [
      "2024-02-05 03:10:12,194 INFO image_writer.py:197 - writing: SOMEFOLDER/0538971/CT.nii\n",
      "2024-02-05 03:10:12,230 INFO image_writer.py:197 - writing: SOMEFOLDER/0538971/mask.nii\n"
     ]
    },
    {
     "name": "stderr",
     "output_type": "stream",
     "text": [
      " 98%|█████████▊| 388/397 [01:51<00:02,  3.76it/s]"
     ]
    },
    {
     "name": "stdout",
     "output_type": "stream",
     "text": [
      "2024-02-05 03:10:12,384 INFO image_writer.py:197 - writing: SOMEFOLDER/0538975/CT.nii\n",
      "2024-02-05 03:10:12,416 INFO image_writer.py:197 - writing: SOMEFOLDER/0538975/mask.nii\n"
     ]
    },
    {
     "name": "stderr",
     "output_type": "stream",
     "text": [
      " 98%|█████████▊| 389/397 [01:52<00:01,  4.02it/s]"
     ]
    },
    {
     "name": "stdout",
     "output_type": "stream",
     "text": [
      "2024-02-05 03:10:12,753 INFO image_writer.py:197 - writing: SOMEFOLDER/0538983/CT.nii\n",
      "2024-02-05 03:10:12,799 INFO image_writer.py:197 - writing: SOMEFOLDER/0538983/mask.nii\n"
     ]
    },
    {
     "name": "stderr",
     "output_type": "stream",
     "text": [
      " 98%|█████████▊| 390/397 [01:52<00:01,  3.58it/s]"
     ]
    },
    {
     "name": "stdout",
     "output_type": "stream",
     "text": [
      "2024-02-05 03:10:13,148 INFO image_writer.py:197 - writing: SOMEFOLDER/0538992/CT.nii\n",
      "2024-02-05 03:10:13,218 INFO image_writer.py:197 - writing: SOMEFOLDER/0538992/mask.nii\n"
     ]
    },
    {
     "name": "stderr",
     "output_type": "stream",
     "text": [
      " 98%|█████████▊| 391/397 [01:52<00:01,  3.08it/s]"
     ]
    },
    {
     "name": "stdout",
     "output_type": "stream",
     "text": [
      "2024-02-05 03:10:13,476 INFO image_writer.py:197 - writing: SOMEFOLDER/0539001/CT.nii\n",
      "2024-02-05 03:10:13,511 INFO image_writer.py:197 - writing: SOMEFOLDER/0539001/mask.nii\n"
     ]
    },
    {
     "name": "stderr",
     "output_type": "stream",
     "text": [
      " 99%|█████████▊| 392/397 [01:53<00:01,  3.19it/s]"
     ]
    },
    {
     "name": "stdout",
     "output_type": "stream",
     "text": [
      "2024-02-05 03:10:13,666 INFO image_writer.py:197 - writing: SOMEFOLDER/0539004/CT.nii\n",
      "2024-02-05 03:10:13,698 INFO image_writer.py:197 - writing: SOMEFOLDER/0539004/mask.nii\n"
     ]
    },
    {
     "name": "stderr",
     "output_type": "stream",
     "text": [
      " 99%|█████████▉| 393/397 [01:53<00:01,  3.65it/s]"
     ]
    },
    {
     "name": "stdout",
     "output_type": "stream",
     "text": [
      "2024-02-05 03:10:13,828 INFO image_writer.py:197 - writing: SOMEFOLDER/0539021/CT.nii\n",
      "2024-02-05 03:10:13,864 INFO image_writer.py:197 - writing: SOMEFOLDER/0539021/mask.nii\n"
     ]
    },
    {
     "name": "stderr",
     "output_type": "stream",
     "text": [
      " 99%|█████████▉| 394/397 [01:53<00:00,  4.13it/s]"
     ]
    },
    {
     "name": "stdout",
     "output_type": "stream",
     "text": [
      "2024-02-05 03:10:14,142 INFO image_writer.py:197 - writing: SOMEFOLDER/0539025/CT.nii\n",
      "2024-02-05 03:10:14,171 INFO image_writer.py:197 - writing: SOMEFOLDER/0539025/mask.nii\n"
     ]
    },
    {
     "name": "stderr",
     "output_type": "stream",
     "text": [
      " 99%|█████████▉| 395/397 [01:53<00:00,  3.80it/s]"
     ]
    },
    {
     "name": "stdout",
     "output_type": "stream",
     "text": [
      "2024-02-05 03:10:14,316 INFO image_writer.py:197 - writing: SOMEFOLDER/0539035/CT.nii\n",
      "2024-02-05 03:10:14,347 INFO image_writer.py:197 - writing: SOMEFOLDER/0539035/mask.nii\n"
     ]
    },
    {
     "name": "stderr",
     "output_type": "stream",
     "text": [
      "100%|█████████▉| 396/397 [01:53<00:00,  4.25it/s]"
     ]
    },
    {
     "name": "stdout",
     "output_type": "stream",
     "text": [
      "2024-02-05 03:10:14,499 INFO image_writer.py:197 - writing: SOMEFOLDER/0539043/CT.nii\n",
      "2024-02-05 03:10:14,531 INFO image_writer.py:197 - writing: SOMEFOLDER/0539043/mask.nii\n"
     ]
    },
    {
     "name": "stderr",
     "output_type": "stream",
     "text": [
      "100%|██████████| 397/397 [01:54<00:00,  3.48it/s]\n"
     ]
    }
   ],
   "source": [
    "\n",
    "for data in tqdm(check_ds):\n",
    "    image = data['image']\n",
    "    label = data['label']\n",
    "    id = image.meta['filename_or_obj'].split(\"/\")[-2]\n",
    "    Path(f\"SOMEFOLDER/{id}\").mkdir(parents=True, exist_ok=True)\n",
    "    saver(image, filename=f\"SOMEFOLDER/{id}/CT\")\n",
    "    saver(label, filename=f\"SOMEFOLDER/{id}/mask\")"
   ]
  },
  {
   "cell_type": "code",
   "execution_count": 28,
   "metadata": {},
   "outputs": [
    {
     "ename": "FileNotFoundError",
     "evalue": "[Errno 2] No such file or directory: 'label'",
     "output_type": "error",
     "traceback": [
      "\u001b[0;31m---------------------------------------------------------------------------\u001b[0m",
      "\u001b[0;31mFileNotFoundError\u001b[0m                         Traceback (most recent call last)",
      "Cell \u001b[0;32mIn[28], line 1\u001b[0m\n\u001b[0;32m----> 1\u001b[0m data_dicts \u001b[38;5;241m=\u001b[39m \u001b[43mloader\u001b[49m\u001b[43m(\u001b[49m\u001b[43mdata_dicts\u001b[49m\u001b[43m)\u001b[49m\n",
      "File \u001b[0;32m~/projects/MICCAI22_ADN/venv/lib/python3.10/site-packages/monai/transforms/io/dictionary.py:162\u001b[0m, in \u001b[0;36mLoadImaged.__call__\u001b[0;34m(self, data, reader)\u001b[0m\n\u001b[1;32m    160\u001b[0m d \u001b[38;5;241m=\u001b[39m \u001b[38;5;28mdict\u001b[39m(data)\n\u001b[1;32m    161\u001b[0m \u001b[38;5;28;01mfor\u001b[39;00m key, meta_key, meta_key_postfix \u001b[38;5;129;01min\u001b[39;00m \u001b[38;5;28mself\u001b[39m\u001b[38;5;241m.\u001b[39mkey_iterator(d, \u001b[38;5;28mself\u001b[39m\u001b[38;5;241m.\u001b[39mmeta_keys, \u001b[38;5;28mself\u001b[39m\u001b[38;5;241m.\u001b[39mmeta_key_postfix):\n\u001b[0;32m--> 162\u001b[0m     data \u001b[38;5;241m=\u001b[39m \u001b[38;5;28;43mself\u001b[39;49m\u001b[38;5;241;43m.\u001b[39;49m\u001b[43m_loader\u001b[49m\u001b[43m(\u001b[49m\u001b[43md\u001b[49m\u001b[43m[\u001b[49m\u001b[43mkey\u001b[49m\u001b[43m]\u001b[49m\u001b[43m,\u001b[49m\u001b[43m \u001b[49m\u001b[43mreader\u001b[49m\u001b[43m)\u001b[49m\n\u001b[1;32m    163\u001b[0m     \u001b[38;5;28;01mif\u001b[39;00m \u001b[38;5;28mself\u001b[39m\u001b[38;5;241m.\u001b[39m_loader\u001b[38;5;241m.\u001b[39mimage_only:\n\u001b[1;32m    164\u001b[0m         d[key] \u001b[38;5;241m=\u001b[39m data\n",
      "File \u001b[0;32m~/projects/MICCAI22_ADN/venv/lib/python3.10/site-packages/monai/transforms/io/array.py:255\u001b[0m, in \u001b[0;36mLoadImage.__call__\u001b[0;34m(self, filename, reader)\u001b[0m\n\u001b[1;32m    253\u001b[0m \u001b[38;5;28;01mif\u001b[39;00m \u001b[38;5;28mself\u001b[39m\u001b[38;5;241m.\u001b[39mauto_select:  \u001b[38;5;66;03m# rely on the filename extension to choose the reader\u001b[39;00m\n\u001b[1;32m    254\u001b[0m     \u001b[38;5;28;01mif\u001b[39;00m reader\u001b[38;5;241m.\u001b[39mverify_suffix(filename):\n\u001b[0;32m--> 255\u001b[0m         img \u001b[38;5;241m=\u001b[39m \u001b[43mreader\u001b[49m\u001b[38;5;241;43m.\u001b[39;49m\u001b[43mread\u001b[49m\u001b[43m(\u001b[49m\u001b[43mfilename\u001b[49m\u001b[43m)\u001b[49m\n\u001b[1;32m    256\u001b[0m         \u001b[38;5;28;01mbreak\u001b[39;00m\n\u001b[1;32m    257\u001b[0m \u001b[38;5;28;01melse\u001b[39;00m:  \u001b[38;5;66;03m# try the user designated readers\u001b[39;00m\n",
      "File \u001b[0;32m~/projects/MICCAI22_ADN/venv/lib/python3.10/site-packages/monai/data/image_reader.py:477\u001b[0m, in \u001b[0;36mPydicomReader.read\u001b[0;34m(self, data, **kwargs)\u001b[0m\n\u001b[1;32m    475\u001b[0m             \u001b[38;5;28mself\u001b[39m\u001b[38;5;241m.\u001b[39mhas_series \u001b[38;5;241m=\u001b[39m \u001b[38;5;28;01mTrue\u001b[39;00m\n\u001b[1;32m    476\u001b[0m     \u001b[38;5;28;01melse\u001b[39;00m:\n\u001b[0;32m--> 477\u001b[0m         ds \u001b[38;5;241m=\u001b[39m \u001b[43mpydicom\u001b[49m\u001b[38;5;241;43m.\u001b[39;49m\u001b[43mdcmread\u001b[49m\u001b[43m(\u001b[49m\u001b[43mfp\u001b[49m\u001b[38;5;241;43m=\u001b[39;49m\u001b[43mname\u001b[49m\u001b[43m,\u001b[49m\u001b[43m \u001b[49m\u001b[38;5;241;43m*\u001b[39;49m\u001b[38;5;241;43m*\u001b[39;49m\u001b[43mkwargs_\u001b[49m\u001b[43m)\u001b[49m\n\u001b[1;32m    478\u001b[0m         img_\u001b[38;5;241m.\u001b[39mappend(ds)\n\u001b[1;32m    479\u001b[0m \u001b[38;5;28;01mreturn\u001b[39;00m img_ \u001b[38;5;28;01mif\u001b[39;00m \u001b[38;5;28mlen\u001b[39m(filenames) \u001b[38;5;241m>\u001b[39m \u001b[38;5;241m1\u001b[39m \u001b[38;5;28;01melse\u001b[39;00m img_[\u001b[38;5;241m0\u001b[39m]\n",
      "File \u001b[0;32m~/projects/MICCAI22_ADN/venv/lib/python3.10/site-packages/pydicom/filereader.py:1002\u001b[0m, in \u001b[0;36mdcmread\u001b[0;34m(fp, defer_size, stop_before_pixels, force, specific_tags)\u001b[0m\n\u001b[1;32m   1000\u001b[0m     caller_owns_file \u001b[38;5;241m=\u001b[39m \u001b[38;5;28;01mFalse\u001b[39;00m\n\u001b[1;32m   1001\u001b[0m     logger\u001b[38;5;241m.\u001b[39mdebug(\u001b[38;5;124m\"\u001b[39m\u001b[38;5;124mReading file \u001b[39m\u001b[38;5;124m'\u001b[39m\u001b[38;5;132;01m{0}\u001b[39;00m\u001b[38;5;124m'\u001b[39m\u001b[38;5;124m\"\u001b[39m\u001b[38;5;241m.\u001b[39mformat(fp))\n\u001b[0;32m-> 1002\u001b[0m     fp \u001b[38;5;241m=\u001b[39m \u001b[38;5;28;43mopen\u001b[39;49m\u001b[43m(\u001b[49m\u001b[43mfp\u001b[49m\u001b[43m,\u001b[49m\u001b[43m \u001b[49m\u001b[38;5;124;43m'\u001b[39;49m\u001b[38;5;124;43mrb\u001b[39;49m\u001b[38;5;124;43m'\u001b[39;49m\u001b[43m)\u001b[49m\n\u001b[1;32m   1003\u001b[0m \u001b[38;5;28;01melif\u001b[39;00m fp \u001b[38;5;129;01mis\u001b[39;00m \u001b[38;5;28;01mNone\u001b[39;00m \u001b[38;5;129;01mor\u001b[39;00m \u001b[38;5;129;01mnot\u001b[39;00m \u001b[38;5;28mhasattr\u001b[39m(fp, \u001b[38;5;124m\"\u001b[39m\u001b[38;5;124mread\u001b[39m\u001b[38;5;124m\"\u001b[39m) \u001b[38;5;129;01mor\u001b[39;00m \u001b[38;5;129;01mnot\u001b[39;00m \u001b[38;5;28mhasattr\u001b[39m(fp, \u001b[38;5;124m\"\u001b[39m\u001b[38;5;124mseek\u001b[39m\u001b[38;5;124m\"\u001b[39m):\n\u001b[1;32m   1004\u001b[0m     \u001b[38;5;28;01mraise\u001b[39;00m \u001b[38;5;167;01mTypeError\u001b[39;00m(\u001b[38;5;124m\"\u001b[39m\u001b[38;5;124mdcmread: Expected a file path or a file-like, \u001b[39m\u001b[38;5;124m\"\u001b[39m\n\u001b[1;32m   1005\u001b[0m                     \u001b[38;5;124m\"\u001b[39m\u001b[38;5;124mbut got \u001b[39m\u001b[38;5;124m\"\u001b[39m \u001b[38;5;241m+\u001b[39m \u001b[38;5;28mtype\u001b[39m(fp)\u001b[38;5;241m.\u001b[39m\u001b[38;5;18m__name__\u001b[39m)\n",
      "\u001b[0;31mFileNotFoundError\u001b[0m: [Errno 2] No such file or directory: 'label'"
     ]
    }
   ],
   "source": [
    "data_dicts = loader(data_dicts)"
   ]
  },
  {
   "cell_type": "code",
   "execution_count": 23,
   "metadata": {},
   "outputs": [
    {
     "data": {
      "text/plain": [
       "4"
      ]
     },
     "execution_count": 23,
     "metadata": {},
     "output_type": "execute_result"
    }
   ],
   "source": [
    "len(data_dicts)"
   ]
  },
  {
   "cell_type": "code",
   "execution_count": 20,
   "metadata": {},
   "outputs": [
    {
     "ename": "NameError",
     "evalue": "name 'data_dict' is not defined",
     "output_type": "error",
     "traceback": [
      "\u001b[0;31m---------------------------------------------------------------------------\u001b[0m",
      "\u001b[0;31mNameError\u001b[0m                                 Traceback (most recent call last)",
      "Cell \u001b[0;32mIn[20], line 2\u001b[0m\n\u001b[1;32m      1\u001b[0m ensure_channel_first \u001b[38;5;241m=\u001b[39m EnsureChannelFirstd(keys\u001b[38;5;241m=\u001b[39m[\u001b[38;5;124m\"\u001b[39m\u001b[38;5;124mimage\u001b[39m\u001b[38;5;124m\"\u001b[39m, \u001b[38;5;124m\"\u001b[39m\u001b[38;5;124mlabel\u001b[39m\u001b[38;5;124m\"\u001b[39m])\n\u001b[0;32m----> 2\u001b[0m datac_dict \u001b[38;5;241m=\u001b[39m ensure_channel_first(\u001b[43mdata_dict\u001b[49m)\n\u001b[1;32m      3\u001b[0m \u001b[38;5;28mprint\u001b[39m(\u001b[38;5;124mf\u001b[39m\u001b[38;5;124m\"\u001b[39m\u001b[38;5;124mimage shape: \u001b[39m\u001b[38;5;132;01m{\u001b[39;00mdatac_dict[\u001b[38;5;124m'\u001b[39m\u001b[38;5;124mimage\u001b[39m\u001b[38;5;124m'\u001b[39m]\u001b[38;5;241m.\u001b[39mshape\u001b[38;5;132;01m}\u001b[39;00m\u001b[38;5;124m\"\u001b[39m)\n",
      "\u001b[0;31mNameError\u001b[0m: name 'data_dict' is not defined"
     ]
    }
   ],
   "source": [
    "ensure_channel_first = EnsureChannelFirstd(keys=[\"image\", \"label\"])\n",
    "datac_dict = ensure_channel_first(data_dict)\n",
    "print(f\"image shape: {datac_dict['image'].shape}\")"
   ]
  },
  {
   "cell_type": "code",
   "execution_count": null,
   "metadata": {},
   "outputs": [],
   "source": []
  }
 ],
 "metadata": {
  "kernelspec": {
   "display_name": "Python 3",
   "language": "python",
   "name": "python3"
  },
  "language_info": {
   "codemirror_mode": {
    "name": "ipython",
    "version": 3
   },
   "file_extension": ".py",
   "mimetype": "text/x-python",
   "name": "python",
   "nbconvert_exporter": "python",
   "pygments_lexer": "ipython3",
   "version": "3.10.12"
  }
 },
 "nbformat": 4,
 "nbformat_minor": 2
}
